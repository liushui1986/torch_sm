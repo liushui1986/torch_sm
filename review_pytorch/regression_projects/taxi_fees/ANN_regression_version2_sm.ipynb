{
 "cells": [
  {
   "cell_type": "code",
   "execution_count": 1,
   "id": "0af92e97-445d-4903-8a59-d8e009f0ff49",
   "metadata": {},
   "outputs": [],
   "source": [
    "import torch\n",
    "import torch.nn as nn\n",
    "import numpy as np\n",
    "import pandas as pd\n",
    "import matplotlib.pyplot as plt\n",
    "%matplotlib inline"
   ]
  },
  {
   "cell_type": "code",
   "execution_count": 2,
   "id": "c44995cc-4633-40f0-9fd5-ccef516729ce",
   "metadata": {},
   "outputs": [],
   "source": [
    "df = pd.read_csv('../Data/NYCTaxiFares.csv')"
   ]
  },
  {
   "cell_type": "code",
   "execution_count": 3,
   "id": "1a030308-631a-4490-89b2-0b08a97008a3",
   "metadata": {},
   "outputs": [
    {
     "data": {
      "text/html": [
       "<div>\n",
       "<style scoped>\n",
       "    .dataframe tbody tr th:only-of-type {\n",
       "        vertical-align: middle;\n",
       "    }\n",
       "\n",
       "    .dataframe tbody tr th {\n",
       "        vertical-align: top;\n",
       "    }\n",
       "\n",
       "    .dataframe thead th {\n",
       "        text-align: right;\n",
       "    }\n",
       "</style>\n",
       "<table border=\"1\" class=\"dataframe\">\n",
       "  <thead>\n",
       "    <tr style=\"text-align: right;\">\n",
       "      <th></th>\n",
       "      <th>pickup_datetime</th>\n",
       "      <th>fare_amount</th>\n",
       "      <th>fare_class</th>\n",
       "      <th>pickup_longitude</th>\n",
       "      <th>pickup_latitude</th>\n",
       "      <th>dropoff_longitude</th>\n",
       "      <th>dropoff_latitude</th>\n",
       "      <th>passenger_count</th>\n",
       "    </tr>\n",
       "  </thead>\n",
       "  <tbody>\n",
       "    <tr>\n",
       "      <th>0</th>\n",
       "      <td>2010-04-19 08:17:56 UTC</td>\n",
       "      <td>6.5</td>\n",
       "      <td>0</td>\n",
       "      <td>-73.992365</td>\n",
       "      <td>40.730521</td>\n",
       "      <td>-73.975499</td>\n",
       "      <td>40.744746</td>\n",
       "      <td>1</td>\n",
       "    </tr>\n",
       "    <tr>\n",
       "      <th>1</th>\n",
       "      <td>2010-04-17 15:43:53 UTC</td>\n",
       "      <td>6.9</td>\n",
       "      <td>0</td>\n",
       "      <td>-73.990078</td>\n",
       "      <td>40.740558</td>\n",
       "      <td>-73.974232</td>\n",
       "      <td>40.744114</td>\n",
       "      <td>1</td>\n",
       "    </tr>\n",
       "    <tr>\n",
       "      <th>2</th>\n",
       "      <td>2010-04-17 11:23:26 UTC</td>\n",
       "      <td>10.1</td>\n",
       "      <td>1</td>\n",
       "      <td>-73.994149</td>\n",
       "      <td>40.751118</td>\n",
       "      <td>-73.960064</td>\n",
       "      <td>40.766235</td>\n",
       "      <td>2</td>\n",
       "    </tr>\n",
       "    <tr>\n",
       "      <th>3</th>\n",
       "      <td>2010-04-11 21:25:03 UTC</td>\n",
       "      <td>8.9</td>\n",
       "      <td>0</td>\n",
       "      <td>-73.990485</td>\n",
       "      <td>40.756422</td>\n",
       "      <td>-73.971205</td>\n",
       "      <td>40.748192</td>\n",
       "      <td>1</td>\n",
       "    </tr>\n",
       "    <tr>\n",
       "      <th>4</th>\n",
       "      <td>2010-04-17 02:19:01 UTC</td>\n",
       "      <td>19.7</td>\n",
       "      <td>1</td>\n",
       "      <td>-73.990976</td>\n",
       "      <td>40.734202</td>\n",
       "      <td>-73.905956</td>\n",
       "      <td>40.743115</td>\n",
       "      <td>1</td>\n",
       "    </tr>\n",
       "  </tbody>\n",
       "</table>\n",
       "</div>"
      ],
      "text/plain": [
       "           pickup_datetime  fare_amount  fare_class  pickup_longitude  \\\n",
       "0  2010-04-19 08:17:56 UTC          6.5           0        -73.992365   \n",
       "1  2010-04-17 15:43:53 UTC          6.9           0        -73.990078   \n",
       "2  2010-04-17 11:23:26 UTC         10.1           1        -73.994149   \n",
       "3  2010-04-11 21:25:03 UTC          8.9           0        -73.990485   \n",
       "4  2010-04-17 02:19:01 UTC         19.7           1        -73.990976   \n",
       "\n",
       "   pickup_latitude  dropoff_longitude  dropoff_latitude  passenger_count  \n",
       "0        40.730521         -73.975499         40.744746                1  \n",
       "1        40.740558         -73.974232         40.744114                1  \n",
       "2        40.751118         -73.960064         40.766235                2  \n",
       "3        40.756422         -73.971205         40.748192                1  \n",
       "4        40.734202         -73.905956         40.743115                1  "
      ]
     },
     "execution_count": 3,
     "metadata": {},
     "output_type": "execute_result"
    }
   ],
   "source": [
    "df.head()"
   ]
  },
  {
   "cell_type": "code",
   "execution_count": 4,
   "id": "99cba72f-620f-4644-ae97-a8efdab94bb6",
   "metadata": {},
   "outputs": [
    {
     "data": {
      "text/html": [
       "<div>\n",
       "<style scoped>\n",
       "    .dataframe tbody tr th:only-of-type {\n",
       "        vertical-align: middle;\n",
       "    }\n",
       "\n",
       "    .dataframe tbody tr th {\n",
       "        vertical-align: top;\n",
       "    }\n",
       "\n",
       "    .dataframe thead th {\n",
       "        text-align: right;\n",
       "    }\n",
       "</style>\n",
       "<table border=\"1\" class=\"dataframe\">\n",
       "  <thead>\n",
       "    <tr style=\"text-align: right;\">\n",
       "      <th></th>\n",
       "      <th>fare_amount</th>\n",
       "      <th>fare_class</th>\n",
       "      <th>pickup_longitude</th>\n",
       "      <th>pickup_latitude</th>\n",
       "      <th>dropoff_longitude</th>\n",
       "      <th>dropoff_latitude</th>\n",
       "      <th>passenger_count</th>\n",
       "    </tr>\n",
       "  </thead>\n",
       "  <tbody>\n",
       "    <tr>\n",
       "      <th>count</th>\n",
       "      <td>120000.000000</td>\n",
       "      <td>120000.000000</td>\n",
       "      <td>120000.000000</td>\n",
       "      <td>120000.000000</td>\n",
       "      <td>120000.000000</td>\n",
       "      <td>120000.000000</td>\n",
       "      <td>120000.000000</td>\n",
       "    </tr>\n",
       "    <tr>\n",
       "      <th>mean</th>\n",
       "      <td>10.040326</td>\n",
       "      <td>0.333333</td>\n",
       "      <td>-73.976626</td>\n",
       "      <td>40.751443</td>\n",
       "      <td>-73.974501</td>\n",
       "      <td>40.751695</td>\n",
       "      <td>1.347167</td>\n",
       "    </tr>\n",
       "    <tr>\n",
       "      <th>std</th>\n",
       "      <td>7.500134</td>\n",
       "      <td>0.471406</td>\n",
       "      <td>0.031497</td>\n",
       "      <td>0.025821</td>\n",
       "      <td>0.032419</td>\n",
       "      <td>0.030279</td>\n",
       "      <td>0.759263</td>\n",
       "    </tr>\n",
       "    <tr>\n",
       "      <th>min</th>\n",
       "      <td>2.500000</td>\n",
       "      <td>0.000000</td>\n",
       "      <td>-74.465447</td>\n",
       "      <td>40.121653</td>\n",
       "      <td>-74.443323</td>\n",
       "      <td>40.164927</td>\n",
       "      <td>1.000000</td>\n",
       "    </tr>\n",
       "    <tr>\n",
       "      <th>25%</th>\n",
       "      <td>5.700000</td>\n",
       "      <td>0.000000</td>\n",
       "      <td>-73.992386</td>\n",
       "      <td>40.736594</td>\n",
       "      <td>-73.991478</td>\n",
       "      <td>40.735914</td>\n",
       "      <td>1.000000</td>\n",
       "    </tr>\n",
       "    <tr>\n",
       "      <th>50%</th>\n",
       "      <td>7.700000</td>\n",
       "      <td>0.000000</td>\n",
       "      <td>-73.982084</td>\n",
       "      <td>40.753661</td>\n",
       "      <td>-73.980411</td>\n",
       "      <td>40.754441</td>\n",
       "      <td>1.000000</td>\n",
       "    </tr>\n",
       "    <tr>\n",
       "      <th>75%</th>\n",
       "      <td>11.300000</td>\n",
       "      <td>1.000000</td>\n",
       "      <td>-73.968710</td>\n",
       "      <td>40.768020</td>\n",
       "      <td>-73.965500</td>\n",
       "      <td>40.768880</td>\n",
       "      <td>1.000000</td>\n",
       "    </tr>\n",
       "    <tr>\n",
       "      <th>max</th>\n",
       "      <td>49.900000</td>\n",
       "      <td>1.000000</td>\n",
       "      <td>-73.311845</td>\n",
       "      <td>40.981292</td>\n",
       "      <td>-73.496140</td>\n",
       "      <td>40.993498</td>\n",
       "      <td>5.000000</td>\n",
       "    </tr>\n",
       "  </tbody>\n",
       "</table>\n",
       "</div>"
      ],
      "text/plain": [
       "         fare_amount     fare_class  pickup_longitude  pickup_latitude  \\\n",
       "count  120000.000000  120000.000000     120000.000000    120000.000000   \n",
       "mean       10.040326       0.333333        -73.976626        40.751443   \n",
       "std         7.500134       0.471406          0.031497         0.025821   \n",
       "min         2.500000       0.000000        -74.465447        40.121653   \n",
       "25%         5.700000       0.000000        -73.992386        40.736594   \n",
       "50%         7.700000       0.000000        -73.982084        40.753661   \n",
       "75%        11.300000       1.000000        -73.968710        40.768020   \n",
       "max        49.900000       1.000000        -73.311845        40.981292   \n",
       "\n",
       "       dropoff_longitude  dropoff_latitude  passenger_count  \n",
       "count      120000.000000     120000.000000    120000.000000  \n",
       "mean          -73.974501         40.751695         1.347167  \n",
       "std             0.032419          0.030279         0.759263  \n",
       "min           -74.443323         40.164927         1.000000  \n",
       "25%           -73.991478         40.735914         1.000000  \n",
       "50%           -73.980411         40.754441         1.000000  \n",
       "75%           -73.965500         40.768880         1.000000  \n",
       "max           -73.496140         40.993498         5.000000  "
      ]
     },
     "execution_count": 4,
     "metadata": {},
     "output_type": "execute_result"
    }
   ],
   "source": [
    "df.describe()"
   ]
  },
  {
   "cell_type": "code",
   "execution_count": 5,
   "id": "0f86f6f5-7fc9-4ce0-a841-df54b4e250e2",
   "metadata": {},
   "outputs": [],
   "source": [
    "def haversine_distance(df, lat1, long1, lat2, long2):\n",
    "    \"\"\"\n",
    "    Calculates the haversine distance between 2 sets of GPS coordinates in df\n",
    "    Latitudes (lat1, lat2) and longitudes (long1, long2) are stored in degrees in the DataFrame.\n",
    "    \"\"\"\n",
    "    r = 6371  # average radius of Earth in kilometers. It will be used to convert the angular distance into physical distance (kilometers)\n",
    "\n",
    "    # Convert angles from degrees to radians.\n",
    "    # because trigonometric functions in Python work with angles measured in radians.\n",
    "    phi1 = np.radians(df[lat1])\n",
    "    phi2 = np.radians(df[lat2])\n",
    "\n",
    "    # The function calculates the difference between the latitudes (delta_phi) and the longitudes (delta_lambda), \n",
    "    # also converting these differences into radians.\n",
    "    delta_phi = np.radians(df[lat2]-df[lat1])\n",
    "    delta_lambda = np.radians(df[long2]-df[long1])\n",
    "\n",
    "    # a is a temporary value calculated using the sine and cosine of the latitudes and longitudes.\n",
    "    # c is the angular distance between the two points, calculated using the arctangent function (np.arctan2).\n",
    "    # The actual distance d is computed by multiplying the angular distance c by the Earth's radius r, yielding the distance in kilometers.\n",
    "    a = np.sin(delta_phi/2)**2 + np.cos(phi1) * np.cos(phi2) * np.sin(delta_lambda/2)**2\n",
    "    c = 2 * np.arctan2(np.sqrt(a), np.sqrt(1-a))\n",
    "    d = (r * c) # in kilometers\n",
    "\n",
    "    return d"
   ]
  },
  {
   "cell_type": "markdown",
   "id": "2e5f2d3b-c34d-4d8a-8767-1fdb734166ab",
   "metadata": {},
   "source": [
    "### Feature engineering"
   ]
  },
  {
   "cell_type": "code",
   "execution_count": 6,
   "id": "dc0c88d1-60ce-4789-973b-6284fb4c0a15",
   "metadata": {},
   "outputs": [],
   "source": [
    "df['dist_km'] = haversine_distance(df, 'pickup_longitude', 'pickup_latitude', 'dropoff_longitude', 'dropoff_latitude')"
   ]
  },
  {
   "cell_type": "code",
   "execution_count": 7,
   "id": "3b7e3b79-757b-4910-8d44-ebda1bea8caa",
   "metadata": {},
   "outputs": [
    {
     "data": {
      "text/html": [
       "<div>\n",
       "<style scoped>\n",
       "    .dataframe tbody tr th:only-of-type {\n",
       "        vertical-align: middle;\n",
       "    }\n",
       "\n",
       "    .dataframe tbody tr th {\n",
       "        vertical-align: top;\n",
       "    }\n",
       "\n",
       "    .dataframe thead th {\n",
       "        text-align: right;\n",
       "    }\n",
       "</style>\n",
       "<table border=\"1\" class=\"dataframe\">\n",
       "  <thead>\n",
       "    <tr style=\"text-align: right;\">\n",
       "      <th></th>\n",
       "      <th>pickup_datetime</th>\n",
       "      <th>fare_amount</th>\n",
       "      <th>fare_class</th>\n",
       "      <th>pickup_longitude</th>\n",
       "      <th>pickup_latitude</th>\n",
       "      <th>dropoff_longitude</th>\n",
       "      <th>dropoff_latitude</th>\n",
       "      <th>passenger_count</th>\n",
       "      <th>dist_km</th>\n",
       "    </tr>\n",
       "  </thead>\n",
       "  <tbody>\n",
       "    <tr>\n",
       "      <th>0</th>\n",
       "      <td>2010-04-19 08:17:56 UTC</td>\n",
       "      <td>6.5</td>\n",
       "      <td>0</td>\n",
       "      <td>-73.992365</td>\n",
       "      <td>40.730521</td>\n",
       "      <td>-73.975499</td>\n",
       "      <td>40.744746</td>\n",
       "      <td>1</td>\n",
       "      <td>1.925522</td>\n",
       "    </tr>\n",
       "    <tr>\n",
       "      <th>1</th>\n",
       "      <td>2010-04-17 15:43:53 UTC</td>\n",
       "      <td>6.9</td>\n",
       "      <td>0</td>\n",
       "      <td>-73.990078</td>\n",
       "      <td>40.740558</td>\n",
       "      <td>-73.974232</td>\n",
       "      <td>40.744114</td>\n",
       "      <td>1</td>\n",
       "      <td>1.765370</td>\n",
       "    </tr>\n",
       "    <tr>\n",
       "      <th>2</th>\n",
       "      <td>2010-04-17 11:23:26 UTC</td>\n",
       "      <td>10.1</td>\n",
       "      <td>1</td>\n",
       "      <td>-73.994149</td>\n",
       "      <td>40.751118</td>\n",
       "      <td>-73.960064</td>\n",
       "      <td>40.766235</td>\n",
       "      <td>2</td>\n",
       "      <td>3.818373</td>\n",
       "    </tr>\n",
       "    <tr>\n",
       "      <th>3</th>\n",
       "      <td>2010-04-11 21:25:03 UTC</td>\n",
       "      <td>8.9</td>\n",
       "      <td>0</td>\n",
       "      <td>-73.990485</td>\n",
       "      <td>40.756422</td>\n",
       "      <td>-73.971205</td>\n",
       "      <td>40.748192</td>\n",
       "      <td>1</td>\n",
       "      <td>2.158661</td>\n",
       "    </tr>\n",
       "    <tr>\n",
       "      <th>4</th>\n",
       "      <td>2010-04-17 02:19:01 UTC</td>\n",
       "      <td>19.7</td>\n",
       "      <td>1</td>\n",
       "      <td>-73.990976</td>\n",
       "      <td>40.734202</td>\n",
       "      <td>-73.905956</td>\n",
       "      <td>40.743115</td>\n",
       "      <td>1</td>\n",
       "      <td>9.457764</td>\n",
       "    </tr>\n",
       "  </tbody>\n",
       "</table>\n",
       "</div>"
      ],
      "text/plain": [
       "           pickup_datetime  fare_amount  fare_class  pickup_longitude  \\\n",
       "0  2010-04-19 08:17:56 UTC          6.5           0        -73.992365   \n",
       "1  2010-04-17 15:43:53 UTC          6.9           0        -73.990078   \n",
       "2  2010-04-17 11:23:26 UTC         10.1           1        -73.994149   \n",
       "3  2010-04-11 21:25:03 UTC          8.9           0        -73.990485   \n",
       "4  2010-04-17 02:19:01 UTC         19.7           1        -73.990976   \n",
       "\n",
       "   pickup_latitude  dropoff_longitude  dropoff_latitude  passenger_count  \\\n",
       "0        40.730521         -73.975499         40.744746                1   \n",
       "1        40.740558         -73.974232         40.744114                1   \n",
       "2        40.751118         -73.960064         40.766235                2   \n",
       "3        40.756422         -73.971205         40.748192                1   \n",
       "4        40.734202         -73.905956         40.743115                1   \n",
       "\n",
       "    dist_km  \n",
       "0  1.925522  \n",
       "1  1.765370  \n",
       "2  3.818373  \n",
       "3  2.158661  \n",
       "4  9.457764  "
      ]
     },
     "execution_count": 7,
     "metadata": {},
     "output_type": "execute_result"
    }
   ],
   "source": [
    "df.head()"
   ]
  },
  {
   "cell_type": "code",
   "execution_count": 8,
   "id": "45490156-e104-4c85-a80e-5d95b8397eca",
   "metadata": {},
   "outputs": [
    {
     "name": "stdout",
     "output_type": "stream",
     "text": [
      "<class 'pandas.core.frame.DataFrame'>\n",
      "RangeIndex: 120000 entries, 0 to 119999\n",
      "Data columns (total 9 columns):\n",
      " #   Column             Non-Null Count   Dtype  \n",
      "---  ------             --------------   -----  \n",
      " 0   pickup_datetime    120000 non-null  object \n",
      " 1   fare_amount        120000 non-null  float64\n",
      " 2   fare_class         120000 non-null  int64  \n",
      " 3   pickup_longitude   120000 non-null  float64\n",
      " 4   pickup_latitude    120000 non-null  float64\n",
      " 5   dropoff_longitude  120000 non-null  float64\n",
      " 6   dropoff_latitude   120000 non-null  float64\n",
      " 7   passenger_count    120000 non-null  int64  \n",
      " 8   dist_km            120000 non-null  float64\n",
      "dtypes: float64(6), int64(2), object(1)\n",
      "memory usage: 8.2+ MB\n"
     ]
    }
   ],
   "source": [
    "df.info()"
   ]
  },
  {
   "cell_type": "code",
   "execution_count": 9,
   "id": "4de5770a-7297-4183-9e8a-c03b631b5a15",
   "metadata": {},
   "outputs": [],
   "source": [
    "df['pickup_datetime'] = pd.to_datetime(df['pickup_datetime'])"
   ]
  },
  {
   "cell_type": "code",
   "execution_count": 10,
   "id": "47bf4b03-df06-420a-bde5-1af5297ccb95",
   "metadata": {},
   "outputs": [
    {
     "name": "stdout",
     "output_type": "stream",
     "text": [
      "<class 'pandas.core.frame.DataFrame'>\n",
      "RangeIndex: 120000 entries, 0 to 119999\n",
      "Data columns (total 9 columns):\n",
      " #   Column             Non-Null Count   Dtype              \n",
      "---  ------             --------------   -----              \n",
      " 0   pickup_datetime    120000 non-null  datetime64[ns, UTC]\n",
      " 1   fare_amount        120000 non-null  float64            \n",
      " 2   fare_class         120000 non-null  int64              \n",
      " 3   pickup_longitude   120000 non-null  float64            \n",
      " 4   pickup_latitude    120000 non-null  float64            \n",
      " 5   dropoff_longitude  120000 non-null  float64            \n",
      " 6   dropoff_latitude   120000 non-null  float64            \n",
      " 7   passenger_count    120000 non-null  int64              \n",
      " 8   dist_km            120000 non-null  float64            \n",
      "dtypes: datetime64[ns, UTC](1), float64(6), int64(2)\n",
      "memory usage: 8.2 MB\n"
     ]
    }
   ],
   "source": [
    "df.info()"
   ]
  },
  {
   "cell_type": "code",
   "execution_count": 11,
   "id": "fee3be16-0877-43f5-b128-1dc3b49447fb",
   "metadata": {},
   "outputs": [],
   "source": [
    "# Eastern Daylight Time (EDT) is UTC minus 4 hours (UTC-4)\n",
    "# converts the pickup_datetime column in the DataFrame to Eastern Daylight Time (EDT) by subtracting 4 hours.\n",
    "df['EDTdate'] = df['pickup_datetime'] - pd.Timedelta(hours=4)"
   ]
  },
  {
   "cell_type": "code",
   "execution_count": 12,
   "id": "e409cb8c-7dad-4b9c-b2c2-23cee231516c",
   "metadata": {},
   "outputs": [
    {
     "data": {
      "text/html": [
       "<div>\n",
       "<style scoped>\n",
       "    .dataframe tbody tr th:only-of-type {\n",
       "        vertical-align: middle;\n",
       "    }\n",
       "\n",
       "    .dataframe tbody tr th {\n",
       "        vertical-align: top;\n",
       "    }\n",
       "\n",
       "    .dataframe thead th {\n",
       "        text-align: right;\n",
       "    }\n",
       "</style>\n",
       "<table border=\"1\" class=\"dataframe\">\n",
       "  <thead>\n",
       "    <tr style=\"text-align: right;\">\n",
       "      <th></th>\n",
       "      <th>pickup_datetime</th>\n",
       "      <th>fare_amount</th>\n",
       "      <th>fare_class</th>\n",
       "      <th>pickup_longitude</th>\n",
       "      <th>pickup_latitude</th>\n",
       "      <th>dropoff_longitude</th>\n",
       "      <th>dropoff_latitude</th>\n",
       "      <th>passenger_count</th>\n",
       "      <th>dist_km</th>\n",
       "      <th>EDTdate</th>\n",
       "    </tr>\n",
       "  </thead>\n",
       "  <tbody>\n",
       "    <tr>\n",
       "      <th>0</th>\n",
       "      <td>2010-04-19 08:17:56+00:00</td>\n",
       "      <td>6.5</td>\n",
       "      <td>0</td>\n",
       "      <td>-73.992365</td>\n",
       "      <td>40.730521</td>\n",
       "      <td>-73.975499</td>\n",
       "      <td>40.744746</td>\n",
       "      <td>1</td>\n",
       "      <td>1.925522</td>\n",
       "      <td>2010-04-19 04:17:56+00:00</td>\n",
       "    </tr>\n",
       "    <tr>\n",
       "      <th>1</th>\n",
       "      <td>2010-04-17 15:43:53+00:00</td>\n",
       "      <td>6.9</td>\n",
       "      <td>0</td>\n",
       "      <td>-73.990078</td>\n",
       "      <td>40.740558</td>\n",
       "      <td>-73.974232</td>\n",
       "      <td>40.744114</td>\n",
       "      <td>1</td>\n",
       "      <td>1.765370</td>\n",
       "      <td>2010-04-17 11:43:53+00:00</td>\n",
       "    </tr>\n",
       "    <tr>\n",
       "      <th>2</th>\n",
       "      <td>2010-04-17 11:23:26+00:00</td>\n",
       "      <td>10.1</td>\n",
       "      <td>1</td>\n",
       "      <td>-73.994149</td>\n",
       "      <td>40.751118</td>\n",
       "      <td>-73.960064</td>\n",
       "      <td>40.766235</td>\n",
       "      <td>2</td>\n",
       "      <td>3.818373</td>\n",
       "      <td>2010-04-17 07:23:26+00:00</td>\n",
       "    </tr>\n",
       "    <tr>\n",
       "      <th>3</th>\n",
       "      <td>2010-04-11 21:25:03+00:00</td>\n",
       "      <td>8.9</td>\n",
       "      <td>0</td>\n",
       "      <td>-73.990485</td>\n",
       "      <td>40.756422</td>\n",
       "      <td>-73.971205</td>\n",
       "      <td>40.748192</td>\n",
       "      <td>1</td>\n",
       "      <td>2.158661</td>\n",
       "      <td>2010-04-11 17:25:03+00:00</td>\n",
       "    </tr>\n",
       "    <tr>\n",
       "      <th>4</th>\n",
       "      <td>2010-04-17 02:19:01+00:00</td>\n",
       "      <td>19.7</td>\n",
       "      <td>1</td>\n",
       "      <td>-73.990976</td>\n",
       "      <td>40.734202</td>\n",
       "      <td>-73.905956</td>\n",
       "      <td>40.743115</td>\n",
       "      <td>1</td>\n",
       "      <td>9.457764</td>\n",
       "      <td>2010-04-16 22:19:01+00:00</td>\n",
       "    </tr>\n",
       "  </tbody>\n",
       "</table>\n",
       "</div>"
      ],
      "text/plain": [
       "            pickup_datetime  fare_amount  fare_class  pickup_longitude  \\\n",
       "0 2010-04-19 08:17:56+00:00          6.5           0        -73.992365   \n",
       "1 2010-04-17 15:43:53+00:00          6.9           0        -73.990078   \n",
       "2 2010-04-17 11:23:26+00:00         10.1           1        -73.994149   \n",
       "3 2010-04-11 21:25:03+00:00          8.9           0        -73.990485   \n",
       "4 2010-04-17 02:19:01+00:00         19.7           1        -73.990976   \n",
       "\n",
       "   pickup_latitude  dropoff_longitude  dropoff_latitude  passenger_count  \\\n",
       "0        40.730521         -73.975499         40.744746                1   \n",
       "1        40.740558         -73.974232         40.744114                1   \n",
       "2        40.751118         -73.960064         40.766235                2   \n",
       "3        40.756422         -73.971205         40.748192                1   \n",
       "4        40.734202         -73.905956         40.743115                1   \n",
       "\n",
       "    dist_km                   EDTdate  \n",
       "0  1.925522 2010-04-19 04:17:56+00:00  \n",
       "1  1.765370 2010-04-17 11:43:53+00:00  \n",
       "2  3.818373 2010-04-17 07:23:26+00:00  \n",
       "3  2.158661 2010-04-11 17:25:03+00:00  \n",
       "4  9.457764 2010-04-16 22:19:01+00:00  "
      ]
     },
     "execution_count": 12,
     "metadata": {},
     "output_type": "execute_result"
    }
   ],
   "source": [
    "df.head()"
   ]
  },
  {
   "cell_type": "code",
   "execution_count": 13,
   "id": "082a4682-0c0d-4b58-a40c-97fb25e702e0",
   "metadata": {},
   "outputs": [],
   "source": [
    "df['Hour'] = df['EDTdate'].dt.hour"
   ]
  },
  {
   "cell_type": "code",
   "execution_count": 14,
   "id": "a5bdbbda-f1dc-44a7-aa5d-93e45cc06bef",
   "metadata": {},
   "outputs": [],
   "source": [
    "df['AMorPM'] = np.where(df['Hour'] < 12, 'am', 'pm')"
   ]
  },
  {
   "cell_type": "code",
   "execution_count": 15,
   "id": "b2e6ea22-161c-44ed-ab22-df54e9107ee4",
   "metadata": {},
   "outputs": [],
   "source": [
    "df['Weekday'] = df['EDTdate'].dt.strftime('%a')"
   ]
  },
  {
   "cell_type": "code",
   "execution_count": 16,
   "id": "832f04d4-b95a-4510-baff-b4969b765dd0",
   "metadata": {},
   "outputs": [
    {
     "data": {
      "text/html": [
       "<div>\n",
       "<style scoped>\n",
       "    .dataframe tbody tr th:only-of-type {\n",
       "        vertical-align: middle;\n",
       "    }\n",
       "\n",
       "    .dataframe tbody tr th {\n",
       "        vertical-align: top;\n",
       "    }\n",
       "\n",
       "    .dataframe thead th {\n",
       "        text-align: right;\n",
       "    }\n",
       "</style>\n",
       "<table border=\"1\" class=\"dataframe\">\n",
       "  <thead>\n",
       "    <tr style=\"text-align: right;\">\n",
       "      <th></th>\n",
       "      <th>pickup_datetime</th>\n",
       "      <th>fare_amount</th>\n",
       "      <th>fare_class</th>\n",
       "      <th>pickup_longitude</th>\n",
       "      <th>pickup_latitude</th>\n",
       "      <th>dropoff_longitude</th>\n",
       "      <th>dropoff_latitude</th>\n",
       "      <th>passenger_count</th>\n",
       "      <th>dist_km</th>\n",
       "      <th>EDTdate</th>\n",
       "      <th>Hour</th>\n",
       "      <th>AMorPM</th>\n",
       "      <th>Weekday</th>\n",
       "    </tr>\n",
       "  </thead>\n",
       "  <tbody>\n",
       "    <tr>\n",
       "      <th>0</th>\n",
       "      <td>2010-04-19 08:17:56+00:00</td>\n",
       "      <td>6.5</td>\n",
       "      <td>0</td>\n",
       "      <td>-73.992365</td>\n",
       "      <td>40.730521</td>\n",
       "      <td>-73.975499</td>\n",
       "      <td>40.744746</td>\n",
       "      <td>1</td>\n",
       "      <td>1.925522</td>\n",
       "      <td>2010-04-19 04:17:56+00:00</td>\n",
       "      <td>4</td>\n",
       "      <td>am</td>\n",
       "      <td>Mon</td>\n",
       "    </tr>\n",
       "    <tr>\n",
       "      <th>1</th>\n",
       "      <td>2010-04-17 15:43:53+00:00</td>\n",
       "      <td>6.9</td>\n",
       "      <td>0</td>\n",
       "      <td>-73.990078</td>\n",
       "      <td>40.740558</td>\n",
       "      <td>-73.974232</td>\n",
       "      <td>40.744114</td>\n",
       "      <td>1</td>\n",
       "      <td>1.765370</td>\n",
       "      <td>2010-04-17 11:43:53+00:00</td>\n",
       "      <td>11</td>\n",
       "      <td>am</td>\n",
       "      <td>Sat</td>\n",
       "    </tr>\n",
       "    <tr>\n",
       "      <th>2</th>\n",
       "      <td>2010-04-17 11:23:26+00:00</td>\n",
       "      <td>10.1</td>\n",
       "      <td>1</td>\n",
       "      <td>-73.994149</td>\n",
       "      <td>40.751118</td>\n",
       "      <td>-73.960064</td>\n",
       "      <td>40.766235</td>\n",
       "      <td>2</td>\n",
       "      <td>3.818373</td>\n",
       "      <td>2010-04-17 07:23:26+00:00</td>\n",
       "      <td>7</td>\n",
       "      <td>am</td>\n",
       "      <td>Sat</td>\n",
       "    </tr>\n",
       "    <tr>\n",
       "      <th>3</th>\n",
       "      <td>2010-04-11 21:25:03+00:00</td>\n",
       "      <td>8.9</td>\n",
       "      <td>0</td>\n",
       "      <td>-73.990485</td>\n",
       "      <td>40.756422</td>\n",
       "      <td>-73.971205</td>\n",
       "      <td>40.748192</td>\n",
       "      <td>1</td>\n",
       "      <td>2.158661</td>\n",
       "      <td>2010-04-11 17:25:03+00:00</td>\n",
       "      <td>17</td>\n",
       "      <td>pm</td>\n",
       "      <td>Sun</td>\n",
       "    </tr>\n",
       "    <tr>\n",
       "      <th>4</th>\n",
       "      <td>2010-04-17 02:19:01+00:00</td>\n",
       "      <td>19.7</td>\n",
       "      <td>1</td>\n",
       "      <td>-73.990976</td>\n",
       "      <td>40.734202</td>\n",
       "      <td>-73.905956</td>\n",
       "      <td>40.743115</td>\n",
       "      <td>1</td>\n",
       "      <td>9.457764</td>\n",
       "      <td>2010-04-16 22:19:01+00:00</td>\n",
       "      <td>22</td>\n",
       "      <td>pm</td>\n",
       "      <td>Fri</td>\n",
       "    </tr>\n",
       "  </tbody>\n",
       "</table>\n",
       "</div>"
      ],
      "text/plain": [
       "            pickup_datetime  fare_amount  fare_class  pickup_longitude  \\\n",
       "0 2010-04-19 08:17:56+00:00          6.5           0        -73.992365   \n",
       "1 2010-04-17 15:43:53+00:00          6.9           0        -73.990078   \n",
       "2 2010-04-17 11:23:26+00:00         10.1           1        -73.994149   \n",
       "3 2010-04-11 21:25:03+00:00          8.9           0        -73.990485   \n",
       "4 2010-04-17 02:19:01+00:00         19.7           1        -73.990976   \n",
       "\n",
       "   pickup_latitude  dropoff_longitude  dropoff_latitude  passenger_count  \\\n",
       "0        40.730521         -73.975499         40.744746                1   \n",
       "1        40.740558         -73.974232         40.744114                1   \n",
       "2        40.751118         -73.960064         40.766235                2   \n",
       "3        40.756422         -73.971205         40.748192                1   \n",
       "4        40.734202         -73.905956         40.743115                1   \n",
       "\n",
       "    dist_km                   EDTdate  Hour AMorPM Weekday  \n",
       "0  1.925522 2010-04-19 04:17:56+00:00     4     am     Mon  \n",
       "1  1.765370 2010-04-17 11:43:53+00:00    11     am     Sat  \n",
       "2  3.818373 2010-04-17 07:23:26+00:00     7     am     Sat  \n",
       "3  2.158661 2010-04-11 17:25:03+00:00    17     pm     Sun  \n",
       "4  9.457764 2010-04-16 22:19:01+00:00    22     pm     Fri  "
      ]
     },
     "execution_count": 16,
     "metadata": {},
     "output_type": "execute_result"
    }
   ],
   "source": [
    "df.head()"
   ]
  },
  {
   "cell_type": "code",
   "execution_count": 17,
   "id": "e3f444b5-4d44-4424-9c01-eccfb75f5f8d",
   "metadata": {},
   "outputs": [
    {
     "name": "stdout",
     "output_type": "stream",
     "text": [
      "<class 'pandas.core.frame.DataFrame'>\n",
      "RangeIndex: 120000 entries, 0 to 119999\n",
      "Data columns (total 13 columns):\n",
      " #   Column             Non-Null Count   Dtype              \n",
      "---  ------             --------------   -----              \n",
      " 0   pickup_datetime    120000 non-null  datetime64[ns, UTC]\n",
      " 1   fare_amount        120000 non-null  float64            \n",
      " 2   fare_class         120000 non-null  int64              \n",
      " 3   pickup_longitude   120000 non-null  float64            \n",
      " 4   pickup_latitude    120000 non-null  float64            \n",
      " 5   dropoff_longitude  120000 non-null  float64            \n",
      " 6   dropoff_latitude   120000 non-null  float64            \n",
      " 7   passenger_count    120000 non-null  int64              \n",
      " 8   dist_km            120000 non-null  float64            \n",
      " 9   EDTdate            120000 non-null  datetime64[ns, UTC]\n",
      " 10  Hour               120000 non-null  int32              \n",
      " 11  AMorPM             120000 non-null  object             \n",
      " 12  Weekday            120000 non-null  object             \n",
      "dtypes: datetime64[ns, UTC](2), float64(6), int32(1), int64(2), object(2)\n",
      "memory usage: 11.4+ MB\n"
     ]
    }
   ],
   "source": [
    "df.info()"
   ]
  },
  {
   "cell_type": "code",
   "execution_count": 18,
   "id": "d133a3e1-7420-4220-a631-ea827b5d57ce",
   "metadata": {},
   "outputs": [
    {
     "data": {
      "text/plain": [
       "Index(['pickup_datetime', 'fare_amount', 'fare_class', 'pickup_longitude',\n",
       "       'pickup_latitude', 'dropoff_longitude', 'dropoff_latitude',\n",
       "       'passenger_count', 'dist_km', 'EDTdate', 'Hour', 'AMorPM', 'Weekday'],\n",
       "      dtype='object')"
      ]
     },
     "execution_count": 18,
     "metadata": {},
     "output_type": "execute_result"
    }
   ],
   "source": [
    "df.columns"
   ]
  },
  {
   "cell_type": "code",
   "execution_count": 19,
   "id": "f818f4e9-b577-4d68-8211-22bab5801781",
   "metadata": {},
   "outputs": [],
   "source": [
    "cat_cols = ['Hour', 'AMorPM', 'Weekday']\n",
    "num_cols = ['pickup_longitude', 'pickup_latitude', 'dropoff_longitude', 'dropoff_latitude', 'passenger_count', 'dist_km']"
   ]
  },
  {
   "cell_type": "code",
   "execution_count": 20,
   "id": "8e2b9a1f-6c39-4df2-b02d-6ba9c11609c1",
   "metadata": {},
   "outputs": [],
   "source": [
    "y_col = ['fare_amount']"
   ]
  },
  {
   "cell_type": "code",
   "execution_count": null,
   "id": "216b4b65-ee8a-4b0a-9fa9-8a7624d4de9b",
   "metadata": {},
   "outputs": [],
   "source": []
  },
  {
   "cell_type": "code",
   "execution_count": 21,
   "id": "c494b060-0d4f-43da-ae94-e448eec3854f",
   "metadata": {},
   "outputs": [],
   "source": [
    "# .astype('category'): This converts the data type of the column to the Pandas category type. \n",
    "# The category data type is used to efficiently represent categorical variables, especially when they have a limited number of distinct values.\n",
    "\n",
    "for cat in cat_cols:\n",
    "    df[cat] = df[cat].astype('category')"
   ]
  },
  {
   "cell_type": "code",
   "execution_count": 22,
   "id": "640f673f-f1f3-46ae-8842-76913d91f509",
   "metadata": {},
   "outputs": [
    {
     "data": {
      "text/plain": [
       "pickup_datetime      datetime64[ns, UTC]\n",
       "fare_amount                      float64\n",
       "fare_class                         int64\n",
       "pickup_longitude                 float64\n",
       "pickup_latitude                  float64\n",
       "dropoff_longitude                float64\n",
       "dropoff_latitude                 float64\n",
       "passenger_count                    int64\n",
       "dist_km                          float64\n",
       "EDTdate              datetime64[ns, UTC]\n",
       "Hour                            category\n",
       "AMorPM                          category\n",
       "Weekday                         category\n",
       "dtype: object"
      ]
     },
     "execution_count": 22,
     "metadata": {},
     "output_type": "execute_result"
    }
   ],
   "source": [
    "df.dtypes"
   ]
  },
  {
   "cell_type": "code",
   "execution_count": 23,
   "id": "88b8b086-4138-4dbb-b937-809a5ba112e4",
   "metadata": {},
   "outputs": [
    {
     "data": {
      "text/plain": [
       "0     4\n",
       "1    11\n",
       "2     7\n",
       "3    17\n",
       "4    22\n",
       "Name: Hour, dtype: category\n",
       "Categories (24, int32): [0, 1, 2, 3, ..., 20, 21, 22, 23]"
      ]
     },
     "execution_count": 23,
     "metadata": {},
     "output_type": "execute_result"
    }
   ],
   "source": [
    "df['Hour'].head()"
   ]
  },
  {
   "cell_type": "code",
   "execution_count": 24,
   "id": "6f5bd1bc-ad4e-467d-88bc-10a281c3ee5e",
   "metadata": {},
   "outputs": [
    {
     "data": {
      "text/plain": [
       "0    am\n",
       "1    am\n",
       "2    am\n",
       "3    pm\n",
       "4    pm\n",
       "Name: AMorPM, dtype: category\n",
       "Categories (2, object): ['am', 'pm']"
      ]
     },
     "execution_count": 24,
     "metadata": {},
     "output_type": "execute_result"
    }
   ],
   "source": [
    "df['AMorPM'].head()"
   ]
  },
  {
   "cell_type": "code",
   "execution_count": 25,
   "id": "478fb503-11a4-4c42-8277-1f9668c760ec",
   "metadata": {},
   "outputs": [
    {
     "data": {
      "text/plain": [
       "0    Mon\n",
       "1    Sat\n",
       "2    Sat\n",
       "3    Sun\n",
       "4    Fri\n",
       "Name: Weekday, dtype: category\n",
       "Categories (7, object): ['Fri', 'Mon', 'Sat', 'Sun', 'Thu', 'Tue', 'Wed']"
      ]
     },
     "execution_count": 25,
     "metadata": {},
     "output_type": "execute_result"
    }
   ],
   "source": [
    "df['Weekday'].head()"
   ]
  },
  {
   "cell_type": "code",
   "execution_count": 26,
   "id": "4a3eee70-4654-4a0a-8cdb-2de8346fa15b",
   "metadata": {},
   "outputs": [],
   "source": [
    "hr = df['Hour'].cat.codes.values\n",
    "ampm = df['AMorPM'].cat.codes.values\n",
    "weekday = df['Weekday'].cat.codes.values"
   ]
  },
  {
   "cell_type": "code",
   "execution_count": 27,
   "id": "526d0d4b-1ce0-4945-bc80-d51900ed85bf",
   "metadata": {},
   "outputs": [],
   "source": [
    "cats = np.stack([hr, ampm, weekday], axis=1)"
   ]
  },
  {
   "cell_type": "code",
   "execution_count": 28,
   "id": "c29a7693-eabb-4a0b-b8f2-674f63e585fb",
   "metadata": {},
   "outputs": [
    {
     "data": {
      "text/plain": [
       "array([[ 4,  0,  1],\n",
       "       [11,  0,  2],\n",
       "       [ 7,  0,  2],\n",
       "       ...,\n",
       "       [14,  1,  3],\n",
       "       [ 4,  0,  5],\n",
       "       [12,  1,  2]], dtype=int8)"
      ]
     },
     "execution_count": 28,
     "metadata": {},
     "output_type": "execute_result"
    }
   ],
   "source": [
    "cats"
   ]
  },
  {
   "cell_type": "markdown",
   "id": "6b4c123a-af4c-46de-9732-392bc31ed322",
   "metadata": {},
   "source": [
    "### NOTE: This can be done in one line of code using a list comprehension:\r\n",
    "cats = np.stack([df[col].cat.codes.values for col i ncal_coss], 1)"
   ]
  },
  {
   "cell_type": "code",
   "execution_count": 29,
   "id": "f337a8c0-2332-411e-bb86-daaa9faa0d6a",
   "metadata": {},
   "outputs": [],
   "source": [
    "# convert np.array to tensors\n",
    "\n",
    "cats = torch.tensor(cats, dtype=torch.int64)"
   ]
  },
  {
   "cell_type": "code",
   "execution_count": 30,
   "id": "05262dac-a897-49bf-a8b1-c42666f11ea5",
   "metadata": {},
   "outputs": [],
   "source": [
    "nums = np.stack([df[col].values for col in num_cols], axis=1)"
   ]
  },
  {
   "cell_type": "code",
   "execution_count": 31,
   "id": "ef0e586a-a139-4bc2-b6cd-930d2edc86fd",
   "metadata": {},
   "outputs": [],
   "source": [
    "nums = torch.tensor(nums, dtype=torch.float)"
   ]
  },
  {
   "cell_type": "code",
   "execution_count": 32,
   "id": "87ed1524-eca2-4d64-aef7-97ae8e9cd4b7",
   "metadata": {},
   "outputs": [
    {
     "data": {
      "text/plain": [
       "tensor([[-73.9924,  40.7305, -73.9755,  40.7447,   1.0000,   1.9255],\n",
       "        [-73.9901,  40.7406, -73.9742,  40.7441,   1.0000,   1.7654],\n",
       "        [-73.9941,  40.7511, -73.9601,  40.7662,   2.0000,   3.8184],\n",
       "        ...,\n",
       "        [-73.9886,  40.7498, -74.0115,  40.7078,   3.0000,   2.8595],\n",
       "        [-74.0044,  40.7245, -73.9927,  40.7308,   1.0000,   1.3207],\n",
       "        [-73.9554,  40.7719, -73.9676,  40.7630,   3.0000,   1.3848]])"
      ]
     },
     "execution_count": 32,
     "metadata": {},
     "output_type": "execute_result"
    }
   ],
   "source": [
    "nums"
   ]
  },
  {
   "cell_type": "code",
   "execution_count": 33,
   "id": "d2aa5cb1-2afd-4c81-8e7f-01a528c9acd5",
   "metadata": {},
   "outputs": [
    {
     "data": {
      "text/plain": [
       "tensor([[ 6.5000],\n",
       "        [ 6.9000],\n",
       "        [10.1000],\n",
       "        ...,\n",
       "        [12.5000],\n",
       "        [ 4.9000],\n",
       "        [ 5.3000]])"
      ]
     },
     "execution_count": 33,
     "metadata": {},
     "output_type": "execute_result"
    }
   ],
   "source": [
    "y = torch.tensor(df[y_col].values, dtype=torch.float)\n",
    "y"
   ]
  },
  {
   "cell_type": "code",
   "execution_count": 34,
   "id": "e3ed439e-6dfb-4232-8bc6-0ba9de77653f",
   "metadata": {},
   "outputs": [
    {
     "data": {
      "text/plain": [
       "torch.Size([120000, 6])"
      ]
     },
     "execution_count": 34,
     "metadata": {},
     "output_type": "execute_result"
    }
   ],
   "source": [
    "nums.shape"
   ]
  },
  {
   "cell_type": "code",
   "execution_count": 35,
   "id": "51817f5c-6f3f-4f5e-b986-411bfc455326",
   "metadata": {},
   "outputs": [
    {
     "data": {
      "text/plain": [
       "torch.Size([120000, 3])"
      ]
     },
     "execution_count": 35,
     "metadata": {},
     "output_type": "execute_result"
    }
   ],
   "source": [
    "cats.shape"
   ]
  },
  {
   "cell_type": "code",
   "execution_count": 36,
   "id": "fbd74dea-c2ab-463f-b4e3-463b29217c3b",
   "metadata": {},
   "outputs": [
    {
     "data": {
      "text/plain": [
       "torch.Size([120000, 1])"
      ]
     },
     "execution_count": 36,
     "metadata": {},
     "output_type": "execute_result"
    }
   ],
   "source": [
    "y.shape"
   ]
  },
  {
   "cell_type": "code",
   "execution_count": 37,
   "id": "a96d5b90-2f49-4937-870c-9f02fb555883",
   "metadata": {},
   "outputs": [],
   "source": [
    "# setting up embedding size for the categorical columns\n",
    "# how many unique values for each col\n",
    "\n",
    "cat_szs = [len(df[col].cat.categories) for col in cat_cols]"
   ]
  },
  {
   "cell_type": "code",
   "execution_count": 38,
   "id": "077293fc-3cbe-41b7-9a62-6616f9db8e1f",
   "metadata": {},
   "outputs": [
    {
     "data": {
      "text/plain": [
       "[24, 2, 7]"
      ]
     },
     "execution_count": 38,
     "metadata": {},
     "output_type": "execute_result"
    }
   ],
   "source": [
    "cat_szs"
   ]
  },
  {
   "cell_type": "code",
   "execution_count": 39,
   "id": "f58de1cd-78d5-492f-ad65-22442fb7fb06",
   "metadata": {},
   "outputs": [],
   "source": [
    "# embedding sizes calculation\n",
    "# The embedding size is often set to be smaller than the number of unique categories to reduce the dimensionality and improve learning efficiency.\n",
    "\n",
    "emb_szs = [(size, min(50, (size+1)//2)) for size in cat_szs]"
   ]
  },
  {
   "cell_type": "code",
   "execution_count": 40,
   "id": "01c3b42b-4020-48eb-9dea-9c46f43285ba",
   "metadata": {},
   "outputs": [
    {
     "data": {
      "text/plain": [
       "[(24, 12), (2, 1), (7, 4)]"
      ]
     },
     "execution_count": 40,
     "metadata": {},
     "output_type": "execute_result"
    }
   ],
   "source": [
    "emb_szs"
   ]
  },
  {
   "cell_type": "code",
   "execution_count": null,
   "id": "ad6ccd95-f8c1-4a08-96fd-2807f7461b12",
   "metadata": {},
   "outputs": [],
   "source": []
  },
  {
   "cell_type": "code",
   "execution_count": 46,
   "id": "ddc70abc-90a8-4e6e-b070-fa0aa6c27b2b",
   "metadata": {},
   "outputs": [
    {
     "data": {
      "text/plain": [
       "tensor([[ 4,  0,  1],\n",
       "        [11,  0,  2]])"
      ]
     },
     "execution_count": 46,
     "metadata": {},
     "output_type": "execute_result"
    }
   ],
   "source": [
    "catz = cats[:2]\n",
    "catz"
   ]
  },
  {
   "cell_type": "code",
   "execution_count": 42,
   "id": "26fb0967-8a60-427a-a3ca-6d7b9c3776f3",
   "metadata": {},
   "outputs": [],
   "source": [
    "# It is used to create a list of embedding layers for categorical variables\n",
    "# nn.ModuleList is a container in PyTorch that holds a list of layers (or modules). In this case, it's being used to store a list of embedding layers.\n",
    "# nn.ModuleList ensures that PyTorch can properly track all the layers and parameters within the model.\n",
    "# nn.Embedding is a PyTorch layer used to learn embeddings for categorical variables. \n",
    "# It maps each unique category (represented as an integer index) to a vector of real numbers.\n",
    "# ni: This is the number of unique categories for a specific categorical variable (i.e., the input dimension of the embedding).\n",
    "# nf: This is the size of the embedding (i.e., the output dimension of the embedding), or the number of dimensions in the learned embedding vector.\n",
    "\n",
    "selfembeds = nn.ModuleList([nn.Embedding(ni, nf) for ni, nf in emb_szs])"
   ]
  },
  {
   "cell_type": "code",
   "execution_count": 43,
   "id": "de3b7b1d-6686-4234-ba72-10dae5cf02ec",
   "metadata": {},
   "outputs": [
    {
     "data": {
      "text/plain": [
       "ModuleList(\n",
       "  (0): Embedding(24, 12)\n",
       "  (1): Embedding(2, 1)\n",
       "  (2): Embedding(7, 4)\n",
       ")"
      ]
     },
     "execution_count": 43,
     "metadata": {},
     "output_type": "execute_result"
    }
   ],
   "source": [
    "selfembeds"
   ]
  },
  {
   "cell_type": "code",
   "execution_count": 47,
   "id": "9ea1cb6e-3bfa-4d7e-96ad-9a6cfcafbe26",
   "metadata": {},
   "outputs": [],
   "source": [
    "# Forward method (cats)\n",
    "embeddingz = []\n",
    "\n",
    "for i, e in enumerate(selfembeds):\n",
    "    embeddingz.append(e(catz[:,i]))"
   ]
  },
  {
   "cell_type": "code",
   "execution_count": 48,
   "id": "86ed26a2-a0bb-44a0-8b6d-9e514a2e2ad5",
   "metadata": {},
   "outputs": [
    {
     "data": {
      "text/plain": [
       "[tensor([[-1.0219,  1.3290, -0.6594,  0.6552, -0.1832,  0.6614,  0.1885, -0.1317,\n",
       "          -1.1004, -0.8100,  0.5661,  0.3093],\n",
       "         [ 0.8959,  0.1943, -1.0183, -1.8819, -0.4986, -1.4952,  0.1309, -0.0768,\n",
       "          -1.6617, -1.1952,  0.4080,  0.8961]], grad_fn=<EmbeddingBackward0>),\n",
       " tensor([[-2.8455],\n",
       "         [-2.8455]], grad_fn=<EmbeddingBackward0>),\n",
       " tensor([[ 1.3267, -0.5102,  1.6278,  1.3447],\n",
       "         [-0.3986, -1.2359, -1.2184, -0.5047]], grad_fn=<EmbeddingBackward0>)]"
      ]
     },
     "execution_count": 48,
     "metadata": {},
     "output_type": "execute_result"
    }
   ],
   "source": [
    "embeddingz"
   ]
  },
  {
   "cell_type": "code",
   "execution_count": 49,
   "id": "1262bd41-fc21-4f32-a614-c8dd2a59123b",
   "metadata": {},
   "outputs": [],
   "source": [
    "z = torch.cat(embeddingz,1)"
   ]
  },
  {
   "cell_type": "code",
   "execution_count": 50,
   "id": "c634eada-e0cc-4b43-8469-49cbd0353a24",
   "metadata": {},
   "outputs": [
    {
     "data": {
      "text/plain": [
       "tensor([[-1.0219,  1.3290, -0.6594,  0.6552, -0.1832,  0.6614,  0.1885, -0.1317,\n",
       "         -1.1004, -0.8100,  0.5661,  0.3093, -2.8455,  1.3267, -0.5102,  1.6278,\n",
       "          1.3447],\n",
       "        [ 0.8959,  0.1943, -1.0183, -1.8819, -0.4986, -1.4952,  0.1309, -0.0768,\n",
       "         -1.6617, -1.1952,  0.4080,  0.8961, -2.8455, -0.3986, -1.2359, -1.2184,\n",
       "         -0.5047]], grad_fn=<CatBackward0>)"
      ]
     },
     "execution_count": 50,
     "metadata": {},
     "output_type": "execute_result"
    }
   ],
   "source": [
    "z"
   ]
  },
  {
   "cell_type": "code",
   "execution_count": 51,
   "id": "cfe151b6-f4d4-4cba-aaf6-8040eb0d498b",
   "metadata": {},
   "outputs": [],
   "source": [
    "selfembdrop = nn.Dropout(0.4)"
   ]
  },
  {
   "cell_type": "code",
   "execution_count": 52,
   "id": "d0d8c5ae-1230-4499-b8b9-5aa4c4ae82e0",
   "metadata": {},
   "outputs": [],
   "source": [
    "z = selfembdrop(z)"
   ]
  },
  {
   "cell_type": "code",
   "execution_count": 53,
   "id": "9ff20138-8060-4c62-94ba-9289bfc2013d",
   "metadata": {},
   "outputs": [
    {
     "data": {
      "text/plain": [
       "tensor([[-0.0000,  0.0000, -1.0990,  1.0921, -0.3054,  1.1024,  0.3142, -0.2195,\n",
       "         -1.8341, -1.3500,  0.9435,  0.5156, -4.7425,  2.2112, -0.8503,  0.0000,\n",
       "          0.0000],\n",
       "        [ 0.0000,  0.3239, -0.0000, -3.1365, -0.8310, -2.4920,  0.0000, -0.1280,\n",
       "         -0.0000, -1.9920,  0.0000,  1.4935, -0.0000, -0.0000, -2.0599, -0.0000,\n",
       "         -0.8412]], grad_fn=<MulBackward0>)"
      ]
     },
     "execution_count": 53,
     "metadata": {},
     "output_type": "execute_result"
    }
   ],
   "source": [
    "z"
   ]
  },
  {
   "cell_type": "code",
   "execution_count": 54,
   "id": "64a10ab7-811f-4e69-be77-6d4c7e23244a",
   "metadata": {},
   "outputs": [],
   "source": [
    "class TabularModel(nn.Module):\n",
    "    \"\"\"\n",
    "    It is a neural network model implemented in PyTorch.\n",
    "    The TubularModel is designed to handle both categorical and numerical inputs \n",
    "    by embedding the categorical variables and applying batch normalization to the numerical features.\n",
    "    \n",
    "    \"\"\"\n",
    "\n",
    "    def __init__(self, emb_szs, n_num, out_sz, layers, p=0.5):\n",
    "        \"\"\"\n",
    "        emb_szs: a list of tuples where each tuple represents the size and embedding dimension for categorical variables.\n",
    "        The first element of each tuple is the number of unique categories, and the second is the embedding size.\n",
    "        n_num: the number of numercial features.\n",
    "        out_sz: the output size (number of classes in classification or 1 for regression).\n",
    "        layers: a list defining the sizes of the hidden layers.\n",
    "        p: Dropout probability, used to regularize the model and prevent overfitting.\n",
    "        \"\"\"\n",
    "        # layers = [200, 100, 50]\n",
    "        super().__init__()\n",
    "\n",
    "        # a list of embedding layers for the categorical features.\n",
    "        self.embeds = nn.ModuleList([nn.Embedding(ni, nf) for ni, nf in emb_szs])\n",
    "        # Dropout applied to the embeddings to prevent overfitting.\n",
    "        self.emb_drop = nn.Dropout(p)\n",
    "        # batch normalization for the numercial features so that they have a mean of 0 and a sd of 1.\n",
    "        self.bn_num = nn.BatchNorm1d(n_num)\n",
    "\n",
    "        # Sequential layer construction\n",
    "        layerlist = []\n",
    "        # n_emb is the all embedding dimensions\n",
    "        n_emb = sum([nf for ni, nf in emb_szs])\n",
    "        # The total input size is the sum of n_emb plus the number of numercial features (n_num)\n",
    "        n_in = n_emb + n_num\n",
    "\n",
    "        for i in layers:\n",
    "            # each layer consists of a Linear layer (fully connected layer), a ReLU activaton function, Batch normalization, Dropout for regularization.\n",
    "            layerlist.append(nn.Linear(n_in, i))\n",
    "            layerlist.append(nn.ReLU(inplace=True))\n",
    "            layerlist.append(nn.BatchNorm1d(i))\n",
    "            layerlist.append(nn.Dropout(p))\n",
    "            n_in = i\n",
    "\n",
    "        layerlist.append(nn.Linear(layers[-1], out_sz))\n",
    "\n",
    "        # a sequential stack of fully connected layers that form the main part of the neural network.\n",
    "        self.layers = nn.Sequential(*layerlist)\n",
    "\n",
    "    def forward(self, x_cat, x_num):\n",
    "        \"\"\"\n",
    "        The forward pass combines the processed categorical and numerical inputs, \n",
    "        passes them through a series of fully connected layers, and returns the final output.\n",
    "        x_cat: a tensor of categorical inputs, where each column represents one categorical variable.\n",
    "        x_num: a tensor of numberical inputs.\n",
    "        \"\"\"\n",
    "        embeddings = []\n",
    "\n",
    "        for i, e in enumerate(self.embeds):\n",
    "            embeddings.append(e(x_cat[:, i]))\n",
    "\n",
    "        x = torch.cat(embeddings, 1) # The embedding vectors are concatenated along the second dimension to form a single tensor x.\n",
    "        x = self.emb_drop(x) # Dropout is applied to the concatenated embedding tensor.\n",
    "\n",
    "        x_num = self.bn_num(x_num) # The numerical inputs are batch normalized.\n",
    "        x = torch.cat([x, x_num], 1) #The embeddings and the numerical inputs are concatenated to form the complete input to the fully connected layers.\n",
    "        x = self.layers(x) # the concatenated input is passed through the fully connected layers.\n",
    "        return x  "
   ]
  },
  {
   "cell_type": "code",
   "execution_count": 55,
   "id": "a2b5fe01-4425-4277-a35f-9592e3f638f8",
   "metadata": {},
   "outputs": [],
   "source": [
    "torch.manual_seed(33)\n",
    "model = TabularModel(emb_szs, nums.shape[1], 1, [200, 100], p=0.4)"
   ]
  },
  {
   "cell_type": "code",
   "execution_count": 56,
   "id": "b4ef5422-f628-4d6f-b27e-d3fdfe25698a",
   "metadata": {},
   "outputs": [
    {
     "data": {
      "text/plain": [
       "TabularModel(\n",
       "  (embeds): ModuleList(\n",
       "    (0): Embedding(24, 12)\n",
       "    (1): Embedding(2, 1)\n",
       "    (2): Embedding(7, 4)\n",
       "  )\n",
       "  (emb_drop): Dropout(p=0.4, inplace=False)\n",
       "  (bn_num): BatchNorm1d(6, eps=1e-05, momentum=0.1, affine=True, track_running_stats=True)\n",
       "  (layers): Sequential(\n",
       "    (0): Linear(in_features=23, out_features=200, bias=True)\n",
       "    (1): ReLU(inplace=True)\n",
       "    (2): BatchNorm1d(200, eps=1e-05, momentum=0.1, affine=True, track_running_stats=True)\n",
       "    (3): Dropout(p=0.4, inplace=False)\n",
       "    (4): Linear(in_features=200, out_features=100, bias=True)\n",
       "    (5): ReLU(inplace=True)\n",
       "    (6): BatchNorm1d(100, eps=1e-05, momentum=0.1, affine=True, track_running_stats=True)\n",
       "    (7): Dropout(p=0.4, inplace=False)\n",
       "    (8): Linear(in_features=100, out_features=1, bias=True)\n",
       "  )\n",
       ")"
      ]
     },
     "execution_count": 56,
     "metadata": {},
     "output_type": "execute_result"
    }
   ],
   "source": [
    "model"
   ]
  },
  {
   "cell_type": "code",
   "execution_count": 57,
   "id": "4b7a6c3c-df24-4be8-950e-b96c1a31cd37",
   "metadata": {},
   "outputs": [],
   "source": [
    "criterion = nn.MSELoss()  # np.sqrt(MSE) --> RMSE\n",
    "optimizer = torch.optim.Adam(model.parameters(), lr=0.001)"
   ]
  },
  {
   "cell_type": "code",
   "execution_count": 58,
   "id": "33bb9b1a-f3e0-4c81-b0bf-c73923316e7e",
   "metadata": {},
   "outputs": [],
   "source": [
    "batch_size = 30000\n",
    "test_size = int(batch_size*0.2)"
   ]
  },
  {
   "cell_type": "code",
   "execution_count": 59,
   "id": "f1ed4121-cce6-42a7-b0d6-f3151100e676",
   "metadata": {},
   "outputs": [],
   "source": [
    "# Data shuffled already\n",
    "cat_train = cats[:batch_size-test_size]\n",
    "cat_test = cats[batch_size-test_size:batch_size]\n",
    "num_train = nums[:batch_size-test_size]\n",
    "num_test = nums[batch_size-test_size:batch_size]"
   ]
  },
  {
   "cell_type": "code",
   "execution_count": 60,
   "id": "e9625a4e-b49c-4957-9a61-d4254f298c5e",
   "metadata": {},
   "outputs": [],
   "source": [
    "y_train = y[:batch_size-test_size]\n",
    "y_test = y[batch_size-test_size:batch_size]"
   ]
  },
  {
   "cell_type": "code",
   "execution_count": 61,
   "id": "fa78b1b3-be74-4e79-9b5a-e613fc7bc13b",
   "metadata": {},
   "outputs": [
    {
     "data": {
      "text/plain": [
       "24000"
      ]
     },
     "execution_count": 61,
     "metadata": {},
     "output_type": "execute_result"
    }
   ],
   "source": [
    "len(cat_train)"
   ]
  },
  {
   "cell_type": "code",
   "execution_count": 62,
   "id": "624494b3-9f74-4be4-a0e1-bbfb55049069",
   "metadata": {},
   "outputs": [
    {
     "data": {
      "text/plain": [
       "24000"
      ]
     },
     "execution_count": 62,
     "metadata": {},
     "output_type": "execute_result"
    }
   ],
   "source": [
    "len(num_train)"
   ]
  },
  {
   "cell_type": "code",
   "execution_count": 63,
   "id": "a2b3be34-2093-405d-be14-4d2397d71509",
   "metadata": {},
   "outputs": [
    {
     "data": {
      "text/plain": [
       "6000"
      ]
     },
     "execution_count": 63,
     "metadata": {},
     "output_type": "execute_result"
    }
   ],
   "source": [
    "len(cat_test)"
   ]
  },
  {
   "cell_type": "code",
   "execution_count": 64,
   "id": "da4ab63a-8e0c-4c89-a345-f3796fcbdc7a",
   "metadata": {},
   "outputs": [
    {
     "name": "stdout",
     "output_type": "stream",
     "text": [
      "epoch: 1 loss is 12.538008689880371\n",
      "epoch: 11 loss is 11.707799911499023\n",
      "epoch: 21 loss is 11.213322639465332\n",
      "epoch: 31 loss is 10.864924430847168\n",
      "epoch: 41 loss is 10.596639633178711\n",
      "epoch: 51 loss is 10.38720417022705\n",
      "epoch: 61 loss is 10.169137001037598\n",
      "epoch: 71 loss is 9.945863723754883\n",
      "epoch: 81 loss is 9.724912643432617\n",
      "epoch: 91 loss is 9.470894813537598\n",
      "epoch: 101 loss is 9.193428993225098\n",
      "epoch: 111 loss is 8.868139266967773\n",
      "epoch: 121 loss is 8.535892486572266\n",
      "epoch: 131 loss is 8.144391059875488\n",
      "epoch: 141 loss is 7.757174491882324\n",
      "epoch: 151 loss is 7.304069995880127\n",
      "epoch: 161 loss is 6.840619087219238\n",
      "epoch: 171 loss is 6.345347881317139\n",
      "epoch: 181 loss is 5.863597393035889\n",
      "epoch: 191 loss is 5.385343551635742\n",
      "epoch: 201 loss is 4.932733535766602\n",
      "epoch: 211 loss is 4.554928302764893\n",
      "epoch: 221 loss is 4.294853687286377\n",
      "epoch: 231 loss is 4.08775520324707\n",
      "epoch: 241 loss is 3.9481899738311768\n",
      "epoch: 251 loss is 3.9050605297088623\n",
      "epoch: 261 loss is 3.8128108978271484\n",
      "epoch: 271 loss is 3.7760136127471924\n",
      "epoch: 281 loss is 3.7691400051116943\n",
      "epoch: 291 loss is 3.7209296226501465\n",
      "Training took 13.411890828609467 minutes\n"
     ]
    }
   ],
   "source": [
    "import time\n",
    "\n",
    "start_time = time.time()\n",
    "\n",
    "epochs = 300\n",
    "\n",
    "losses = []\n",
    "\n",
    "for i in range(epochs):\n",
    "    i += 1\n",
    "\n",
    "    y_pred = model(cat_train, num_train)\n",
    "    loss = torch.sqrt(criterion(y_pred, y_train))  # RMSE\n",
    "    losses.append(loss)\n",
    "\n",
    "    if i%10 == 1:\n",
    "        print(f'epoch: {i} loss is {loss}')\n",
    "\n",
    "    optimizer.zero_grad()\n",
    "    loss.backward()\n",
    "    optimizer.step()\n",
    "\n",
    "duration = time.time() - start_time\n",
    "print(f'Training took {duration/60} minutes')"
   ]
  },
  {
   "cell_type": "code",
   "execution_count": 65,
   "id": "fe01864d-0830-4cef-ac10-cfb1b0c43c6b",
   "metadata": {},
   "outputs": [
    {
     "data": {
      "text/plain": [
       "[<matplotlib.lines.Line2D at 0x18becd48c10>]"
      ]
     },
     "execution_count": 65,
     "metadata": {},
     "output_type": "execute_result"
    },
    {
     "data": {
      "image/png": "[encoded data removed]",
      "text/plain": [
       "<Figure size 640x480 with 1 Axes>"
      ]
     },
     "metadata": {},
     "output_type": "display_data"
    }
   ],
   "source": [
    "# Convert list of tensors to a list of NumPy arrays\n",
    "losses = [loss.detach().cpu().numpy() if isinstance(loss, torch.Tensor) else loss for loss in losses]\n",
    "plt.plot(range(epochs), losses)"
   ]
  },
  {
   "cell_type": "code",
   "execution_count": null,
   "id": "b839b677-c65b-491c-a53d-88ea86b7e1ba",
   "metadata": {},
   "outputs": [],
   "source": []
  },
  {
   "cell_type": "code",
   "execution_count": 66,
   "id": "39ab3ed1-32e1-4b80-a5cc-e1a17389d563",
   "metadata": {},
   "outputs": [],
   "source": [
    "with torch.no_grad():\n",
    "\n",
    "    y_val = model(cat_test, num_test)\n",
    "\n",
    "    loss = torch.sqrt(criterion(y_val, y_test))"
   ]
  },
  {
   "cell_type": "code",
   "execution_count": 67,
   "id": "779d094b-2df8-457f-aab6-339e75ab963b",
   "metadata": {},
   "outputs": [
    {
     "data": {
      "text/plain": [
       "tensor(3.7060)"
      ]
     },
     "execution_count": 67,
     "metadata": {},
     "output_type": "execute_result"
    }
   ],
   "source": [
    "loss"
   ]
  },
  {
   "cell_type": "code",
   "execution_count": 68,
   "id": "0125879f-b413-4372-b042-86c131974826",
   "metadata": {},
   "outputs": [
    {
     "name": "stdout",
     "output_type": "stream",
     "text": [
      "0.) Predicted:     7.33 True:     4.90 Diff:     2.43\n",
      "1.) Predicted:    10.36 True:     8.50 Diff:     1.86\n",
      "2.) Predicted:     3.40 True:     4.90 Diff:     1.50\n",
      "3.) Predicted:    14.70 True:    14.90 Diff:     0.20\n",
      "4.) Predicted:     6.90 True:     9.70 Diff:     2.80\n",
      "5.) Predicted:    31.88 True:    30.27 Diff:     1.61\n",
      "6.) Predicted:     4.93 True:     5.30 Diff:     0.37\n",
      "7.) Predicted:     8.74 True:     5.30 Diff:     3.44\n",
      "8.) Predicted:     6.97 True:     6.10 Diff:     0.87\n",
      "9.) Predicted:     4.92 True:     6.10 Diff:     1.18\n"
     ]
    }
   ],
   "source": [
    "for i in range(10):\n",
    "\n",
    "    diff = np.abs(y_val[i].item() - y_test[i].item())\n",
    "    print(f'{i}.) Predicted: {y_val[i].item():8.2f} True: {y_test[i].item():8.2f} Diff: {diff:8.2f}')"
   ]
  },
  {
   "cell_type": "code",
   "execution_count": 69,
   "id": "08349c80-2d5b-45b7-a7ef-b6541e1fd554",
   "metadata": {},
   "outputs": [],
   "source": [
    "torch.save(model.state_dict(), 'Taximodel_version2.pt')"
   ]
  },
  {
   "cell_type": "code",
   "execution_count": null,
   "id": "a1a24c68-ba8a-4282-bfc2-e8cce8030424",
   "metadata": {},
   "outputs": [],
   "source": []
  }
 ],
 "metadata": {
  "kernelspec": {
   "display_name": "Python 3 (ipykernel)",
   "language": "python",
   "name": "python3"
  },
  "language_info": {
   "codemirror_mode": {
    "name": "ipython",
    "version": 3
   },
   "file_extension": ".py",
   "mimetype": "text/x-python",
   "name": "python",
   "nbconvert_exporter": "python",
   "pygments_lexer": "ipython3",
   "version": "3.11.5"
  }
 },
 "nbformat": 4,
 "nbformat_minor": 5
}
