{
 "cells": [
  {
   "cell_type": "markdown",
   "id": "6da8d30d-1a1c-413e-b098-2dabe4a69a32",
   "metadata": {},
   "source": [
    "## Perform standard imports"
   ]
  },
  {
   "cell_type": "code",
   "execution_count": 2,
   "id": "be476f9b-9341-4820-9562-db34d61b1ac8",
   "metadata": {},
   "outputs": [],
   "source": [
    "import torch\n",
    "import torch.nn as nn\n",
    "import torch.nn.functional as F"
   ]
  },
  {
   "cell_type": "code",
   "execution_count": 3,
   "id": "125b4b52-7890-43d1-8e80-b8b05ebbbed2",
   "metadata": {},
   "outputs": [],
   "source": [
    "from torch.utils.data import DataLoader  # Help load data in batches\n",
    "from torchvision import datasets, transforms"
   ]
  },
  {
   "cell_type": "code",
   "execution_count": 4,
   "id": "25a6b89e-9844-4f48-8579-867e592946b0",
   "metadata": {},
   "outputs": [],
   "source": [
    "import numpy as np\n",
    "import pandas as pd\n",
    "from sklearn.metrics import confusion_matrix\n",
    "import matplotlib.pyplot as plt"
   ]
  },
  {
   "cell_type": "code",
   "execution_count": 5,
   "id": "95da55cc-6ca4-41a9-9ed0-8456ed72b377",
   "metadata": {},
   "outputs": [],
   "source": [
    "# In loading process, you can apply multiple transformations (reshape, convert to tensor, normalize, etc) to the incoming data.\n",
    "# Here we only need to convert images to tensors.\n",
    "\n",
    "transform = transforms.ToTensor()"
   ]
  },
  {
   "cell_type": "code",
   "execution_count": 6,
   "id": "94fccb28-b67a-4d6f-90cf-b3c927ebf14c",
   "metadata": {},
   "outputs": [],
   "source": [
    "# torchvision will only download the dataset once, and in the future ill look for the local copy.\n",
    "# Load training set.\n",
    "\n",
    "train_data = datasets.MNIST(root='../Data/', train=True, download=True, transform=transform)"
   ]
  },
  {
   "cell_type": "code",
   "execution_count": 7,
   "id": "3859af6e-0373-49c4-88a7-71b48b4df7a8",
   "metadata": {},
   "outputs": [],
   "source": [
    "# Load test set\n",
    "\n",
    "test_data = datasets.MNIST(root='../Data/', train=False, download=True, transform=transform)"
   ]
  },
  {
   "cell_type": "markdown",
   "id": "3a9e0284-914e-4779-8386-0af8065c5f68",
   "metadata": {},
   "source": [
    "#### Check some training data info"
   ]
  },
  {
   "cell_type": "code",
   "execution_count": 9,
   "id": "91e901f0-5098-4275-841f-07817b5ce882",
   "metadata": {},
   "outputs": [
    {
     "data": {
      "text/plain": [
       "Dataset MNIST\n",
       "    Number of datapoints: 60000\n",
       "    Root location: ../Data/\n",
       "    Split: Train\n",
       "    StandardTransform\n",
       "Transform: ToTensor()"
      ]
     },
     "execution_count": 9,
     "metadata": {},
     "output_type": "execute_result"
    }
   ],
   "source": [
    "train_data"
   ]
  },
  {
   "cell_type": "code",
   "execution_count": 10,
   "id": "00024985-8529-44f1-8914-cb03e78ea41d",
   "metadata": {},
   "outputs": [
    {
     "data": {
      "text/plain": [
       "torchvision.datasets.mnist.MNIST"
      ]
     },
     "execution_count": 10,
     "metadata": {},
     "output_type": "execute_result"
    }
   ],
   "source": [
    "type(train_data)"
   ]
  },
  {
   "cell_type": "code",
   "execution_count": 11,
   "id": "aec90c68-f3e8-44a1-a76b-4fbb85e4587c",
   "metadata": {},
   "outputs": [
    {
     "data": {
      "text/plain": [
       "tuple"
      ]
     },
     "execution_count": 11,
     "metadata": {},
     "output_type": "execute_result"
    }
   ],
   "source": [
    "type(train_data[0])"
   ]
  },
  {
   "cell_type": "code",
   "execution_count": 12,
   "id": "15dddff5-20db-4c3b-a03d-4487edbe16bd",
   "metadata": {},
   "outputs": [],
   "source": [
    "# Calling the first record from train_data returns a two-item tuple.\n",
    "# The first item is the 28 * 28 tensor representing the image. The second is a label.\n",
    "\n",
    "image, label = train_data[0]"
   ]
  },
  {
   "cell_type": "code",
   "execution_count": 13,
   "id": "12c65aea-19d7-481b-a9af-87df6fae0f71",
   "metadata": {},
   "outputs": [
    {
     "data": {
      "text/plain": [
       "tensor([[0.0000, 0.0000, 0.0000, 0.0000, 0.0000, 0.0000, 0.0000, 0.0000, 0.0000,\n",
       "         0.0000, 0.0000, 0.0000, 0.0000, 0.0000, 0.0000, 0.0000, 0.0000, 0.0000,\n",
       "         0.0000, 0.0000, 0.0000, 0.0000, 0.0000, 0.0000, 0.0000, 0.0000, 0.0000,\n",
       "         0.0000],\n",
       "        [0.0000, 0.0000, 0.0000, 0.0000, 0.0000, 0.0000, 0.0000, 0.0000, 0.0000,\n",
       "         0.0000, 0.0000, 0.0000, 0.0000, 0.0000, 0.0000, 0.0000, 0.0000, 0.0000,\n",
       "         0.0000, 0.0000, 0.0000, 0.0000, 0.0000, 0.0000, 0.0000, 0.0000, 0.0000,\n",
       "         0.0000],\n",
       "        [0.0000, 0.0000, 0.0000, 0.0000, 0.0000, 0.0000, 0.0000, 0.0000, 0.0000,\n",
       "         0.0000, 0.0000, 0.0000, 0.0000, 0.0000, 0.0000, 0.0000, 0.0000, 0.0000,\n",
       "         0.0000, 0.0000, 0.0000, 0.0000, 0.0000, 0.0000, 0.0000, 0.0000, 0.0000,\n",
       "         0.0000],\n",
       "        [0.0000, 0.0000, 0.0000, 0.0000, 0.0000, 0.0000, 0.0000, 0.0000, 0.0000,\n",
       "         0.0000, 0.0000, 0.0000, 0.0000, 0.0000, 0.0000, 0.0000, 0.0000, 0.0000,\n",
       "         0.0000, 0.0000, 0.0000, 0.0000, 0.0000, 0.0000, 0.0000, 0.0000, 0.0000,\n",
       "         0.0000],\n",
       "        [0.0000, 0.0000, 0.0000, 0.0000, 0.0000, 0.0000, 0.0000, 0.0000, 0.0000,\n",
       "         0.0000, 0.0000, 0.0000, 0.0000, 0.0000, 0.0000, 0.0000, 0.0000, 0.0000,\n",
       "         0.0000, 0.0000, 0.0000, 0.0000, 0.0000, 0.0000, 0.0000, 0.0000, 0.0000,\n",
       "         0.0000],\n",
       "        [0.0000, 0.0000, 0.0000, 0.0000, 0.0000, 0.0000, 0.0000, 0.0000, 0.0000,\n",
       "         0.0000, 0.0000, 0.0000, 0.0118, 0.0706, 0.0706, 0.0706, 0.4941, 0.5333,\n",
       "         0.6863, 0.1020, 0.6510, 1.0000, 0.9686, 0.4980, 0.0000, 0.0000, 0.0000,\n",
       "         0.0000],\n",
       "        [0.0000, 0.0000, 0.0000, 0.0000, 0.0000, 0.0000, 0.0000, 0.0000, 0.1176,\n",
       "         0.1412, 0.3686, 0.6039, 0.6667, 0.9922, 0.9922, 0.9922, 0.9922, 0.9922,\n",
       "         0.8824, 0.6745, 0.9922, 0.9490, 0.7647, 0.2510, 0.0000, 0.0000, 0.0000,\n",
       "         0.0000],\n",
       "        [0.0000, 0.0000, 0.0000, 0.0000, 0.0000, 0.0000, 0.0000, 0.1922, 0.9333,\n",
       "         0.9922, 0.9922, 0.9922, 0.9922, 0.9922, 0.9922, 0.9922, 0.9922, 0.9843,\n",
       "         0.3647, 0.3216, 0.3216, 0.2196, 0.1529, 0.0000, 0.0000, 0.0000, 0.0000,\n",
       "         0.0000],\n",
       "        [0.0000, 0.0000, 0.0000, 0.0000, 0.0000, 0.0000, 0.0000, 0.0706, 0.8588,\n",
       "         0.9922, 0.9922, 0.9922, 0.9922, 0.9922, 0.7765, 0.7137, 0.9686, 0.9451,\n",
       "         0.0000, 0.0000, 0.0000, 0.0000, 0.0000, 0.0000, 0.0000, 0.0000, 0.0000,\n",
       "         0.0000],\n",
       "        [0.0000, 0.0000, 0.0000, 0.0000, 0.0000, 0.0000, 0.0000, 0.0000, 0.3137,\n",
       "         0.6118, 0.4196, 0.9922, 0.9922, 0.8039, 0.0431, 0.0000, 0.1686, 0.6039,\n",
       "         0.0000, 0.0000, 0.0000, 0.0000, 0.0000, 0.0000, 0.0000, 0.0000, 0.0000,\n",
       "         0.0000],\n",
       "        [0.0000, 0.0000, 0.0000, 0.0000, 0.0000, 0.0000, 0.0000, 0.0000, 0.0000,\n",
       "         0.0549, 0.0039, 0.6039, 0.9922, 0.3529, 0.0000, 0.0000, 0.0000, 0.0000,\n",
       "         0.0000, 0.0000, 0.0000, 0.0000, 0.0000, 0.0000, 0.0000, 0.0000, 0.0000,\n",
       "         0.0000],\n",
       "        [0.0000, 0.0000, 0.0000, 0.0000, 0.0000, 0.0000, 0.0000, 0.0000, 0.0000,\n",
       "         0.0000, 0.0000, 0.5451, 0.9922, 0.7451, 0.0078, 0.0000, 0.0000, 0.0000,\n",
       "         0.0000, 0.0000, 0.0000, 0.0000, 0.0000, 0.0000, 0.0000, 0.0000, 0.0000,\n",
       "         0.0000],\n",
       "        [0.0000, 0.0000, 0.0000, 0.0000, 0.0000, 0.0000, 0.0000, 0.0000, 0.0000,\n",
       "         0.0000, 0.0000, 0.0431, 0.7451, 0.9922, 0.2745, 0.0000, 0.0000, 0.0000,\n",
       "         0.0000, 0.0000, 0.0000, 0.0000, 0.0000, 0.0000, 0.0000, 0.0000, 0.0000,\n",
       "         0.0000],\n",
       "        [0.0000, 0.0000, 0.0000, 0.0000, 0.0000, 0.0000, 0.0000, 0.0000, 0.0000,\n",
       "         0.0000, 0.0000, 0.0000, 0.1373, 0.9451, 0.8824, 0.6275, 0.4235, 0.0039,\n",
       "         0.0000, 0.0000, 0.0000, 0.0000, 0.0000, 0.0000, 0.0000, 0.0000, 0.0000,\n",
       "         0.0000],\n",
       "        [0.0000, 0.0000, 0.0000, 0.0000, 0.0000, 0.0000, 0.0000, 0.0000, 0.0000,\n",
       "         0.0000, 0.0000, 0.0000, 0.0000, 0.3176, 0.9412, 0.9922, 0.9922, 0.4667,\n",
       "         0.0980, 0.0000, 0.0000, 0.0000, 0.0000, 0.0000, 0.0000, 0.0000, 0.0000,\n",
       "         0.0000],\n",
       "        [0.0000, 0.0000, 0.0000, 0.0000, 0.0000, 0.0000, 0.0000, 0.0000, 0.0000,\n",
       "         0.0000, 0.0000, 0.0000, 0.0000, 0.0000, 0.1765, 0.7294, 0.9922, 0.9922,\n",
       "         0.5882, 0.1059, 0.0000, 0.0000, 0.0000, 0.0000, 0.0000, 0.0000, 0.0000,\n",
       "         0.0000],\n",
       "        [0.0000, 0.0000, 0.0000, 0.0000, 0.0000, 0.0000, 0.0000, 0.0000, 0.0000,\n",
       "         0.0000, 0.0000, 0.0000, 0.0000, 0.0000, 0.0000, 0.0627, 0.3647, 0.9882,\n",
       "         0.9922, 0.7333, 0.0000, 0.0000, 0.0000, 0.0000, 0.0000, 0.0000, 0.0000,\n",
       "         0.0000],\n",
       "        [0.0000, 0.0000, 0.0000, 0.0000, 0.0000, 0.0000, 0.0000, 0.0000, 0.0000,\n",
       "         0.0000, 0.0000, 0.0000, 0.0000, 0.0000, 0.0000, 0.0000, 0.0000, 0.9765,\n",
       "         0.9922, 0.9765, 0.2510, 0.0000, 0.0000, 0.0000, 0.0000, 0.0000, 0.0000,\n",
       "         0.0000],\n",
       "        [0.0000, 0.0000, 0.0000, 0.0000, 0.0000, 0.0000, 0.0000, 0.0000, 0.0000,\n",
       "         0.0000, 0.0000, 0.0000, 0.0000, 0.0000, 0.1804, 0.5098, 0.7176, 0.9922,\n",
       "         0.9922, 0.8118, 0.0078, 0.0000, 0.0000, 0.0000, 0.0000, 0.0000, 0.0000,\n",
       "         0.0000],\n",
       "        [0.0000, 0.0000, 0.0000, 0.0000, 0.0000, 0.0000, 0.0000, 0.0000, 0.0000,\n",
       "         0.0000, 0.0000, 0.0000, 0.1529, 0.5804, 0.8980, 0.9922, 0.9922, 0.9922,\n",
       "         0.9804, 0.7137, 0.0000, 0.0000, 0.0000, 0.0000, 0.0000, 0.0000, 0.0000,\n",
       "         0.0000],\n",
       "        [0.0000, 0.0000, 0.0000, 0.0000, 0.0000, 0.0000, 0.0000, 0.0000, 0.0000,\n",
       "         0.0000, 0.0941, 0.4471, 0.8667, 0.9922, 0.9922, 0.9922, 0.9922, 0.7882,\n",
       "         0.3059, 0.0000, 0.0000, 0.0000, 0.0000, 0.0000, 0.0000, 0.0000, 0.0000,\n",
       "         0.0000],\n",
       "        [0.0000, 0.0000, 0.0000, 0.0000, 0.0000, 0.0000, 0.0000, 0.0000, 0.0902,\n",
       "         0.2588, 0.8353, 0.9922, 0.9922, 0.9922, 0.9922, 0.7765, 0.3176, 0.0078,\n",
       "         0.0000, 0.0000, 0.0000, 0.0000, 0.0000, 0.0000, 0.0000, 0.0000, 0.0000,\n",
       "         0.0000],\n",
       "        [0.0000, 0.0000, 0.0000, 0.0000, 0.0000, 0.0000, 0.0706, 0.6706, 0.8588,\n",
       "         0.9922, 0.9922, 0.9922, 0.9922, 0.7647, 0.3137, 0.0353, 0.0000, 0.0000,\n",
       "         0.0000, 0.0000, 0.0000, 0.0000, 0.0000, 0.0000, 0.0000, 0.0000, 0.0000,\n",
       "         0.0000],\n",
       "        [0.0000, 0.0000, 0.0000, 0.0000, 0.2157, 0.6745, 0.8863, 0.9922, 0.9922,\n",
       "         0.9922, 0.9922, 0.9569, 0.5216, 0.0431, 0.0000, 0.0000, 0.0000, 0.0000,\n",
       "         0.0000, 0.0000, 0.0000, 0.0000, 0.0000, 0.0000, 0.0000, 0.0000, 0.0000,\n",
       "         0.0000],\n",
       "        [0.0000, 0.0000, 0.0000, 0.0000, 0.5333, 0.9922, 0.9922, 0.9922, 0.8314,\n",
       "         0.5294, 0.5176, 0.0627, 0.0000, 0.0000, 0.0000, 0.0000, 0.0000, 0.0000,\n",
       "         0.0000, 0.0000, 0.0000, 0.0000, 0.0000, 0.0000, 0.0000, 0.0000, 0.0000,\n",
       "         0.0000],\n",
       "        [0.0000, 0.0000, 0.0000, 0.0000, 0.0000, 0.0000, 0.0000, 0.0000, 0.0000,\n",
       "         0.0000, 0.0000, 0.0000, 0.0000, 0.0000, 0.0000, 0.0000, 0.0000, 0.0000,\n",
       "         0.0000, 0.0000, 0.0000, 0.0000, 0.0000, 0.0000, 0.0000, 0.0000, 0.0000,\n",
       "         0.0000],\n",
       "        [0.0000, 0.0000, 0.0000, 0.0000, 0.0000, 0.0000, 0.0000, 0.0000, 0.0000,\n",
       "         0.0000, 0.0000, 0.0000, 0.0000, 0.0000, 0.0000, 0.0000, 0.0000, 0.0000,\n",
       "         0.0000, 0.0000, 0.0000, 0.0000, 0.0000, 0.0000, 0.0000, 0.0000, 0.0000,\n",
       "         0.0000],\n",
       "        [0.0000, 0.0000, 0.0000, 0.0000, 0.0000, 0.0000, 0.0000, 0.0000, 0.0000,\n",
       "         0.0000, 0.0000, 0.0000, 0.0000, 0.0000, 0.0000, 0.0000, 0.0000, 0.0000,\n",
       "         0.0000, 0.0000, 0.0000, 0.0000, 0.0000, 0.0000, 0.0000, 0.0000, 0.0000,\n",
       "         0.0000]])"
      ]
     },
     "execution_count": 13,
     "metadata": {},
     "output_type": "execute_result"
    }
   ],
   "source": [
    "image.reshape(-1,28)"
   ]
  },
  {
   "cell_type": "code",
   "execution_count": 14,
   "id": "6da6a4e5-602b-4ec5-937d-d3de7d6a11d4",
   "metadata": {},
   "outputs": [
    {
     "data": {
      "text/plain": [
       "5"
      ]
     },
     "execution_count": 14,
     "metadata": {},
     "output_type": "execute_result"
    }
   ],
   "source": [
    "label"
   ]
  },
  {
   "cell_type": "code",
   "execution_count": 15,
   "id": "b87caed9-533c-4842-849f-24631bc08d54",
   "metadata": {},
   "outputs": [
    {
     "data": {
      "text/plain": [
       "<matplotlib.image.AxesImage at 0x2aeb4b7f470>"
      ]
     },
     "execution_count": 15,
     "metadata": {},
     "output_type": "execute_result"
    },
    {
     "data": {
      "image/png": "[encoded data removed]",
      "text/plain": [
       "<Figure size 640x480 with 1 Axes>"
      ]
     },
     "metadata": {},
     "output_type": "display_data"
    }
   ],
   "source": [
    "# View the image\n",
    "# Matplotlib can interpret pixel values through a variety of colormaps.\n",
    "\n",
    "plt.imshow(image.reshape(-1,28), cmap='gray')"
   ]
  },
  {
   "cell_type": "markdown",
   "id": "87980edf-8242-4772-bbb1-8b11081e1e30",
   "metadata": {},
   "source": [
    "## Batch loading with DataLoader"
   ]
  },
  {
   "cell_type": "code",
   "execution_count": 17,
   "id": "5df9557e-bf3e-4379-8ac3-fe4e182877cc",
   "metadata": {},
   "outputs": [],
   "source": [
    "# Train_data is a PyTorch Dataset object (an object that supports data loading and sampling).\n",
    "# batch_size=100: This parameter determines how many samples will be loaded and fed into the model at a time during training. \n",
    "# In this case, each batch will contain 100 samples. \n",
    "# Batching helps reduce memory usage and speeds up the training process, as processing the entire dataset at once is often infeasible.\n",
    "\n",
    "# Setting shuffle=True ensures that the data is randomly shuffled before each epoch. \n",
    "# This improves the model's generalization ability because it prevents the model from learning the order of the samples, \n",
    "# which could introduce unintended biases.\n",
    "\n",
    "torch.manual_seed(101)\n",
    "\n",
    "train_loader = DataLoader(train_data, batch_size=100, shuffle=True)\n",
    "test_loader = DataLoader(test_data, batch_size=500, shuffle=False)"
   ]
  },
  {
   "cell_type": "code",
   "execution_count": 18,
   "id": "81e4737e-ffb6-4f5e-8517-844e258b7044",
   "metadata": {},
   "outputs": [],
   "source": [
    "# Once DataLoader is defined, we can create a grid of images using torchvision.utils.make_grid\n",
    "\n",
    "from torchvision.utils import make_grid"
   ]
  },
  {
   "cell_type": "code",
   "execution_count": 19,
   "id": "11636893-91ec-45e9-a1d3-47e32ae6d0f7",
   "metadata": {},
   "outputs": [],
   "source": [
    "for images, labels in train_loader:\n",
    "    break"
   ]
  },
  {
   "cell_type": "code",
   "execution_count": 20,
   "id": "f957ddef-60ff-468c-bc8e-7758b7ce47f5",
   "metadata": {},
   "outputs": [
    {
     "data": {
      "text/plain": [
       "torch.Size([100, 1, 28, 28])"
      ]
     },
     "execution_count": 20,
     "metadata": {},
     "output_type": "execute_result"
    }
   ],
   "source": [
    "images.shape"
   ]
  },
  {
   "cell_type": "code",
   "execution_count": 21,
   "id": "c0aa1a8e-6d3c-4792-99d2-f65e53f6d2fe",
   "metadata": {},
   "outputs": [
    {
     "data": {
      "text/plain": [
       "torch.Size([100])"
      ]
     },
     "execution_count": 21,
     "metadata": {},
     "output_type": "execute_result"
    }
   ],
   "source": [
    "labels.shape"
   ]
  },
  {
   "cell_type": "code",
   "execution_count": 22,
   "id": "f6f5925b-53cb-4ac3-ac51-8a4c5d39bd24",
   "metadata": {},
   "outputs": [
    {
     "name": "stdout",
     "output_type": "stream",
     "text": [
      "Labels:  [7 2 3 5 8 5 3 6 9 9 1 3 5 5 4]\n"
     ]
    }
   ],
   "source": [
    "# Print the first 12 labels\n",
    "print('Labels: ', labels[:15].numpy())"
   ]
  },
  {
   "cell_type": "code",
   "execution_count": 23,
   "id": "748ab540-4026-4a6d-b1f7-7adc73152153",
   "metadata": {},
   "outputs": [
    {
     "data": {
      "text/plain": [
       "tensor([[[[0., 0., 0.,  ..., 0., 0., 0.],\n",
       "          [0., 0., 0.,  ..., 0., 0., 0.],\n",
       "          [0., 0., 0.,  ..., 0., 0., 0.],\n",
       "          ...,\n",
       "          [0., 0., 0.,  ..., 0., 0., 0.],\n",
       "          [0., 0., 0.,  ..., 0., 0., 0.],\n",
       "          [0., 0., 0.,  ..., 0., 0., 0.]]],\n",
       "\n",
       "\n",
       "        [[[0., 0., 0.,  ..., 0., 0., 0.],\n",
       "          [0., 0., 0.,  ..., 0., 0., 0.],\n",
       "          [0., 0., 0.,  ..., 0., 0., 0.],\n",
       "          ...,\n",
       "          [0., 0., 0.,  ..., 0., 0., 0.],\n",
       "          [0., 0., 0.,  ..., 0., 0., 0.],\n",
       "          [0., 0., 0.,  ..., 0., 0., 0.]]],\n",
       "\n",
       "\n",
       "        [[[0., 0., 0.,  ..., 0., 0., 0.],\n",
       "          [0., 0., 0.,  ..., 0., 0., 0.],\n",
       "          [0., 0., 0.,  ..., 0., 0., 0.],\n",
       "          ...,\n",
       "          [0., 0., 0.,  ..., 0., 0., 0.],\n",
       "          [0., 0., 0.,  ..., 0., 0., 0.],\n",
       "          [0., 0., 0.,  ..., 0., 0., 0.]]],\n",
       "\n",
       "\n",
       "        ...,\n",
       "\n",
       "\n",
       "        [[[0., 0., 0.,  ..., 0., 0., 0.],\n",
       "          [0., 0., 0.,  ..., 0., 0., 0.],\n",
       "          [0., 0., 0.,  ..., 0., 0., 0.],\n",
       "          ...,\n",
       "          [0., 0., 0.,  ..., 0., 0., 0.],\n",
       "          [0., 0., 0.,  ..., 0., 0., 0.],\n",
       "          [0., 0., 0.,  ..., 0., 0., 0.]]],\n",
       "\n",
       "\n",
       "        [[[0., 0., 0.,  ..., 0., 0., 0.],\n",
       "          [0., 0., 0.,  ..., 0., 0., 0.],\n",
       "          [0., 0., 0.,  ..., 0., 0., 0.],\n",
       "          ...,\n",
       "          [0., 0., 0.,  ..., 0., 0., 0.],\n",
       "          [0., 0., 0.,  ..., 0., 0., 0.],\n",
       "          [0., 0., 0.,  ..., 0., 0., 0.]]],\n",
       "\n",
       "\n",
       "        [[[0., 0., 0.,  ..., 0., 0., 0.],\n",
       "          [0., 0., 0.,  ..., 0., 0., 0.],\n",
       "          [0., 0., 0.,  ..., 0., 0., 0.],\n",
       "          ...,\n",
       "          [0., 0., 0.,  ..., 0., 0., 0.],\n",
       "          [0., 0., 0.,  ..., 0., 0., 0.],\n",
       "          [0., 0., 0.,  ..., 0., 0., 0.]]]])"
      ]
     },
     "execution_count": 23,
     "metadata": {},
     "output_type": "execute_result"
    }
   ],
   "source": [
    "images[:15]"
   ]
  },
  {
   "cell_type": "code",
   "execution_count": 24,
   "id": "7be1e478-d37e-40c6-960c-d6cf32eb9dc8",
   "metadata": {},
   "outputs": [
    {
     "data": {
      "image/png": "[encoded data removed]",
      "text/plain": [
       "<Figure size 1000x400 with 1 Axes>"
      ]
     },
     "metadata": {},
     "output_type": "display_data"
    }
   ],
   "source": [
    "# Print the first 15 images\n",
    "im = make_grid(images[:15], nrow=15)  # the default nrow is 8\n",
    "plt.figure(figsize=(10,4))\n",
    "# We need to transpose the images from CWH to WHC (channel number, width, height (0, 1, 2) to width, height, channel number (1, 2, 0))\n",
    "plt.imshow(np.transpose(im.numpy(), (1, 2, 0)));"
   ]
  },
  {
   "cell_type": "markdown",
   "id": "2a9e55af-02c5-40c6-b699-b3910891e7eb",
   "metadata": {},
   "source": [
    "## Define the model"
   ]
  },
  {
   "cell_type": "code",
   "execution_count": 26,
   "id": "0ca9c58c-7195-47ab-8309-d6af8ee10272",
   "metadata": {},
   "outputs": [],
   "source": [
    "# We will use fully connected layers to develop a multilayer perceptron.\n",
    "# After flatten the 28x28 tensors, the input size is 784\n",
    "# The output size represents the 10 possible digits.\n",
    "# Here I set the hidden layers to [120, 84]. If the model works well, no need to adjust it.\n",
    "\n",
    "class MultilayerPerceptron(nn.Module):\n",
    "\n",
    "    def __init__(self, in_sz=784, out_sz=10, layers=[120, 84]):\n",
    "\n",
    "        super().__init__()\n",
    "\n",
    "        self.fc1 = nn.Linear(in_sz, layers[0])\n",
    "        self.fc2 = nn.Linear(layers[0], layers[1])\n",
    "        self.fc3 = nn.Linear(layers[1], out_sz)\n",
    "\n",
    "    def forward(self, X):\n",
    "        # There are three activation functions: relu for the first two, the third one softmax is for the output\n",
    "        # it is a multiple classification model\n",
    "        # Here we used F.relu() as a functional wrapper on the linear layer directly.\n",
    "        X = F.relu(self.fc1(X))\n",
    "        X = F.relu(self.fc2(X))\n",
    "        X = self.fc3(X)\n",
    "\n",
    "        return F.log_softmax(X, dim=1)"
   ]
  },
  {
   "cell_type": "code",
   "execution_count": 27,
   "id": "4f5a4985-b0dd-4adb-85f5-a35c3169baa8",
   "metadata": {},
   "outputs": [
    {
     "data": {
      "text/plain": [
       "MultilayerPerceptron(\n",
       "  (fc1): Linear(in_features=784, out_features=120, bias=True)\n",
       "  (fc2): Linear(in_features=120, out_features=84, bias=True)\n",
       "  (fc3): Linear(in_features=84, out_features=10, bias=True)\n",
       ")"
      ]
     },
     "execution_count": 27,
     "metadata": {},
     "output_type": "execute_result"
    }
   ],
   "source": [
    "torch.manual_seed(101)\n",
    "model = MultilayerPerceptron()\n",
    "model"
   ]
  },
  {
   "cell_type": "code",
   "execution_count": 28,
   "id": "9ca8e935-ce80-4481-94c0-3be317c69039",
   "metadata": {},
   "outputs": [
    {
     "name": "stdout",
     "output_type": "stream",
     "text": [
      "94080\n",
      "120\n",
      "10080\n",
      "84\n",
      "840\n",
      "10\n",
      "\n",
      "\n",
      "105214\n"
     ]
    }
   ],
   "source": [
    "# Count the model parameters.\n",
    "# The number of weights in each layer is given by the product of the input and output features.\n",
    "# Each layer has a bias for each output feature.\n",
    "# 784 * 120 (weights) + 120 (bias) + 120 * 84 (weights) + 84 (bias) + 84 * 10 (weights) + 10 (bias) = 105214\n",
    "\n",
    "params = 0\n",
    "\n",
    "for param in model.parameters():\n",
    "    print(param.numel())\n",
    "    params += param.numel()\n",
    "\n",
    "print('\\n')\n",
    "print(params)"
   ]
  },
  {
   "cell_type": "markdown",
   "id": "df1e5d48-4d25-463e-8cf6-440f7523bf2c",
   "metadata": {},
   "source": [
    "### Define loss function & optimizer"
   ]
  },
  {
   "cell_type": "code",
   "execution_count": 30,
   "id": "a710324b-4afd-4d64-9210-34ab9d50ac9e",
   "metadata": {},
   "outputs": [],
   "source": [
    "# CrossEntropyLoss is ideal for multi-class classification problems.\n",
    "# Adam is preferred due to its adaptability and efficiency in training deep learning models. \n",
    "# It generally leads to faster convergence with less manual tuning of hyperparameters, making it a popular choice for neural network optimization.\n",
    "\n",
    "criterion = nn.CrossEntropyLoss()\n",
    "optimizer = torch.optim.Adam(model.parameters(), lr=0.001)"
   ]
  },
  {
   "cell_type": "markdown",
   "id": "76558000-c828-4490-bc0c-6e9acf0090fc",
   "metadata": {},
   "source": [
    "#### Flatten the training data"
   ]
  },
  {
   "cell_type": "code",
   "execution_count": 32,
   "id": "2ed77b2b-139f-4568-8f25-546499d817b6",
   "metadata": {},
   "outputs": [
    {
     "data": {
      "text/plain": [
       "torch.Size([100, 784])"
      ]
     },
     "execution_count": 32,
     "metadata": {},
     "output_type": "execute_result"
    }
   ],
   "source": [
    "images.view(100, -1).shape"
   ]
  },
  {
   "cell_type": "code",
   "execution_count": 33,
   "id": "c0db5f7a-cb0e-4a3b-825d-c57451905251",
   "metadata": {},
   "outputs": [
    {
     "name": "stdout",
     "output_type": "stream",
     "text": [
      "Epoch 0 Batch 200  Loss: 0.23541301488876343  Accuracy: 83.25\n",
      "Epoch 0 Batch 400  Loss: 0.35372811555862427  Accuracy: 87.5275\n",
      "Epoch 0 Batch 600  Loss: 0.13645225763320923  Accuracy: 89.57333333333334\n",
      "Epoch 1 Batch 200  Loss: 0.2445889711380005  Accuracy: 94.84\n",
      "Epoch 1 Batch 400  Loss: 0.14444680511951447  Accuracy: 95.055\n",
      "Epoch 1 Batch 600  Loss: 0.07348378002643585  Accuracy: 95.355\n",
      "Epoch 2 Batch 200  Loss: 0.08600125461816788  Accuracy: 96.55\n",
      "Epoch 2 Batch 400  Loss: 0.06034965440630913  Accuracy: 96.6425\n",
      "Epoch 2 Batch 600  Loss: 0.06324753910303116  Accuracy: 96.71333333333334\n",
      "Epoch 3 Batch 200  Loss: 0.11463852971792221  Accuracy: 97.635\n",
      "Epoch 3 Batch 400  Loss: 0.06223197281360626  Accuracy: 97.475\n",
      "Epoch 3 Batch 600  Loss: 0.030628442764282227  Accuracy: 97.495\n",
      "Epoch 4 Batch 200  Loss: 0.11356642842292786  Accuracy: 98.195\n",
      "Epoch 4 Batch 400  Loss: 0.04613405838608742  Accuracy: 98.045\n",
      "Epoch 4 Batch 600  Loss: 0.05497684329748154  Accuracy: 98.045\n",
      "Epoch 5 Batch 200  Loss: 0.00776484003290534  Accuracy: 98.375\n",
      "Epoch 5 Batch 400  Loss: 0.03554932400584221  Accuracy: 98.4625\n",
      "Epoch 5 Batch 600  Loss: 0.05318126082420349  Accuracy: 98.38666666666667\n",
      "Epoch 6 Batch 200  Loss: 0.04108878970146179  Accuracy: 98.815\n",
      "Epoch 6 Batch 400  Loss: 0.06766218692064285  Accuracy: 98.6875\n",
      "Epoch 6 Batch 600  Loss: 0.08585714548826218  Accuracy: 98.68\n",
      "Epoch 7 Batch 200  Loss: 0.08275426924228668  Accuracy: 99.105\n",
      "Epoch 7 Batch 400  Loss: 0.07004614174365997  Accuracy: 98.97\n",
      "Epoch 7 Batch 600  Loss: 0.052616823464632034  Accuracy: 98.91333333333333\n",
      "Epoch 8 Batch 200  Loss: 0.005552057176828384  Accuracy: 99.24\n",
      "Epoch 8 Batch 400  Loss: 0.010473711416125298  Accuracy: 99.145\n",
      "Epoch 8 Batch 600  Loss: 0.09571783989667892  Accuracy: 99.13333333333334\n",
      "Epoch 9 Batch 200  Loss: 0.005590575747191906  Accuracy: 99.42\n",
      "Epoch 9 Batch 400  Loss: 0.019231343641877174  Accuracy: 99.29\n",
      "Epoch 9 Batch 600  Loss: 0.01953740417957306  Accuracy: 99.26333333333334\n",
      "Duration: 0.7714474121729533 mins\n"
     ]
    }
   ],
   "source": [
    "# Here I ran the test data through the model during each epoch, so that I can compare loss & accuracy on the same plot.\n",
    "\n",
    "import time\n",
    "start_time = time.time()\n",
    "\n",
    "epochs = 10\n",
    "train_losses = []\n",
    "test_losses = []\n",
    "train_correct = []\n",
    "test_correct = []\n",
    "\n",
    "for i in range(epochs):\n",
    "\n",
    "    train_corr = 0\n",
    "    test_corr = 0\n",
    "\n",
    "    for b, (X_train, y_train) in enumerate(train_loader):\n",
    "\n",
    "        b += 1\n",
    "\n",
    "        # y_pred is the output of the model. typically a tensor containing the raw scores (logits) for each class.\n",
    "        # .data extracts the tensor holding the actual values \n",
    "        # Though in modern PyTorch, it's better to use y_pred.detach() to avoid issues with autograd\n",
    "        \n",
    "        y_pred = model(X_train.view(100, -1))\n",
    "        loss = criterion(y_pred, y_train)\n",
    "\n",
    "        # The function torch.max(input, dim) computes the maximum values along a specified dimension (dim)\n",
    "        # dim=1 means you are computing the max along rows.\n",
    "        # torch.max() function returns a tensor of maximum values, and a tensor of the indices where the max values were found.\n",
    "        # The result of torch.max() returns two outputs: tensor of maximum values and tensor of indices\n",
    "        # predicted is the predicted class label\n",
    "        \n",
    "        predicted = torch.max(y_pred.data, 1)[1]\n",
    "        train_corr += (predicted == y_train).sum()\n",
    "\n",
    "        # Calling optimizer.zero_grad() ensures that the gradients are cleared out before computing them for the current batch.\n",
    "        # The optimizer (e.g., Adam, SGD) takes the gradients stored in each parameter's grad attribute \n",
    "        # and adjusts the parameters according to the chosen optimization algorithm.\n",
    "        \n",
    "        optimizer.zero_grad()  # Resets the gradients of all model parameters before performing the backpropagation step.\n",
    "        loss.backward()  # Computes the gradients of the loss function with respect to the model's parameters.\n",
    "        optimizer.step()  # Updates the model's parameters based on the gradients computed in the previous step.\n",
    "\n",
    "        if b%200 == 0:\n",
    "            accuracy = train_corr.item()*100/(100*b)\n",
    "            print(f'Epoch {i} Batch {b}  Loss: {loss.item()}  Accuracy: {accuracy}')\n",
    "\n",
    "    train_losses.append(loss)\n",
    "    train_correct.append(train_corr)\n",
    "    \n",
    "    with torch.no_grad():\n",
    "\n",
    "        for b, (X_test,y_test) in enumerate(test_loader):\n",
    "\n",
    "            y_val = model(X_test.view(500, -1))\n",
    "\n",
    "            predicted = torch.max(y_val.data, 1)[1]\n",
    "            test_corr += (predicted==y_test).sum()\n",
    "\n",
    "    loss = criterion(y_val, y_test)\n",
    "    test_losses.append(loss)\n",
    "    test_correct.append(test_corr)\n",
    "\n",
    "total_time = time.time() - start_time\n",
    "print(f'Duration: {total_time/60} mins')"
   ]
  },
  {
   "cell_type": "markdown",
   "id": "e59046a6-8fdf-471b-8b33-c2a586092afa",
   "metadata": {},
   "source": [
    "### Plot the loss and accuracy comparisons"
   ]
  },
  {
   "cell_type": "code",
   "execution_count": 35,
   "id": "944939fd-f754-4ed8-8f18-6ef5ffd9d39c",
   "metadata": {},
   "outputs": [
    {
     "data": {
      "text/plain": [
       "<matplotlib.legend.Legend at 0x2aeb4afbf20>"
      ]
     },
     "execution_count": 35,
     "metadata": {},
     "output_type": "execute_result"
    },
    {
     "data": {
      "image/png": "[encoded data removed]",
      "text/plain": [
       "<Figure size 640x480 with 1 Axes>"
      ]
     },
     "metadata": {},
     "output_type": "display_data"
    }
   ],
   "source": [
    "plt.plot([loss.item() for loss in train_losses], label='Training Loss')\n",
    "plt.plot([loss.item() for loss in test_losses], label='Test/Validation Loss')\n",
    "plt.legend()"
   ]
  },
  {
   "cell_type": "code",
   "execution_count": 36,
   "id": "d7660d76-3445-45f6-b306-a1e607f98391",
   "metadata": {},
   "outputs": [],
   "source": [
    "# calculate accuracy of each epoch\n",
    "\n",
    "train_acc = [100*t/60000 for t in train_correct]"
   ]
  },
  {
   "cell_type": "code",
   "execution_count": 37,
   "id": "d2a74023-8b53-43be-aeb1-3e9b37e12365",
   "metadata": {},
   "outputs": [
    {
     "data": {
      "text/plain": [
       "[tensor(89.5733),\n",
       " tensor(95.3550),\n",
       " tensor(96.7133),\n",
       " tensor(97.4950),\n",
       " tensor(98.0450),\n",
       " tensor(98.3867),\n",
       " tensor(98.6800),\n",
       " tensor(98.9133),\n",
       " tensor(99.1333),\n",
       " tensor(99.2633)]"
      ]
     },
     "execution_count": 37,
     "metadata": {},
     "output_type": "execute_result"
    }
   ],
   "source": [
    "train_acc"
   ]
  },
  {
   "cell_type": "code",
   "execution_count": 38,
   "id": "8a97e277-699b-45e4-b9d0-2be2d3379843",
   "metadata": {},
   "outputs": [
    {
     "data": {
      "text/plain": [
       "[tensor(94.3500),\n",
       " tensor(95.9100),\n",
       " tensor(96.9100),\n",
       " tensor(97.0900),\n",
       " tensor(97.5000),\n",
       " tensor(97.6500),\n",
       " tensor(97.8700),\n",
       " tensor(97.7700),\n",
       " tensor(97.5600),\n",
       " tensor(97.6600)]"
      ]
     },
     "execution_count": 38,
     "metadata": {},
     "output_type": "execute_result"
    }
   ],
   "source": [
    "test_acc = [100*t/10000 for t in test_correct]\n",
    "test_acc"
   ]
  },
  {
   "cell_type": "code",
   "execution_count": 39,
   "id": "a16a4f68-06da-4072-8fa4-76dae5215fdb",
   "metadata": {},
   "outputs": [
    {
     "data": {
      "text/plain": [
       "<matplotlib.legend.Legend at 0x2aeb4d27350>"
      ]
     },
     "execution_count": 39,
     "metadata": {},
     "output_type": "execute_result"
    },
    {
     "data": {
      "image/png": "[encoded data removed]",
      "text/plain": [
       "<Figure size 640x480 with 1 Axes>"
      ]
     },
     "metadata": {},
     "output_type": "display_data"
    }
   ],
   "source": [
    "plt.plot(train_acc, label='Train accuracy')\n",
    "plt.plot(test_acc, label='Test accuracy')\n",
    "plt.legend()"
   ]
  },
  {
   "cell_type": "code",
   "execution_count": 40,
   "id": "c0056197-d0cb-4958-974b-3d66d934b38b",
   "metadata": {},
   "outputs": [],
   "source": [
    "# new unseed data\n",
    "\n",
    "test_load_all = DataLoader(test_data, batch_size=10000, shuffle=False)"
   ]
  },
  {
   "cell_type": "code",
   "execution_count": 41,
   "id": "cfb891d2-7c10-41fe-8702-cda2b75f3510",
   "metadata": {},
   "outputs": [],
   "source": [
    "with torch.no_grad():\n",
    "    correct = 0\n",
    "\n",
    "    for X_test, y_test in test_load_all:\n",
    "        y_val = model(X_test.view(len(X_test), -1))\n",
    "        predicted = torch.max(y_val,1)[1]\n",
    "        correct += (predicted == y_test).sum()"
   ]
  },
  {
   "cell_type": "code",
   "execution_count": 42,
   "id": "a31942d1-6190-4671-a708-587b7c3758ad",
   "metadata": {},
   "outputs": [
    {
     "data": {
      "text/plain": [
       "97.66"
      ]
     },
     "execution_count": 42,
     "metadata": {},
     "output_type": "execute_result"
    }
   ],
   "source": [
    "100*correct.item()/len(test_data)"
   ]
  },
  {
   "cell_type": "markdown",
   "id": "61f289c6-543c-4127-b67f-953017c3d9b9",
   "metadata": {},
   "source": [
    "#### Display the confusion matrix"
   ]
  },
  {
   "cell_type": "code",
   "execution_count": 44,
   "id": "0af76b6d-cdf4-4b10-90ec-c4679f8a9985",
   "metadata": {},
   "outputs": [
    {
     "data": {
      "text/plain": [
       "array([[ 974,    0,    5,    0,    2,    2,    5,    3,    4,    5],\n",
       "       [   0, 1124,    3,    0,    0,    0,    3,    9,    0,    2],\n",
       "       [   0,    3, 1002,    3,    1,    0,    1,   11,    2,    0],\n",
       "       [   3,    2,    6,  991,    0,   14,    1,    1,    3,    3],\n",
       "       [   0,    0,    2,    0,  966,    3,    2,    3,    3,    9],\n",
       "       [   0,    0,    0,    3,    0,  854,    2,    1,    2,    2],\n",
       "       [   1,    1,    1,    0,    5,    4,  943,    1,    1,    0],\n",
       "       [   0,    0,    3,    2,    0,    2,    0,  977,    2,    0],\n",
       "       [   2,    5,   10,    6,    1,   12,    1,    3,  952,    5],\n",
       "       [   0,    0,    0,    5,    7,    1,    0,   19,    5,  983]],\n",
       "      dtype=int64)"
      ]
     },
     "execution_count": 44,
     "metadata": {},
     "output_type": "execute_result"
    }
   ],
   "source": [
    "confusion_matrix(predicted.view(-1), y_test.view(-1))"
   ]
  },
  {
   "cell_type": "code",
   "execution_count": 45,
   "id": "2652ca75-f772-4ae1-af5d-10bc9d4fc527",
   "metadata": {},
   "outputs": [
    {
     "data": {
      "text/plain": [
       "234"
      ]
     },
     "execution_count": 45,
     "metadata": {},
     "output_type": "execute_result"
    }
   ],
   "source": [
    "misses = np.array([])\n",
    "for i in range(len(predicted.view(-1))):\n",
    "    if predicted[i] != y_test[i]:\n",
    "        misses = np.append(misses, i).astype('int64')\n",
    "\n",
    "# Display the number of misses\n",
    "len(misses)"
   ]
  },
  {
   "cell_type": "code",
   "execution_count": 46,
   "id": "18098c7b-e170-4819-b944-d385a3b61cbe",
   "metadata": {},
   "outputs": [
    {
     "data": {
      "text/plain": [
       "array([ 80, 149, 151, 247, 259, 321, 340, 445, 448, 495, 551, 582],\n",
       "      dtype=int64)"
      ]
     },
     "execution_count": 46,
     "metadata": {},
     "output_type": "execute_result"
    }
   ],
   "source": [
    "# Display hte first 12 index positions\n",
    "misses[:12]"
   ]
  },
  {
   "cell_type": "code",
   "execution_count": 47,
   "id": "586b12b8-cd5b-4aa0-948d-36b2e8b38e57",
   "metadata": {},
   "outputs": [],
   "source": [
    "# Set up an iterator to feed batched rows\n",
    "r = 12  # row size\n",
    "row = iter(np.array_split(misses, len(misses)//r+1))"
   ]
  },
  {
   "cell_type": "code",
   "execution_count": 48,
   "id": "50a4c417-8745-40bc-90f3-df42a999a422",
   "metadata": {},
   "outputs": [
    {
     "name": "stdout",
     "output_type": "stream",
     "text": [
      "Index: [ 80 149 151 247 259 321 340 445 448 495 551 582]\n",
      "Label: [7 2 9 4 6 2 5 6 9 8 7 8]\n",
      "Guess: [9 4 8 6 0 7 3 0 8 0 1 2]\n"
     ]
    },
    {
     "data": {
      "image/png": "[encoded data removed]",
      "text/plain": [
       "<Figure size 1000x400 with 1 Axes>"
      ]
     },
     "metadata": {},
     "output_type": "display_data"
    }
   ],
   "source": [
    "nextrow = next(row)\n",
    "print(\"Index:\", nextrow)\n",
    "print(\"Label:\", y_test.index_select(0,torch.tensor(nextrow)).numpy())\n",
    "print(\"Guess:\", predicted.index_select(0,torch.tensor(nextrow)).numpy())\n",
    "\n",
    "images = X_test.index_select(0,torch.tensor(nextrow))\n",
    "im = make_grid(images, nrow=r)\n",
    "plt.figure(figsize=(10,4))\n",
    "plt.imshow(np.transpose(im.numpy(), (1, 2, 0)));"
   ]
  },
  {
   "cell_type": "code",
   "execution_count": null,
   "id": "4e3a5df7-3f79-49b4-a18e-0a161bdea99b",
   "metadata": {},
   "outputs": [],
   "source": []
  }
 ],
 "metadata": {
  "kernelspec": {
   "display_name": "Python 3 (ipykernel)",
   "language": "python",
   "name": "python3"
  },
  "language_info": {
   "codemirror_mode": {
    "name": "ipython",
    "version": 3
   },
   "file_extension": ".py",
   "mimetype": "text/x-python",
   "name": "python",
   "nbconvert_exporter": "python",
   "pygments_lexer": "ipython3",
   "version": "3.12.4"
  }
 },
 "nbformat": 4,
 "nbformat_minor": 5
}
