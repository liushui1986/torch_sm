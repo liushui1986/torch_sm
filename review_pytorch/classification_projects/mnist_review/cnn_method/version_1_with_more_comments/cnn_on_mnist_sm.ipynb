{
 "cells": [
  {
   "cell_type": "code",
   "execution_count": 30,
   "id": "11934a4d-757e-4f0f-a72b-57f4d854396f",
   "metadata": {},
   "outputs": [],
   "source": [
    "import torch\n",
    "import torch.nn as nn\n",
    "import torch.nn.functional as F   # adds some efficiency\n",
    "from torch.utils.data import DataLoader   # allows loading data in batches\n",
    "from torchvision import datasets, transforms\n",
    "from torchvision.utils import make_grid\n",
    "\n",
    "import numpy as np\n",
    "import pandas as pd\n",
    "from sklearn.metrics import confusion_matrix\n",
    "import matplotlib.pyplot as plt\n",
    "%matplotlib inline"
   ]
  },
  {
   "cell_type": "markdown",
   "id": "d97476c0-e478-4d51-917f-971f879ed98b",
   "metadata": {},
   "source": [
    "### PyTorch makes the MNIST dataset availabel via torchvision. The first time is is called, the dataset will be downloaded noto my computer to the path specified. Then, torchvision will always look for a local copy before attempting another download"
   ]
  },
  {
   "cell_type": "code",
   "execution_count": 31,
   "id": "1f9d76cb-d2f6-4136-85a4-d8175a179a59",
   "metadata": {},
   "outputs": [],
   "source": [
    "# Here we may need to apply multiple transformations (reshape, convert to tensor, normalize, etc.) to the incoming data.\n",
    "# In current case, we only need to convert images to tensors.\n",
    "\n",
    "transform = transforms.ToTensor()"
   ]
  },
  {
   "cell_type": "code",
   "execution_count": 32,
   "id": "9ea01171-e9bd-4bf2-a642-e975db4ed3cf",
   "metadata": {},
   "outputs": [],
   "source": [
    "# Load the training set\n",
    "\n",
    "train_data = datasets.MNIST(root='../Data/', train=True, download=True, transform=transform)"
   ]
  },
  {
   "cell_type": "code",
   "execution_count": 33,
   "id": "ef0e455c-e1c4-4516-b879-14b03c1ef111",
   "metadata": {},
   "outputs": [],
   "source": [
    "# Load the test set\n",
    "\n",
    "test_data = datasets.MNIST(root='../Data/', train=False, download=True, transform=transform)"
   ]
  },
  {
   "cell_type": "code",
   "execution_count": 34,
   "id": "7267f107-be32-4d5a-b79b-a212a324d92c",
   "metadata": {},
   "outputs": [
    {
     "data": {
      "text/plain": [
       "Dataset MNIST\n",
       "    Number of datapoints: 60000\n",
       "    Root location: ../Data/\n",
       "    Split: Train\n",
       "    StandardTransform\n",
       "Transform: ToTensor()"
      ]
     },
     "execution_count": 34,
     "metadata": {},
     "output_type": "execute_result"
    }
   ],
   "source": [
    "# The training set contains 60000 records. The total number of parameters trained in ANN is over 100,000 parameters.\n",
    "\n",
    "train_data"
   ]
  },
  {
   "cell_type": "code",
   "execution_count": 35,
   "id": "c173d3c6-afee-40cc-86ba-53f63426545b",
   "metadata": {},
   "outputs": [
    {
     "data": {
      "text/plain": [
       "Dataset MNIST\n",
       "    Number of datapoints: 10000\n",
       "    Root location: ../Data/\n",
       "    Split: Test\n",
       "    StandardTransform\n",
       "Transform: ToTensor()"
      ]
     },
     "execution_count": 35,
     "metadata": {},
     "output_type": "execute_result"
    }
   ],
   "source": [
    "test_data"
   ]
  },
  {
   "cell_type": "code",
   "execution_count": 36,
   "id": "6a790165-f7e0-4429-98bd-1b257f132dc7",
   "metadata": {},
   "outputs": [],
   "source": [
    "# the batch_size is the number of records to be processed at a time. \n",
    "# If it is not evenly divisible into the dataset, then the final batch contains the remainder.\n",
    "# When working with images, we want relatively small batches; a batch sieze of 4 is very common.\n",
    "# setting shuffle to True means that the dataset will be shuffled after each epoch.\n",
    "\n",
    "train_loader = DataLoader(train_data, batch_size=10, shuffle=True)\n",
    "test_loader = DataLoader(test_data, batch_size=10, shuffle=False)"
   ]
  },
  {
   "cell_type": "code",
   "execution_count": 37,
   "id": "97ab9866-95d1-4c12-bd23-91cf8beef797",
   "metadata": {},
   "outputs": [
    {
     "data": {
      "text/plain": [
       "torch.utils.data.dataloader.DataLoader"
      ]
     },
     "execution_count": 37,
     "metadata": {},
     "output_type": "execute_result"
    }
   ],
   "source": [
    "type(train_loader)"
   ]
  },
  {
   "cell_type": "code",
   "execution_count": 38,
   "id": "20b00036-c088-4642-a93b-a12f0ebd0bd4",
   "metadata": {},
   "outputs": [
    {
     "data": {
      "text/plain": [
       "<torch.utils.data.dataloader.DataLoader at 0x1a7086dd7d0>"
      ]
     },
     "execution_count": 38,
     "metadata": {},
     "output_type": "execute_result"
    }
   ],
   "source": [
    "train_loader"
   ]
  },
  {
   "cell_type": "markdown",
   "id": "c664389f-1226-4c40-8b83-8ec83067d08a",
   "metadata": {},
   "source": [
    "#### We plan to employ two convolutional layers and two pooling layers feeding data through fully connected hidden layers to the output. The model follows CONV/RELU/POOL/CONV/RELU/POOL/FC/RELU/FC."
   ]
  },
  {
   "cell_type": "code",
   "execution_count": 39,
   "id": "9ce2272a-ea93-49c3-868c-c6effb6f5b44",
   "metadata": {},
   "outputs": [],
   "source": [
    "# The first layer has one input channel (the grayscale color channel). Here assign 6 output channels for feature extraction.\n",
    "# 1 color channel, 6 filters (output channels), 3 by 3 kernal, stride (step size) = 1\n",
    "conv1 = nn.Conv2d(1, 6, 3, 1)  # 6 filters  --> pooling --> conv2\n",
    "\n",
    "# 6 input filters from conv1, 16 filters as output, 3 by 3, stride = 1\n",
    "conv2 = nn.Conv2d(6, 16, 3, 1)"
   ]
  },
  {
   "cell_type": "code",
   "execution_count": 40,
   "id": "2fde3788-2aba-4d01-b6c9-5e5ac4fe094d",
   "metadata": {},
   "outputs": [],
   "source": [
    "# Grab the first MNIST record\n",
    "\n",
    "for i, (X_train, y_train) in enumerate(train_data):\n",
    "    break"
   ]
  },
  {
   "cell_type": "code",
   "execution_count": 41,
   "id": "9fab6080-98b7-458a-a132-d1b02f7e566f",
   "metadata": {},
   "outputs": [],
   "source": [
    "# Create a rank-4 tensor to be passed into the model\n",
    "# 1 batch, 1 color channel, 28 pix, 28 pix\n",
    "\n",
    "x = X_train.view(1, 1, 28, 28)"
   ]
  },
  {
   "cell_type": "code",
   "execution_count": 42,
   "id": "0cf5ef5d-f9be-4a4f-82a5-a59d95836f45",
   "metadata": {},
   "outputs": [
    {
     "data": {
      "text/plain": [
       "tensor([[[[0.0000, 0.0000, 0.0000, 0.0000, 0.0000, 0.0000, 0.0000, 0.0000,\n",
       "           0.0000, 0.0000, 0.0000, 0.0000, 0.0000, 0.0000, 0.0000, 0.0000,\n",
       "           0.0000, 0.0000, 0.0000, 0.0000, 0.0000, 0.0000, 0.0000, 0.0000,\n",
       "           0.0000, 0.0000, 0.0000, 0.0000],\n",
       "          [0.0000, 0.0000, 0.0000, 0.0000, 0.0000, 0.0000, 0.0000, 0.0000,\n",
       "           0.0000, 0.0000, 0.0000, 0.0000, 0.0000, 0.0000, 0.0000, 0.0000,\n",
       "           0.0000, 0.0000, 0.0000, 0.0000, 0.0000, 0.0000, 0.0000, 0.0000,\n",
       "           0.0000, 0.0000, 0.0000, 0.0000],\n",
       "          [0.0000, 0.0000, 0.0000, 0.0000, 0.0000, 0.0000, 0.0000, 0.0000,\n",
       "           0.0000, 0.0000, 0.0000, 0.0000, 0.0000, 0.0000, 0.0000, 0.0000,\n",
       "           0.0000, 0.0000, 0.0000, 0.0000, 0.0000, 0.0000, 0.0000, 0.0000,\n",
       "           0.0000, 0.0000, 0.0000, 0.0000],\n",
       "          [0.0000, 0.0000, 0.0000, 0.0000, 0.0000, 0.0000, 0.0000, 0.0000,\n",
       "           0.0000, 0.0000, 0.0000, 0.0000, 0.0000, 0.0000, 0.0000, 0.0000,\n",
       "           0.0000, 0.0000, 0.0000, 0.0000, 0.0000, 0.0000, 0.0000, 0.0000,\n",
       "           0.0000, 0.0000, 0.0000, 0.0000],\n",
       "          [0.0000, 0.0000, 0.0000, 0.0000, 0.0000, 0.0000, 0.0000, 0.0000,\n",
       "           0.0000, 0.0000, 0.0000, 0.0000, 0.0000, 0.0000, 0.0000, 0.0000,\n",
       "           0.0000, 0.0000, 0.0000, 0.0000, 0.0000, 0.0000, 0.0000, 0.0000,\n",
       "           0.0000, 0.0000, 0.0000, 0.0000],\n",
       "          [0.0000, 0.0000, 0.0000, 0.0000, 0.0000, 0.0000, 0.0000, 0.0000,\n",
       "           0.0000, 0.0000, 0.0000, 0.0000, 0.0118, 0.0706, 0.0706, 0.0706,\n",
       "           0.4941, 0.5333, 0.6863, 0.1020, 0.6510, 1.0000, 0.9686, 0.4980,\n",
       "           0.0000, 0.0000, 0.0000, 0.0000],\n",
       "          [0.0000, 0.0000, 0.0000, 0.0000, 0.0000, 0.0000, 0.0000, 0.0000,\n",
       "           0.1176, 0.1412, 0.3686, 0.6039, 0.6667, 0.9922, 0.9922, 0.9922,\n",
       "           0.9922, 0.9922, 0.8824, 0.6745, 0.9922, 0.9490, 0.7647, 0.2510,\n",
       "           0.0000, 0.0000, 0.0000, 0.0000],\n",
       "          [0.0000, 0.0000, 0.0000, 0.0000, 0.0000, 0.0000, 0.0000, 0.1922,\n",
       "           0.9333, 0.9922, 0.9922, 0.9922, 0.9922, 0.9922, 0.9922, 0.9922,\n",
       "           0.9922, 0.9843, 0.3647, 0.3216, 0.3216, 0.2196, 0.1529, 0.0000,\n",
       "           0.0000, 0.0000, 0.0000, 0.0000],\n",
       "          [0.0000, 0.0000, 0.0000, 0.0000, 0.0000, 0.0000, 0.0000, 0.0706,\n",
       "           0.8588, 0.9922, 0.9922, 0.9922, 0.9922, 0.9922, 0.7765, 0.7137,\n",
       "           0.9686, 0.9451, 0.0000, 0.0000, 0.0000, 0.0000, 0.0000, 0.0000,\n",
       "           0.0000, 0.0000, 0.0000, 0.0000],\n",
       "          [0.0000, 0.0000, 0.0000, 0.0000, 0.0000, 0.0000, 0.0000, 0.0000,\n",
       "           0.3137, 0.6118, 0.4196, 0.9922, 0.9922, 0.8039, 0.0431, 0.0000,\n",
       "           0.1686, 0.6039, 0.0000, 0.0000, 0.0000, 0.0000, 0.0000, 0.0000,\n",
       "           0.0000, 0.0000, 0.0000, 0.0000],\n",
       "          [0.0000, 0.0000, 0.0000, 0.0000, 0.0000, 0.0000, 0.0000, 0.0000,\n",
       "           0.0000, 0.0549, 0.0039, 0.6039, 0.9922, 0.3529, 0.0000, 0.0000,\n",
       "           0.0000, 0.0000, 0.0000, 0.0000, 0.0000, 0.0000, 0.0000, 0.0000,\n",
       "           0.0000, 0.0000, 0.0000, 0.0000],\n",
       "          [0.0000, 0.0000, 0.0000, 0.0000, 0.0000, 0.0000, 0.0000, 0.0000,\n",
       "           0.0000, 0.0000, 0.0000, 0.5451, 0.9922, 0.7451, 0.0078, 0.0000,\n",
       "           0.0000, 0.0000, 0.0000, 0.0000, 0.0000, 0.0000, 0.0000, 0.0000,\n",
       "           0.0000, 0.0000, 0.0000, 0.0000],\n",
       "          [0.0000, 0.0000, 0.0000, 0.0000, 0.0000, 0.0000, 0.0000, 0.0000,\n",
       "           0.0000, 0.0000, 0.0000, 0.0431, 0.7451, 0.9922, 0.2745, 0.0000,\n",
       "           0.0000, 0.0000, 0.0000, 0.0000, 0.0000, 0.0000, 0.0000, 0.0000,\n",
       "           0.0000, 0.0000, 0.0000, 0.0000],\n",
       "          [0.0000, 0.0000, 0.0000, 0.0000, 0.0000, 0.0000, 0.0000, 0.0000,\n",
       "           0.0000, 0.0000, 0.0000, 0.0000, 0.1373, 0.9451, 0.8824, 0.6275,\n",
       "           0.4235, 0.0039, 0.0000, 0.0000, 0.0000, 0.0000, 0.0000, 0.0000,\n",
       "           0.0000, 0.0000, 0.0000, 0.0000],\n",
       "          [0.0000, 0.0000, 0.0000, 0.0000, 0.0000, 0.0000, 0.0000, 0.0000,\n",
       "           0.0000, 0.0000, 0.0000, 0.0000, 0.0000, 0.3176, 0.9412, 0.9922,\n",
       "           0.9922, 0.4667, 0.0980, 0.0000, 0.0000, 0.0000, 0.0000, 0.0000,\n",
       "           0.0000, 0.0000, 0.0000, 0.0000],\n",
       "          [0.0000, 0.0000, 0.0000, 0.0000, 0.0000, 0.0000, 0.0000, 0.0000,\n",
       "           0.0000, 0.0000, 0.0000, 0.0000, 0.0000, 0.0000, 0.1765, 0.7294,\n",
       "           0.9922, 0.9922, 0.5882, 0.1059, 0.0000, 0.0000, 0.0000, 0.0000,\n",
       "           0.0000, 0.0000, 0.0000, 0.0000],\n",
       "          [0.0000, 0.0000, 0.0000, 0.0000, 0.0000, 0.0000, 0.0000, 0.0000,\n",
       "           0.0000, 0.0000, 0.0000, 0.0000, 0.0000, 0.0000, 0.0000, 0.0627,\n",
       "           0.3647, 0.9882, 0.9922, 0.7333, 0.0000, 0.0000, 0.0000, 0.0000,\n",
       "           0.0000, 0.0000, 0.0000, 0.0000],\n",
       "          [0.0000, 0.0000, 0.0000, 0.0000, 0.0000, 0.0000, 0.0000, 0.0000,\n",
       "           0.0000, 0.0000, 0.0000, 0.0000, 0.0000, 0.0000, 0.0000, 0.0000,\n",
       "           0.0000, 0.9765, 0.9922, 0.9765, 0.2510, 0.0000, 0.0000, 0.0000,\n",
       "           0.0000, 0.0000, 0.0000, 0.0000],\n",
       "          [0.0000, 0.0000, 0.0000, 0.0000, 0.0000, 0.0000, 0.0000, 0.0000,\n",
       "           0.0000, 0.0000, 0.0000, 0.0000, 0.0000, 0.0000, 0.1804, 0.5098,\n",
       "           0.7176, 0.9922, 0.9922, 0.8118, 0.0078, 0.0000, 0.0000, 0.0000,\n",
       "           0.0000, 0.0000, 0.0000, 0.0000],\n",
       "          [0.0000, 0.0000, 0.0000, 0.0000, 0.0000, 0.0000, 0.0000, 0.0000,\n",
       "           0.0000, 0.0000, 0.0000, 0.0000, 0.1529, 0.5804, 0.8980, 0.9922,\n",
       "           0.9922, 0.9922, 0.9804, 0.7137, 0.0000, 0.0000, 0.0000, 0.0000,\n",
       "           0.0000, 0.0000, 0.0000, 0.0000],\n",
       "          [0.0000, 0.0000, 0.0000, 0.0000, 0.0000, 0.0000, 0.0000, 0.0000,\n",
       "           0.0000, 0.0000, 0.0941, 0.4471, 0.8667, 0.9922, 0.9922, 0.9922,\n",
       "           0.9922, 0.7882, 0.3059, 0.0000, 0.0000, 0.0000, 0.0000, 0.0000,\n",
       "           0.0000, 0.0000, 0.0000, 0.0000],\n",
       "          [0.0000, 0.0000, 0.0000, 0.0000, 0.0000, 0.0000, 0.0000, 0.0000,\n",
       "           0.0902, 0.2588, 0.8353, 0.9922, 0.9922, 0.9922, 0.9922, 0.7765,\n",
       "           0.3176, 0.0078, 0.0000, 0.0000, 0.0000, 0.0000, 0.0000, 0.0000,\n",
       "           0.0000, 0.0000, 0.0000, 0.0000],\n",
       "          [0.0000, 0.0000, 0.0000, 0.0000, 0.0000, 0.0000, 0.0706, 0.6706,\n",
       "           0.8588, 0.9922, 0.9922, 0.9922, 0.9922, 0.7647, 0.3137, 0.0353,\n",
       "           0.0000, 0.0000, 0.0000, 0.0000, 0.0000, 0.0000, 0.0000, 0.0000,\n",
       "           0.0000, 0.0000, 0.0000, 0.0000],\n",
       "          [0.0000, 0.0000, 0.0000, 0.0000, 0.2157, 0.6745, 0.8863, 0.9922,\n",
       "           0.9922, 0.9922, 0.9922, 0.9569, 0.5216, 0.0431, 0.0000, 0.0000,\n",
       "           0.0000, 0.0000, 0.0000, 0.0000, 0.0000, 0.0000, 0.0000, 0.0000,\n",
       "           0.0000, 0.0000, 0.0000, 0.0000],\n",
       "          [0.0000, 0.0000, 0.0000, 0.0000, 0.5333, 0.9922, 0.9922, 0.9922,\n",
       "           0.8314, 0.5294, 0.5176, 0.0627, 0.0000, 0.0000, 0.0000, 0.0000,\n",
       "           0.0000, 0.0000, 0.0000, 0.0000, 0.0000, 0.0000, 0.0000, 0.0000,\n",
       "           0.0000, 0.0000, 0.0000, 0.0000],\n",
       "          [0.0000, 0.0000, 0.0000, 0.0000, 0.0000, 0.0000, 0.0000, 0.0000,\n",
       "           0.0000, 0.0000, 0.0000, 0.0000, 0.0000, 0.0000, 0.0000, 0.0000,\n",
       "           0.0000, 0.0000, 0.0000, 0.0000, 0.0000, 0.0000, 0.0000, 0.0000,\n",
       "           0.0000, 0.0000, 0.0000, 0.0000],\n",
       "          [0.0000, 0.0000, 0.0000, 0.0000, 0.0000, 0.0000, 0.0000, 0.0000,\n",
       "           0.0000, 0.0000, 0.0000, 0.0000, 0.0000, 0.0000, 0.0000, 0.0000,\n",
       "           0.0000, 0.0000, 0.0000, 0.0000, 0.0000, 0.0000, 0.0000, 0.0000,\n",
       "           0.0000, 0.0000, 0.0000, 0.0000],\n",
       "          [0.0000, 0.0000, 0.0000, 0.0000, 0.0000, 0.0000, 0.0000, 0.0000,\n",
       "           0.0000, 0.0000, 0.0000, 0.0000, 0.0000, 0.0000, 0.0000, 0.0000,\n",
       "           0.0000, 0.0000, 0.0000, 0.0000, 0.0000, 0.0000, 0.0000, 0.0000,\n",
       "           0.0000, 0.0000, 0.0000, 0.0000]]]])"
      ]
     },
     "execution_count": 42,
     "metadata": {},
     "output_type": "execute_result"
    }
   ],
   "source": [
    "x"
   ]
  },
  {
   "cell_type": "code",
   "execution_count": 43,
   "id": "8280cffc-b85e-4dda-9927-831c7c94f288",
   "metadata": {},
   "outputs": [],
   "source": [
    "# activations can be applied to the convolutions in one line using F.relu() and pooling is done using F.max_pool2d()\n",
    "# Perform the first convolution/activation\n",
    "\n",
    "x = F.relu(conv1(x))"
   ]
  },
  {
   "cell_type": "code",
   "execution_count": 44,
   "id": "d47cab32-be72-4020-82e4-49fb31f53778",
   "metadata": {},
   "outputs": [
    {
     "data": {
      "text/plain": [
       "tensor([[[[0.0000, 0.0000, 0.0000,  ..., 0.0000, 0.0000, 0.0000],\n",
       "          [0.0000, 0.0000, 0.0000,  ..., 0.0000, 0.0000, 0.0000],\n",
       "          [0.0000, 0.0000, 0.0000,  ..., 0.0000, 0.0000, 0.0000],\n",
       "          ...,\n",
       "          [0.0000, 0.0000, 0.0000,  ..., 0.0000, 0.0000, 0.0000],\n",
       "          [0.0000, 0.0000, 0.0000,  ..., 0.0000, 0.0000, 0.0000],\n",
       "          [0.0000, 0.0000, 0.0000,  ..., 0.0000, 0.0000, 0.0000]],\n",
       "\n",
       "         [[0.1619, 0.1619, 0.1619,  ..., 0.1619, 0.1619, 0.1619],\n",
       "          [0.1619, 0.1619, 0.1619,  ..., 0.1619, 0.1619, 0.1619],\n",
       "          [0.1619, 0.1619, 0.1619,  ..., 0.1619, 0.1619, 0.1619],\n",
       "          ...,\n",
       "          [0.1619, 0.1619, 0.3103,  ..., 0.1619, 0.1619, 0.1619],\n",
       "          [0.1619, 0.1619, 0.1587,  ..., 0.1619, 0.1619, 0.1619],\n",
       "          [0.1619, 0.1619, 0.1619,  ..., 0.1619, 0.1619, 0.1619]],\n",
       "\n",
       "         [[0.0000, 0.0000, 0.0000,  ..., 0.0000, 0.0000, 0.0000],\n",
       "          [0.0000, 0.0000, 0.0000,  ..., 0.0000, 0.0000, 0.0000],\n",
       "          [0.0000, 0.0000, 0.0000,  ..., 0.0000, 0.0000, 0.0000],\n",
       "          ...,\n",
       "          [0.0000, 0.0000, 0.0000,  ..., 0.0000, 0.0000, 0.0000],\n",
       "          [0.0000, 0.0000, 0.0000,  ..., 0.0000, 0.0000, 0.0000],\n",
       "          [0.0000, 0.0000, 0.0000,  ..., 0.0000, 0.0000, 0.0000]],\n",
       "\n",
       "         [[0.0000, 0.0000, 0.0000,  ..., 0.0000, 0.0000, 0.0000],\n",
       "          [0.0000, 0.0000, 0.0000,  ..., 0.0000, 0.0000, 0.0000],\n",
       "          [0.0000, 0.0000, 0.0000,  ..., 0.0000, 0.0000, 0.0000],\n",
       "          ...,\n",
       "          [0.0000, 0.0000, 0.0000,  ..., 0.0000, 0.0000, 0.0000],\n",
       "          [0.0000, 0.0000, 0.0000,  ..., 0.0000, 0.0000, 0.0000],\n",
       "          [0.0000, 0.0000, 0.0000,  ..., 0.0000, 0.0000, 0.0000]],\n",
       "\n",
       "         [[0.0000, 0.0000, 0.0000,  ..., 0.0000, 0.0000, 0.0000],\n",
       "          [0.0000, 0.0000, 0.0000,  ..., 0.0000, 0.0000, 0.0000],\n",
       "          [0.0000, 0.0000, 0.0000,  ..., 0.0000, 0.0000, 0.0000],\n",
       "          ...,\n",
       "          [0.0000, 0.0000, 0.0000,  ..., 0.0000, 0.0000, 0.0000],\n",
       "          [0.0000, 0.0000, 0.0000,  ..., 0.0000, 0.0000, 0.0000],\n",
       "          [0.0000, 0.0000, 0.0000,  ..., 0.0000, 0.0000, 0.0000]],\n",
       "\n",
       "         [[0.3098, 0.3098, 0.3098,  ..., 0.3098, 0.3098, 0.3098],\n",
       "          [0.3098, 0.3098, 0.3098,  ..., 0.3098, 0.3098, 0.3098],\n",
       "          [0.3098, 0.3098, 0.3098,  ..., 0.3098, 0.3098, 0.3098],\n",
       "          ...,\n",
       "          [0.3098, 0.3098, 0.3870,  ..., 0.3098, 0.3098, 0.3098],\n",
       "          [0.3098, 0.3098, 0.4809,  ..., 0.3098, 0.3098, 0.3098],\n",
       "          [0.3098, 0.3098, 0.3098,  ..., 0.3098, 0.3098, 0.3098]]]],\n",
       "       grad_fn=<ReluBackward0>)"
      ]
     },
     "execution_count": 44,
     "metadata": {},
     "output_type": "execute_result"
    }
   ],
   "source": [
    "x"
   ]
  },
  {
   "cell_type": "code",
   "execution_count": 45,
   "id": "06dafc84-cea5-4770-abdc-8eaf2c3a39e8",
   "metadata": {},
   "outputs": [
    {
     "data": {
      "text/plain": [
       "torch.Size([1, 6, 26, 26])"
      ]
     },
     "execution_count": 45,
     "metadata": {},
     "output_type": "execute_result"
    }
   ],
   "source": [
    "# since there was no zero-padding info, the image lost part border info.\n",
    "# But an MNIST iamge is mostly black at the edges, it is safe to ignore these pixels.\n",
    "# After apply pooling layers twice, the output will be (((28-2)/2)-2)/2 = 5.5 which rounds down to 5 pixels per side.\n",
    "\n",
    "x.shape"
   ]
  },
  {
   "cell_type": "code",
   "execution_count": 46,
   "id": "97ccad56-6bff-466d-832d-08ae8e2f3de3",
   "metadata": {},
   "outputs": [],
   "source": [
    "# here ran the first pooling layer, after this step, the pix info lost half.\n",
    "\n",
    "x = F.max_pool2d(x, 2, 2)"
   ]
  },
  {
   "cell_type": "code",
   "execution_count": 18,
   "id": "a32525de-6a39-4606-8bb2-09af81d67507",
   "metadata": {},
   "outputs": [
    {
     "data": {
      "text/plain": [
       "tensor([[[[0.1591, 0.1591, 0.1591,  ..., 0.1591, 0.1591, 0.1591],\n",
       "          [0.1591, 0.1591, 0.1591,  ..., 0.1591, 0.1591, 0.1591],\n",
       "          [0.1591, 0.1591, 0.1591,  ..., 0.5771, 0.4461, 0.1591],\n",
       "          ...,\n",
       "          [0.1591, 0.1591, 0.1380,  ..., 0.1591, 0.1591, 0.1591],\n",
       "          [0.1591, 0.5011, 0.7494,  ..., 0.1591, 0.1591, 0.1591],\n",
       "          [0.1591, 0.1996, 0.6230,  ..., 0.1591, 0.1591, 0.1591]],\n",
       "\n",
       "         [[0.0000, 0.0000, 0.0000,  ..., 0.0000, 0.0000, 0.0000],\n",
       "          [0.0000, 0.0000, 0.0000,  ..., 0.1401, 0.1710, 0.0000],\n",
       "          [0.0000, 0.0000, 0.0000,  ..., 0.1686, 0.0830, 0.0000],\n",
       "          ...,\n",
       "          [0.0000, 0.0000, 0.0000,  ..., 0.0000, 0.0000, 0.0000],\n",
       "          [0.0000, 0.0000, 0.0000,  ..., 0.0000, 0.0000, 0.0000],\n",
       "          [0.0000, 0.0000, 0.0000,  ..., 0.0000, 0.0000, 0.0000]],\n",
       "\n",
       "         [[0.1213, 0.1213, 0.1213,  ..., 0.1213, 0.1213, 0.1213],\n",
       "          [0.1213, 0.1213, 0.1213,  ..., 0.7795, 0.5015, 0.1213],\n",
       "          [0.1213, 0.1213, 0.1704,  ..., 0.2247, 0.1301, 0.1213],\n",
       "          ...,\n",
       "          [0.1213, 0.3439, 0.6037,  ..., 0.1213, 0.1213, 0.1213],\n",
       "          [0.1213, 0.2927, 0.3125,  ..., 0.1213, 0.1213, 0.1213],\n",
       "          [0.1213, 0.1213, 0.1213,  ..., 0.1213, 0.1213, 0.1213]],\n",
       "\n",
       "         [[0.0000, 0.0000, 0.0000,  ..., 0.0000, 0.0000, 0.0000],\n",
       "          [0.0000, 0.0000, 0.0000,  ..., 0.0000, 0.0000, 0.0000],\n",
       "          [0.0000, 0.0000, 0.0000,  ..., 0.0000, 0.0000, 0.0000],\n",
       "          ...,\n",
       "          [0.0000, 0.0000, 0.0000,  ..., 0.0000, 0.0000, 0.0000],\n",
       "          [0.0000, 0.0000, 0.0000,  ..., 0.0000, 0.0000, 0.0000],\n",
       "          [0.0000, 0.0000, 0.0000,  ..., 0.0000, 0.0000, 0.0000]],\n",
       "\n",
       "         [[0.0445, 0.0445, 0.0445,  ..., 0.0445, 0.0445, 0.0445],\n",
       "          [0.0445, 0.0445, 0.0445,  ..., 0.0445, 0.0445, 0.0445],\n",
       "          [0.0445, 0.0445, 0.0454,  ..., 0.4154, 0.0000, 0.0445],\n",
       "          ...,\n",
       "          [0.0445, 0.0455, 0.0448,  ..., 0.0445, 0.0445, 0.0445],\n",
       "          [0.0445, 0.6401, 0.7357,  ..., 0.0445, 0.0445, 0.0445],\n",
       "          [0.0445, 0.4571, 0.4545,  ..., 0.0445, 0.0445, 0.0445]],\n",
       "\n",
       "         [[0.1004, 0.1004, 0.1004,  ..., 0.1004, 0.1004, 0.1004],\n",
       "          [0.1004, 0.1004, 0.1004,  ..., 0.3365, 0.1004, 0.1004],\n",
       "          [0.1004, 0.1004, 0.1383,  ..., 0.8204, 0.1662, 0.1004],\n",
       "          ...,\n",
       "          [0.1004, 0.2495, 0.4140,  ..., 0.1004, 0.1004, 0.1004],\n",
       "          [0.1004, 0.5340, 0.7913,  ..., 0.1004, 0.1004, 0.1004],\n",
       "          [0.1004, 0.4671, 0.5479,  ..., 0.1004, 0.1004, 0.1004]]]],\n",
       "       grad_fn=<MaxPool2DWithIndicesBackward0>)"
      ]
     },
     "execution_count": 18,
     "metadata": {},
     "output_type": "execute_result"
    }
   ],
   "source": [
    "x"
   ]
  },
  {
   "cell_type": "code",
   "execution_count": 47,
   "id": "5180201b-cda7-44e7-bd01-f96208b3f90a",
   "metadata": {},
   "outputs": [
    {
     "data": {
      "text/plain": [
       "torch.Size([1, 6, 13, 13])"
      ]
     },
     "execution_count": 47,
     "metadata": {},
     "output_type": "execute_result"
    }
   ],
   "source": [
    "x.shape"
   ]
  },
  {
   "cell_type": "code",
   "execution_count": 48,
   "id": "92869b41-12e5-4e67-9dfe-b2de1bc96fed",
   "metadata": {},
   "outputs": [],
   "source": [
    "# Perform the second convolution/activation\n",
    "\n",
    "x = F.relu(conv2(x))"
   ]
  },
  {
   "cell_type": "code",
   "execution_count": 49,
   "id": "f9ec617e-06d7-4218-97a5-ea3be2c9a31f",
   "metadata": {},
   "outputs": [
    {
     "data": {
      "text/plain": [
       "tensor([[[[0.0000, 0.0000, 0.0000,  ..., 0.0000, 0.0000, 0.0000],\n",
       "          [0.0000, 0.0000, 0.0000,  ..., 0.0000, 0.0000, 0.0000],\n",
       "          [0.0000, 0.0000, 0.0000,  ..., 0.0000, 0.0000, 0.0000],\n",
       "          ...,\n",
       "          [0.0000, 0.0000, 0.0000,  ..., 0.0000, 0.0000, 0.0000],\n",
       "          [0.0000, 0.0000, 0.0000,  ..., 0.0000, 0.0000, 0.0000],\n",
       "          [0.0000, 0.0000, 0.0000,  ..., 0.0000, 0.0000, 0.0000]],\n",
       "\n",
       "         [[0.0783, 0.1090, 0.1356,  ..., 0.1487, 0.0344, 0.0000],\n",
       "          [0.0830, 0.1890, 0.2552,  ..., 0.0731, 0.0481, 0.0000],\n",
       "          [0.0809, 0.1675, 0.2930,  ..., 0.0000, 0.1404, 0.1553],\n",
       "          ...,\n",
       "          [0.1145, 0.1875, 0.2643,  ..., 0.0522, 0.0299, 0.0734],\n",
       "          [0.2190, 0.1981, 0.1408,  ..., 0.1746, 0.1010, 0.0761],\n",
       "          [0.1782, 0.1668, 0.0203,  ..., 0.0887, 0.0731, 0.0762]],\n",
       "\n",
       "         [[0.0349, 0.0555, 0.0665,  ..., 0.4494, 0.3681, 0.2316],\n",
       "          [0.0483, 0.1838, 0.3448,  ..., 0.4078, 0.2317, 0.1377],\n",
       "          [0.0488, 0.2078, 0.3613,  ..., 0.2049, 0.0158, 0.0085],\n",
       "          ...,\n",
       "          [0.0641, 0.0986, 0.1960,  ..., 0.0215, 0.0344, 0.0240],\n",
       "          [0.3201, 0.4578, 0.5831,  ..., 0.0000, 0.0293, 0.0329],\n",
       "          [0.2703, 0.3339, 0.3419,  ..., 0.0000, 0.0221, 0.0332]],\n",
       "\n",
       "         ...,\n",
       "\n",
       "         [[0.0252, 0.0049, 0.0066,  ..., 0.0000, 0.0000, 0.0089],\n",
       "          [0.0122, 0.0000, 0.0000,  ..., 0.0000, 0.0000, 0.0178],\n",
       "          [0.0177, 0.0000, 0.0000,  ..., 0.0463, 0.0000, 0.0472],\n",
       "          ...,\n",
       "          [0.0034, 0.0000, 0.0000,  ..., 0.0219, 0.1028, 0.0299],\n",
       "          [0.0000, 0.0000, 0.0000,  ..., 0.0430, 0.0709, 0.0271],\n",
       "          [0.0000, 0.0000, 0.0000,  ..., 0.0271, 0.0302, 0.0270]],\n",
       "\n",
       "         [[0.0063, 0.0000, 0.0000,  ..., 0.0000, 0.0014, 0.0000],\n",
       "          [0.0143, 0.0475, 0.0607,  ..., 0.1249, 0.0637, 0.0000],\n",
       "          [0.0195, 0.1684, 0.1920,  ..., 0.0027, 0.0000, 0.0000],\n",
       "          ...,\n",
       "          [0.0000, 0.0000, 0.0000,  ..., 0.0000, 0.0239, 0.0029],\n",
       "          [0.1167, 0.1543, 0.0743,  ..., 0.0000, 0.0000, 0.0071],\n",
       "          [0.2454, 0.2233, 0.1909,  ..., 0.0000, 0.0018, 0.0072]],\n",
       "\n",
       "         [[0.0714, 0.0978, 0.1176,  ..., 0.2851, 0.2640, 0.2029],\n",
       "          [0.0779, 0.1847, 0.2650,  ..., 0.3060, 0.2016, 0.1688],\n",
       "          [0.0693, 0.1041, 0.1867,  ..., 0.0477, 0.0587, 0.1800],\n",
       "          ...,\n",
       "          [0.1036, 0.1601, 0.2165,  ..., 0.1722, 0.2007, 0.0861],\n",
       "          [0.2037, 0.3630, 0.4800,  ..., 0.1636, 0.1468, 0.0700],\n",
       "          [0.1106, 0.1190, 0.1486,  ..., 0.1285, 0.0891, 0.0695]]]],\n",
       "       grad_fn=<ReluBackward0>)"
      ]
     },
     "execution_count": 49,
     "metadata": {},
     "output_type": "execute_result"
    }
   ],
   "source": [
    "x"
   ]
  },
  {
   "cell_type": "code",
   "execution_count": 50,
   "id": "78ed0224-5f25-4182-a9a6-d8c5714f26c4",
   "metadata": {},
   "outputs": [
    {
     "data": {
      "text/plain": [
       "torch.Size([1, 16, 11, 11])"
      ]
     },
     "execution_count": 50,
     "metadata": {},
     "output_type": "execute_result"
    }
   ],
   "source": [
    "x.shape"
   ]
  },
  {
   "cell_type": "code",
   "execution_count": 51,
   "id": "0bc3e3bf-be2b-47ac-bdcd-b74222c8e062",
   "metadata": {},
   "outputs": [],
   "source": [
    "# Run the second pooling layer\n",
    "\n",
    "x = F.max_pool2d(x, 2, 2)"
   ]
  },
  {
   "cell_type": "code",
   "execution_count": 52,
   "id": "1a1b9406-ed32-49a8-af63-55e0e937650f",
   "metadata": {},
   "outputs": [
    {
     "data": {
      "text/plain": [
       "torch.Size([1, 16, 5, 5])"
      ]
     },
     "execution_count": 52,
     "metadata": {},
     "output_type": "execute_result"
    }
   ],
   "source": [
    "x.shape"
   ]
  },
  {
   "cell_type": "code",
   "execution_count": 53,
   "id": "16dd4f11-d2af-41c0-9f25-f4b74040d376",
   "metadata": {},
   "outputs": [
    {
     "data": {
      "text/plain": [
       "torch.Size([1, 400])"
      ]
     },
     "execution_count": 53,
     "metadata": {},
     "output_type": "execute_result"
    }
   ],
   "source": [
    "# flatten the data for the fully connected layers.\n",
    "\n",
    "x.view(-1, 16*5*5).shape"
   ]
  },
  {
   "cell_type": "code",
   "execution_count": 54,
   "id": "11803f71-f4c5-4e60-bcc2-8c5c1d27d211",
   "metadata": {},
   "outputs": [],
   "source": [
    "class ConvolutionalNetwork(nn.Module):\n",
    "\n",
    "    def __init__(self):\n",
    "        super().__init__()\n",
    "        self.conv1 = nn.Conv2d(1, 6, 3, 1)\n",
    "        self.conv2 = nn.Conv2d(6, 16, 3, 1)\n",
    "        self.fc1 = nn.Linear(5*5*16, 120)\n",
    "        self.fc2 = nn.Linear(120, 84)\n",
    "        self.fc3 = nn.Linear(84, 10)\n",
    "\n",
    "    def forward(self, X):\n",
    "        X = F.relu(self.conv1(X))\n",
    "        X = F.max_pool2d(X, 2, 2)\n",
    "        X = F.relu(self.conv2(X))\n",
    "        X = F.max_pool2d(X, 2, 2)\n",
    "        X = X.view(-1, 16*5*5)\n",
    "        X = F.relu(self.fc1(X))\n",
    "        X = F.relu(self.fc2(X))\n",
    "        X = self.fc3(X)\n",
    "        return F.log_softmax(X, dim=1)"
   ]
  },
  {
   "cell_type": "code",
   "execution_count": 55,
   "id": "d1f68cf3-ec92-4607-843a-582f9a42c638",
   "metadata": {},
   "outputs": [
    {
     "data": {
      "text/plain": [
       "ConvolutionalNetwork(\n",
       "  (conv1): Conv2d(1, 6, kernel_size=(3, 3), stride=(1, 1))\n",
       "  (conv2): Conv2d(6, 16, kernel_size=(3, 3), stride=(1, 1))\n",
       "  (fc1): Linear(in_features=400, out_features=120, bias=True)\n",
       "  (fc2): Linear(in_features=120, out_features=84, bias=True)\n",
       "  (fc3): Linear(in_features=84, out_features=10, bias=True)\n",
       ")"
      ]
     },
     "execution_count": 55,
     "metadata": {},
     "output_type": "execute_result"
    }
   ],
   "source": [
    "torch.manual_seed(42)\n",
    "model = ConvolutionalNetwork()\n",
    "model"
   ]
  },
  {
   "cell_type": "code",
   "execution_count": 56,
   "id": "86d51555-7712-4283-b342-f4b0af94cbd1",
   "metadata": {},
   "outputs": [
    {
     "name": "stdout",
     "output_type": "stream",
     "text": [
      "54\n",
      "6\n",
      "864\n",
      "16\n",
      "48000\n",
      "120\n",
      "10080\n",
      "84\n",
      "840\n",
      "10\n"
     ]
    }
   ],
   "source": [
    "for param in model.parameters():\n",
    "    print(param.numel())"
   ]
  },
  {
   "cell_type": "code",
   "execution_count": 57,
   "id": "34505f91-f25f-43dc-a024-7ba4f9d936d5",
   "metadata": {},
   "outputs": [],
   "source": [
    "criterion = nn.CrossEntropyLoss()\n",
    "optimizer = torch.optim.Adam(model.parameters(), lr=0.001)"
   ]
  },
  {
   "cell_type": "code",
   "execution_count": 58,
   "id": "52fff727-1c02-414c-8e0a-b12d51883ee8",
   "metadata": {},
   "outputs": [
    {
     "name": "stdout",
     "output_type": "stream",
     "text": [
      "Epoch: 0 Batch: 600 Loss: 0.04255056381225586\n",
      "Epoch: 0 Batch: 1200 Loss: 0.0794181376695633\n",
      "Epoch: 0 Batch: 1800 Loss: 0.3165969252586365\n",
      "Epoch: 0 Batch: 2400 Loss: 0.017571639269590378\n",
      "Epoch: 0 Batch: 3000 Loss: 0.006613227538764477\n",
      "Epoch: 0 Batch: 3600 Loss: 0.0016816703137010336\n",
      "Epoch: 0 Batch: 4200 Loss: 0.48925676941871643\n",
      "Epoch: 0 Batch: 4800 Loss: 0.021427597850561142\n",
      "Epoch: 0 Batch: 5400 Loss: 0.008603979833424091\n",
      "Epoch: 0 Batch: 6000 Loss: 0.026711981743574142\n",
      "Epoch: 1 Batch: 600 Loss: 0.044457487761974335\n",
      "Epoch: 1 Batch: 1200 Loss: 0.03015129826962948\n",
      "Epoch: 1 Batch: 1800 Loss: 0.001719419495202601\n",
      "Epoch: 1 Batch: 2400 Loss: 0.06534458696842194\n",
      "Epoch: 1 Batch: 3000 Loss: 0.26260775327682495\n",
      "Epoch: 1 Batch: 3600 Loss: 0.0007888587424531579\n",
      "Epoch: 1 Batch: 4200 Loss: 0.0011536211241036654\n",
      "Epoch: 1 Batch: 4800 Loss: 0.0011205750051885843\n",
      "Epoch: 1 Batch: 5400 Loss: 0.0007562750251963735\n",
      "Epoch: 1 Batch: 6000 Loss: 0.012275089509785175\n",
      "Epoch: 2 Batch: 600 Loss: 0.001206874381750822\n",
      "Epoch: 2 Batch: 1200 Loss: 0.0029985965229570866\n",
      "Epoch: 2 Batch: 1800 Loss: 0.004635936580598354\n",
      "Epoch: 2 Batch: 2400 Loss: 0.004064029082655907\n",
      "Epoch: 2 Batch: 3000 Loss: 0.29111987352371216\n",
      "Epoch: 2 Batch: 3600 Loss: 0.0381595715880394\n",
      "Epoch: 2 Batch: 4200 Loss: 0.010457540862262249\n",
      "Epoch: 2 Batch: 4800 Loss: 0.01133883185684681\n",
      "Epoch: 2 Batch: 5400 Loss: 0.000622613588348031\n",
      "Epoch: 2 Batch: 6000 Loss: 3.998002648586407e-05\n",
      "Epoch: 3 Batch: 600 Loss: 0.0016217471566051245\n",
      "Epoch: 3 Batch: 1200 Loss: 0.0006642186199314892\n",
      "Epoch: 3 Batch: 1800 Loss: 0.00030786736169829965\n",
      "Epoch: 3 Batch: 2400 Loss: 0.0004445154336281121\n",
      "Epoch: 3 Batch: 3000 Loss: 0.000326675915857777\n",
      "Epoch: 3 Batch: 3600 Loss: 0.005568879656493664\n",
      "Epoch: 3 Batch: 4200 Loss: 0.00011772222205763683\n",
      "Epoch: 3 Batch: 4800 Loss: 0.08951801806688309\n",
      "Epoch: 3 Batch: 5400 Loss: 0.0044916230253875256\n",
      "Epoch: 3 Batch: 6000 Loss: 0.002820191439241171\n",
      "Epoch: 4 Batch: 600 Loss: 0.005685443989932537\n",
      "Epoch: 4 Batch: 1200 Loss: 0.013331962749361992\n",
      "Epoch: 4 Batch: 1800 Loss: 3.697513238876127e-05\n",
      "Epoch: 4 Batch: 2400 Loss: 0.0005379559588618577\n",
      "Epoch: 4 Batch: 3000 Loss: 0.008066956885159016\n",
      "Epoch: 4 Batch: 3600 Loss: 0.0007357859285548329\n",
      "Epoch: 4 Batch: 4200 Loss: 0.01753297448158264\n",
      "Epoch: 4 Batch: 4800 Loss: 0.003405984491109848\n",
      "Epoch: 4 Batch: 5400 Loss: 3.0849747417960316e-05\n",
      "Epoch: 4 Batch: 6000 Loss: 0.0013714783126488328\n",
      "Training took 7.312892584005992 minutes\n"
     ]
    }
   ],
   "source": [
    "import time\n",
    "start_time = time.time()\n",
    "\n",
    "# variables(trackers)\n",
    "epochs = 5\n",
    "train_losses = []\n",
    "test_losses = []\n",
    "train_correct = []\n",
    "test_correct = []\n",
    "\n",
    "# for loop epochs\n",
    "for i in range(epochs):\n",
    "\n",
    "    train_corr = 0\n",
    "    test_corr = 0\n",
    "\n",
    "    # train\n",
    "    for b, (X_train, y_train) in enumerate(train_loader):\n",
    "        b += 1\n",
    "\n",
    "        y_pred = model(X_train)  # no need to flatten the data\n",
    "        loss = criterion(y_pred, y_train)  # because here using crossentropyloss, no need to do any one-hot encoding between y_pred and y_train\n",
    "\n",
    "        predicted = torch.max(y_pred.data, 1)[1]\n",
    "        batch_corr = (predicted == y_train).sum()  # True is 1, False is 0, then add all\n",
    "        train_corr += batch_corr\n",
    "\n",
    "        # backpropagation to update the parameters\n",
    "        optimizer.zero_grad()   # reset gradient for each epoch\n",
    "        loss.backward()\n",
    "        optimizer.step()   # it will update parameters for the model\n",
    "\n",
    "        if b%600 == 0:\n",
    "            print(f'Epoch: {i} Batch: {b} Loss: {loss.item()}')\n",
    "\n",
    "    train_losses.append(loss)\n",
    "    train_correct.append(train_corr)\n",
    "\n",
    "    # Test\n",
    "    with torch.no_grad():\n",
    "        for b, (X_test, y_test) in enumerate(test_loader):\n",
    "\n",
    "            y_val = model(X_test)\n",
    "\n",
    "            predicted = torch.max(y_val.data, 1)[1]\n",
    "            test_corr += (predicted == y_test).sum()\n",
    "\n",
    "    loss = criterion(y_val, y_test)\n",
    "    test_losses.append(loss)\n",
    "    test_correct.append(test_corr)\n",
    "\n",
    "current_time = time.time()\n",
    "total = current_time - start_time\n",
    "print(f'Training took {total/60} minutes')"
   ]
  },
  {
   "cell_type": "code",
   "execution_count": 73,
   "id": "ca74f4fe-b5ad-4a8a-8405-7e36ebd66615",
   "metadata": {},
   "outputs": [
    {
     "data": {
      "text/plain": [
       "[tensor(0.0267, grad_fn=<NllLossBackward0>),\n",
       " tensor(0.0123, grad_fn=<NllLossBackward0>),\n",
       " tensor(3.9980e-05, grad_fn=<NllLossBackward0>),\n",
       " tensor(0.0028, grad_fn=<NllLossBackward0>),\n",
       " tensor(0.0014, grad_fn=<NllLossBackward0>)]"
      ]
     },
     "execution_count": 73,
     "metadata": {},
     "output_type": "execute_result"
    }
   ],
   "source": [
    "train_losses"
   ]
  },
  {
   "cell_type": "code",
   "execution_count": 74,
   "id": "7fd2b575-2cbe-4013-af03-0cc2e49cfa29",
   "metadata": {},
   "outputs": [
    {
     "data": {
      "text/plain": [
       "tensor(0.0123, grad_fn=<NllLossBackward0>)"
      ]
     },
     "execution_count": 74,
     "metadata": {},
     "output_type": "execute_result"
    }
   ],
   "source": [
    "train_losses[1]"
   ]
  },
  {
   "cell_type": "code",
   "execution_count": 75,
   "id": "79dea408-cf35-476b-9b3a-c00a4abd4fff",
   "metadata": {},
   "outputs": [
    {
     "data": {
      "text/plain": [
       "0.012275089509785175"
      ]
     },
     "execution_count": 75,
     "metadata": {},
     "output_type": "execute_result"
    }
   ],
   "source": [
    "train_losses[1].item()"
   ]
  },
  {
   "cell_type": "code",
   "execution_count": 72,
   "id": "b04e13fa-c51f-4a6e-ae64-eedcb95651a9",
   "metadata": {},
   "outputs": [
    {
     "data": {
      "text/plain": [
       "<matplotlib.legend.Legend at 0x1a711c21450>"
      ]
     },
     "execution_count": 72,
     "metadata": {},
     "output_type": "execute_result"
    },
    {
     "data": {
      "image/png": "[encoded data removed]",
      "text/plain": [
       "<Figure size 640x480 with 1 Axes>"
      ]
     },
     "metadata": {},
     "output_type": "display_data"
    }
   ],
   "source": [
    "a = [loss.item() for loss in train_losses]\n",
    "b = [loss.item() for loss in test_losses]\n",
    "plt.plot(a, label='train loss')\n",
    "plt.plot(b, label='test loss')\n",
    "plt.title('Loss at Epoch')\n",
    "plt.legend()"
   ]
  },
  {
   "cell_type": "code",
   "execution_count": null,
   "id": "96e6aa6a-7506-45c9-b297-b1fc9efa9611",
   "metadata": {},
   "outputs": [],
   "source": []
  },
  {
   "cell_type": "code",
   "execution_count": 77,
   "id": "adf6bc9d-78f4-4bbf-8905-aca7684cc8fc",
   "metadata": {},
   "outputs": [
    {
     "data": {
      "text/plain": [
       "<matplotlib.legend.Legend at 0x1a711fce250>"
      ]
     },
     "execution_count": 77,
     "metadata": {},
     "output_type": "execute_result"
    },
    {
     "data": {
      "image/png": "[encoded data removed]",
      "text/plain": [
       "<Figure size 640x480 with 1 Axes>"
      ]
     },
     "metadata": {},
     "output_type": "display_data"
    }
   ],
   "source": [
    "# The following is not the best way to handle. Please check the above method.\n",
    "\n",
    "# Convert list of tensors to a list of NumPy arrays\n",
    "train_losses = [loss.detach().cpu().numpy() if isinstance(loss, torch.Tensor) else loss for loss in train_losses]\n",
    "test_losses = [loss.detach().cpu().numpy() if isinstance(loss, torch.Tensor) else loss for loss in test_losses]\n",
    "\n",
    "plt.plot(train_losses, label='train loss')\n",
    "plt.plot(test_losses, label='validation loss')\n",
    "plt.title('LOSS AT EPOCH')\n",
    "plt.legend()"
   ]
  },
  {
   "cell_type": "code",
   "execution_count": 78,
   "id": "04c4bc2d-2192-43db-bb66-0a2c4022f2ba",
   "metadata": {},
   "outputs": [
    {
     "data": {
      "text/plain": [
       "<matplotlib.legend.Legend at 0x1a711d7e3d0>"
      ]
     },
     "execution_count": 78,
     "metadata": {},
     "output_type": "execute_result"
    },
    {
     "data": {
      "image/png": "[encoded data removed]",
      "text/plain": [
       "<Figure size 640x480 with 1 Axes>"
      ]
     },
     "metadata": {},
     "output_type": "display_data"
    }
   ],
   "source": [
    "plt.plot([t/600 for t in train_correct], label='training accuracy')\n",
    "plt.plot([t/100 for t in test_correct], label='validation accuracy')\n",
    "plt.title('Accuracy at the end of each epoch')\n",
    "plt.legend()"
   ]
  },
  {
   "cell_type": "code",
   "execution_count": 79,
   "id": "6e2464c7-a4c3-4633-a300-db0549d4fd3f",
   "metadata": {},
   "outputs": [],
   "source": [
    "test_load_all = DataLoader(test_data, batch_size=10000, shuffle=False)"
   ]
  },
  {
   "cell_type": "code",
   "execution_count": 80,
   "id": "27216217-28c6-40b6-97ba-4ce3e4236c60",
   "metadata": {},
   "outputs": [],
   "source": [
    "with torch.no_grad():\n",
    "    correct = 0\n",
    "    for X_test, y_test in test_load_all:\n",
    "        y_val = model(X_test)\n",
    "        predicted = torch.max(y_val, 1)[1]\n",
    "        correct += (predicted == y_test).sum()"
   ]
  },
  {
   "cell_type": "code",
   "execution_count": 81,
   "id": "84608436-b6e0-4bd2-8540-bc5a8d19d515",
   "metadata": {},
   "outputs": [
    {
     "data": {
      "text/plain": [
       "0.9863"
      ]
     },
     "execution_count": 81,
     "metadata": {},
     "output_type": "execute_result"
    }
   ],
   "source": [
    "correct.item()/len(test_data)"
   ]
  },
  {
   "cell_type": "code",
   "execution_count": 82,
   "id": "057eaaa1-5cd6-48d4-acc0-97f145335449",
   "metadata": {},
   "outputs": [
    {
     "name": "stdout",
     "output_type": "stream",
     "text": [
      "[[   0    1    2    3    4    5    6    7    8    9]]\n",
      "\n",
      "[[ 969    0    1    0    0    2    3    0    3    0]\n",
      " [   0 1132    0    0    0    0    2    4    0    3]\n",
      " [   3    0 1025    0    1    0    1    8    2    0]\n",
      " [   0    1    1 1007    0   26    0    2    3    7]\n",
      " [   0    0    1    0  976    0    1    0    1    5]\n",
      " [   0    0    0    1    0  856    0    0    1    3]\n",
      " [   5    2    0    0    2    3  949    0    2    0]\n",
      " [   1    0    3    2    0    1    0 1011    1    2]\n",
      " [   0    0    1    0    0    0    2    1  959   10]\n",
      " [   2    0    0    0    3    4    0    2    2  979]]\n"
     ]
    }
   ],
   "source": [
    "# print a row of values for reference\n",
    "np.set_printoptions(formatter=dict(int=lambda x: f'{x:4}'))\n",
    "print(np.arange(10).reshape(1,10))\n",
    "print()\n",
    "\n",
    "# print the confusion matrix\n",
    "print(confusion_matrix(predicted.view(-1), y_test.view(-1)))"
   ]
  },
  {
   "cell_type": "code",
   "execution_count": 95,
   "id": "9cfca1a3-4302-4172-9b08-47339a385a1e",
   "metadata": {},
   "outputs": [
    {
     "data": {
      "text/plain": [
       "(tensor([[[0.0000, 0.0000, 0.0000, 0.0000, 0.0000, 0.0000, 0.0000, 0.0000,\n",
       "           0.0000, 0.0000, 0.0000, 0.0000, 0.0000, 0.0000, 0.0000, 0.0000,\n",
       "           0.0000, 0.0000, 0.0000, 0.0000, 0.0000, 0.0000, 0.0000, 0.0000,\n",
       "           0.0000, 0.0000, 0.0000, 0.0000],\n",
       "          [0.0000, 0.0000, 0.0000, 0.0000, 0.0000, 0.0000, 0.0000, 0.0000,\n",
       "           0.0000, 0.0000, 0.0000, 0.0000, 0.0000, 0.0000, 0.0000, 0.0000,\n",
       "           0.0000, 0.0000, 0.0000, 0.0000, 0.0000, 0.0000, 0.0000, 0.0000,\n",
       "           0.0000, 0.0000, 0.0000, 0.0000],\n",
       "          [0.0000, 0.0000, 0.0000, 0.0000, 0.0000, 0.0000, 0.0000, 0.0000,\n",
       "           0.0000, 0.0000, 0.0000, 0.0000, 0.0000, 0.0000, 0.0000, 0.0000,\n",
       "           0.0000, 0.1922, 0.6235, 0.0000, 0.0000, 0.0000, 0.0000, 0.0000,\n",
       "           0.0000, 0.0000, 0.0000, 0.0000],\n",
       "          [0.0000, 0.0000, 0.0000, 0.0000, 0.0000, 0.0000, 0.0000, 0.0000,\n",
       "           0.0000, 0.0000, 0.0000, 0.0000, 0.0000, 0.0000, 0.0000, 0.0471,\n",
       "           0.4863, 0.4431, 0.3020, 0.0000, 0.0000, 0.0000, 0.0000, 0.0000,\n",
       "           0.0000, 0.0000, 0.0000, 0.0000],\n",
       "          [0.0000, 0.0000, 0.0000, 0.0000, 0.0000, 0.0000, 0.0000, 0.0000,\n",
       "           0.0000, 0.0000, 0.0000, 0.0000, 0.0000, 0.0000, 0.1765, 0.7059,\n",
       "           0.9961, 0.7451, 0.2431, 0.0000, 0.0000, 0.0000, 0.0000, 0.0000,\n",
       "           0.0000, 0.0000, 0.0000, 0.0000],\n",
       "          [0.0000, 0.0000, 0.0000, 0.0000, 0.0000, 0.0000, 0.0000, 0.0000,\n",
       "           0.0000, 0.0000, 0.0000, 0.0000, 0.0000, 0.0000, 0.4353, 0.9961,\n",
       "           0.8000, 0.0863, 0.0000, 0.0000, 0.0000, 0.0000, 0.0000, 0.0000,\n",
       "           0.0000, 0.0000, 0.0000, 0.0000],\n",
       "          [0.0000, 0.0000, 0.0000, 0.0000, 0.0000, 0.0000, 0.0000, 0.0000,\n",
       "           0.0000, 0.0000, 0.0000, 0.0000, 0.1843, 0.4000, 0.8275, 0.6078,\n",
       "           0.0510, 0.0000, 0.0000, 0.0000, 0.0000, 0.0000, 0.0000, 0.0000,\n",
       "           0.0000, 0.0000, 0.0000, 0.0000],\n",
       "          [0.0000, 0.0000, 0.0000, 0.0000, 0.0000, 0.0000, 0.0000, 0.0000,\n",
       "           0.0000, 0.0000, 0.0000, 0.0000, 0.3804, 0.8235, 0.3725, 0.0000,\n",
       "           0.0000, 0.0000, 0.0000, 0.0000, 0.0000, 0.0000, 0.0000, 0.0000,\n",
       "           0.0000, 0.0000, 0.0000, 0.0000],\n",
       "          [0.0000, 0.0000, 0.0000, 0.0000, 0.0000, 0.0000, 0.0000, 0.0000,\n",
       "           0.0000, 0.0000, 0.0000, 0.0000, 0.5255, 0.9647, 0.3804, 0.0000,\n",
       "           0.0000, 0.0000, 0.0000, 0.0000, 0.0000, 0.0000, 0.0000, 0.0000,\n",
       "           0.0000, 0.0000, 0.0000, 0.0000],\n",
       "          [0.0000, 0.0000, 0.0000, 0.0000, 0.0000, 0.0000, 0.0000, 0.0000,\n",
       "           0.0000, 0.0000, 0.0000, 0.1882, 0.9216, 0.7098, 0.0275, 0.0000,\n",
       "           0.0000, 0.0000, 0.0000, 0.0000, 0.0000, 0.0000, 0.0000, 0.0000,\n",
       "           0.0000, 0.0000, 0.0000, 0.0000],\n",
       "          [0.0000, 0.0000, 0.0000, 0.0000, 0.0000, 0.0000, 0.0000, 0.0000,\n",
       "           0.0000, 0.0000, 0.1255, 0.6549, 0.8235, 0.1961, 0.0000, 0.0000,\n",
       "           0.0000, 0.0000, 0.0000, 0.0000, 0.0000, 0.0000, 0.0000, 0.0000,\n",
       "           0.0000, 0.0000, 0.0000, 0.0000],\n",
       "          [0.0000, 0.0000, 0.0000, 0.0000, 0.0000, 0.0000, 0.0000, 0.0000,\n",
       "           0.0000, 0.0000, 0.4275, 0.9490, 0.1333, 0.0000, 0.0000, 0.0000,\n",
       "           0.0000, 0.0000, 0.0000, 0.0000, 0.0000, 0.0000, 0.0000, 0.0000,\n",
       "           0.0000, 0.0000, 0.0000, 0.0000],\n",
       "          [0.0000, 0.0000, 0.0000, 0.0000, 0.0000, 0.0000, 0.0000, 0.0000,\n",
       "           0.0000, 0.0941, 0.6980, 0.7569, 0.0000, 0.0000, 0.0000, 0.0000,\n",
       "           0.0588, 0.1373, 0.0392, 0.0000, 0.0000, 0.0000, 0.0000, 0.0000,\n",
       "           0.0000, 0.0000, 0.0000, 0.0000],\n",
       "          [0.0000, 0.0000, 0.0000, 0.0000, 0.0000, 0.0000, 0.0000, 0.0000,\n",
       "           0.0000, 0.0000, 0.2431, 0.8157, 0.0510, 0.0000, 0.1137, 0.4902,\n",
       "           0.7961, 0.8706, 0.7451, 0.4392, 0.0275, 0.0000, 0.0000, 0.0000,\n",
       "           0.0000, 0.0000, 0.0000, 0.0000],\n",
       "          [0.0000, 0.0000, 0.0000, 0.0000, 0.0000, 0.0000, 0.0000, 0.0000,\n",
       "           0.0000, 0.0000, 0.3255, 0.9961, 0.4902, 0.1098, 0.8039, 1.0000,\n",
       "           0.9961, 0.9961, 0.9765, 0.7647, 0.4157, 0.0000, 0.0000, 0.0000,\n",
       "           0.0000, 0.0000, 0.0000, 0.0000],\n",
       "          [0.0000, 0.0000, 0.0000, 0.0000, 0.0000, 0.0000, 0.0000, 0.0000,\n",
       "           0.0000, 0.0941, 0.7255, 0.9961, 0.7020, 0.9765, 0.9412, 0.6039,\n",
       "           0.6235, 0.6667, 0.1373, 0.1529, 0.7255, 0.0000, 0.0000, 0.0000,\n",
       "           0.0000, 0.0000, 0.0000, 0.0000],\n",
       "          [0.0000, 0.0000, 0.0000, 0.0000, 0.0000, 0.0000, 0.0000, 0.0000,\n",
       "           0.0000, 0.0000, 0.5020, 0.9961, 0.9961, 0.6941, 0.0235, 0.0000,\n",
       "           0.0000, 0.0000, 0.0000, 0.2902, 0.4549, 0.0000, 0.0000, 0.0000,\n",
       "           0.0000, 0.0000, 0.0000, 0.0000],\n",
       "          [0.0000, 0.0000, 0.0000, 0.0000, 0.0000, 0.0000, 0.0000, 0.0000,\n",
       "           0.0000, 0.0863, 0.9294, 0.9961, 0.7255, 0.0745, 0.0000, 0.0000,\n",
       "           0.0000, 0.0000, 0.1255, 0.8314, 0.1137, 0.0000, 0.0000, 0.0000,\n",
       "           0.0000, 0.0000, 0.0000, 0.0000],\n",
       "          [0.0000, 0.0000, 0.0000, 0.0000, 0.0000, 0.0000, 0.0000, 0.0000,\n",
       "           0.0000, 0.2549, 0.9059, 0.7725, 0.8039, 0.0706, 0.0000, 0.0000,\n",
       "           0.0824, 0.0667, 0.8392, 0.5412, 0.0000, 0.0000, 0.0000, 0.0000,\n",
       "           0.0000, 0.0000, 0.0000, 0.0000],\n",
       "          [0.0000, 0.0000, 0.0000, 0.0000, 0.0000, 0.0000, 0.0000, 0.0000,\n",
       "           0.0000, 0.5451, 0.1412, 0.3333, 0.9569, 0.6353, 0.0863, 0.2706,\n",
       "           0.9373, 0.9961, 0.7333, 0.0000, 0.0000, 0.0000, 0.0000, 0.0000,\n",
       "           0.0000, 0.0000, 0.0000, 0.0000],\n",
       "          [0.0000, 0.0000, 0.0000, 0.0000, 0.0000, 0.0000, 0.0000, 0.0000,\n",
       "           0.0000, 0.1294, 0.0745, 0.0627, 0.1647, 0.9020, 0.9412, 0.9961,\n",
       "           0.9961, 0.6314, 0.0157, 0.0000, 0.0000, 0.0000, 0.0000, 0.0000,\n",
       "           0.0000, 0.0000, 0.0000, 0.0000],\n",
       "          [0.0000, 0.0000, 0.0000, 0.0000, 0.0000, 0.0000, 0.0000, 0.0000,\n",
       "           0.0000, 0.0000, 0.0000, 0.0000, 0.0000, 0.0745, 0.6392, 0.7843,\n",
       "           0.4000, 0.0118, 0.0000, 0.0000, 0.0000, 0.0000, 0.0000, 0.0000,\n",
       "           0.0000, 0.0000, 0.0000, 0.0000],\n",
       "          [0.0000, 0.0000, 0.0000, 0.0000, 0.0000, 0.0000, 0.0000, 0.0000,\n",
       "           0.0000, 0.0000, 0.0000, 0.0000, 0.0000, 0.0000, 0.0000, 0.0000,\n",
       "           0.0000, 0.0000, 0.0000, 0.0000, 0.0000, 0.0000, 0.0000, 0.0000,\n",
       "           0.0000, 0.0000, 0.0000, 0.0000],\n",
       "          [0.0000, 0.0000, 0.0000, 0.0000, 0.0000, 0.0000, 0.0000, 0.0000,\n",
       "           0.0000, 0.0000, 0.0000, 0.0000, 0.0000, 0.0000, 0.0000, 0.0000,\n",
       "           0.0000, 0.0000, 0.0000, 0.0000, 0.0000, 0.0000, 0.0000, 0.0000,\n",
       "           0.0000, 0.0000, 0.0000, 0.0000],\n",
       "          [0.0000, 0.0000, 0.0000, 0.0000, 0.0000, 0.0000, 0.0000, 0.0000,\n",
       "           0.0000, 0.0000, 0.0000, 0.0000, 0.0000, 0.0000, 0.0000, 0.0000,\n",
       "           0.0000, 0.0000, 0.0000, 0.0000, 0.0000, 0.0000, 0.0000, 0.0000,\n",
       "           0.0000, 0.0000, 0.0000, 0.0000],\n",
       "          [0.0000, 0.0000, 0.0000, 0.0000, 0.0000, 0.0000, 0.0000, 0.0000,\n",
       "           0.0000, 0.0000, 0.0000, 0.0000, 0.0000, 0.0000, 0.0000, 0.0000,\n",
       "           0.0000, 0.0000, 0.0000, 0.0000, 0.0000, 0.0000, 0.0000, 0.0000,\n",
       "           0.0000, 0.0000, 0.0000, 0.0000],\n",
       "          [0.0000, 0.0000, 0.0000, 0.0000, 0.0000, 0.0000, 0.0000, 0.0000,\n",
       "           0.0000, 0.0000, 0.0000, 0.0000, 0.0000, 0.0000, 0.0000, 0.0000,\n",
       "           0.0000, 0.0000, 0.0000, 0.0000, 0.0000, 0.0000, 0.0000, 0.0000,\n",
       "           0.0000, 0.0000, 0.0000, 0.0000],\n",
       "          [0.0000, 0.0000, 0.0000, 0.0000, 0.0000, 0.0000, 0.0000, 0.0000,\n",
       "           0.0000, 0.0000, 0.0000, 0.0000, 0.0000, 0.0000, 0.0000, 0.0000,\n",
       "           0.0000, 0.0000, 0.0000, 0.0000, 0.0000, 0.0000, 0.0000, 0.0000,\n",
       "           0.0000, 0.0000, 0.0000, 0.0000]]]),\n",
       " 6)"
      ]
     },
     "execution_count": 95,
     "metadata": {},
     "output_type": "execute_result"
    }
   ],
   "source": [
    "test_data[2000]"
   ]
  },
  {
   "cell_type": "code",
   "execution_count": 92,
   "id": "23e25464-2423-4724-9462-9f6c5c8202b9",
   "metadata": {},
   "outputs": [
    {
     "data": {
      "text/plain": [
       "torch.Size([28, 28])"
      ]
     },
     "execution_count": 92,
     "metadata": {},
     "output_type": "execute_result"
    }
   ],
   "source": [
    "test_data[2000][0].reshape(28, 28).shape"
   ]
  },
  {
   "cell_type": "code",
   "execution_count": 100,
   "id": "fc20b620-0b7b-4fd8-bcdb-27d2653b1747",
   "metadata": {},
   "outputs": [
    {
     "data": {
      "text/plain": [
       "<matplotlib.image.AxesImage at 0x1a7122b7d10>"
      ]
     },
     "execution_count": 100,
     "metadata": {},
     "output_type": "execute_result"
    },
    {
     "data": {
      "image/png": "[encoded data removed]",
      "text/plain": [
       "<Figure size 640x480 with 1 Axes>"
      ]
     },
     "metadata": {},
     "output_type": "display_data"
    }
   ],
   "source": [
    "plt.imshow(test_data[2001][0].reshape(28, 28))"
   ]
  },
  {
   "cell_type": "code",
   "execution_count": 101,
   "id": "73e22f78-33b5-4f72-8fbd-bd9000d596fa",
   "metadata": {},
   "outputs": [
    {
     "data": {
      "text/plain": [
       "5"
      ]
     },
     "execution_count": 101,
     "metadata": {},
     "output_type": "execute_result"
    }
   ],
   "source": [
    "test_data[2001][1]"
   ]
  },
  {
   "cell_type": "code",
   "execution_count": 102,
   "id": "1d29e292-29ca-4a74-a41f-3d50f4239232",
   "metadata": {},
   "outputs": [],
   "source": [
    "model.eval()\n",
    "with torch.no_grad():\n",
    "    new_prediction = model(test_data[2001][0].view(1, 1, 28, 28))"
   ]
  },
  {
   "cell_type": "code",
   "execution_count": 103,
   "id": "24888505-93f7-4352-aa66-1cc549da58df",
   "metadata": {},
   "outputs": [
    {
     "data": {
      "text/plain": [
       "tensor([[-9.3000e+00, -1.1177e+01, -1.5563e+01, -8.8977e+00, -1.3941e+01,\n",
       "         -7.1289e-03, -9.4437e+00, -1.1093e+01, -6.2414e+00, -5.3352e+00]])"
      ]
     },
     "execution_count": 103,
     "metadata": {},
     "output_type": "execute_result"
    }
   ],
   "source": [
    "new_prediction"
   ]
  },
  {
   "cell_type": "code",
   "execution_count": 104,
   "id": "91bb1e8f-e356-4900-ae69-7774e3f10aa3",
   "metadata": {},
   "outputs": [
    {
     "data": {
      "text/plain": [
       "tensor(5)"
      ]
     },
     "execution_count": 104,
     "metadata": {},
     "output_type": "execute_result"
    }
   ],
   "source": [
    "new_prediction.argmax()"
   ]
  },
  {
   "cell_type": "code",
   "execution_count": null,
   "id": "ff190cc9-6f52-4b05-9385-437012990a01",
   "metadata": {},
   "outputs": [],
   "source": []
  }
 ],
 "metadata": {
  "kernelspec": {
   "display_name": "Python 3 (ipykernel)",
   "language": "python",
   "name": "python3"
  },
  "language_info": {
   "codemirror_mode": {
    "name": "ipython",
    "version": 3
   },
   "file_extension": ".py",
   "mimetype": "text/x-python",
   "name": "python",
   "nbconvert_exporter": "python",
   "pygments_lexer": "ipython3",
   "version": "3.11.5"
  }
 },
 "nbformat": 4,
 "nbformat_minor": 5
}
