{
 "cells": [
  {
   "cell_type": "code",
   "execution_count": 2,
   "id": "11934a4d-757e-4f0f-a72b-57f4d854396f",
   "metadata": {},
   "outputs": [],
   "source": [
    "import torch\n",
    "import torch.nn as nn\n",
    "import torch.nn.functional as F   # adds some efficiency\n",
    "from torch.utils.data import DataLoader   # allows loading data in batches\n",
    "from torchvision import datasets, transforms\n",
    "from torchvision.utils import make_grid\n",
    "\n",
    "import numpy as np\n",
    "import pandas as pd\n",
    "from sklearn.metrics import confusion_matrix\n",
    "import matplotlib.pyplot as plt\n",
    "%matplotlib inline"
   ]
  },
  {
   "cell_type": "markdown",
   "id": "d97476c0-e478-4d51-917f-971f879ed98b",
   "metadata": {},
   "source": [
    "### PyTorch makes the MNIST dataset availabel via torchvision. The first time is is called, the dataset will be downloaded noto my computer to the path specified. Then, torchvision will always look for a local copy before attempting another download"
   ]
  },
  {
   "cell_type": "code",
   "execution_count": 3,
   "id": "1f9d76cb-d2f6-4136-85a4-d8175a179a59",
   "metadata": {},
   "outputs": [],
   "source": [
    "# Here we may need to apply multiple transformations (reshape, convert to tensor, normalize, etc.) to the incoming data.\n",
    "# In current case, we only need to convert images to tensors.\n",
    "\n",
    "transform = transforms.ToTensor()"
   ]
  },
  {
   "cell_type": "code",
   "execution_count": 4,
   "id": "9ea01171-e9bd-4bf2-a642-e975db4ed3cf",
   "metadata": {},
   "outputs": [],
   "source": [
    "# Load the training set\n",
    "\n",
    "train_data = datasets.MNIST(root='../Data/', train=True, download=True, transform=transform)"
   ]
  },
  {
   "cell_type": "code",
   "execution_count": 5,
   "id": "ef0e455c-e1c4-4516-b879-14b03c1ef111",
   "metadata": {},
   "outputs": [],
   "source": [
    "# Load the test set\n",
    "\n",
    "test_data = datasets.MNIST(root='../Data/', train=False, download=True, transform=transform)"
   ]
  },
  {
   "cell_type": "code",
   "execution_count": 6,
   "id": "7267f107-be32-4d5a-b79b-a212a324d92c",
   "metadata": {},
   "outputs": [
    {
     "data": {
      "text/plain": [
       "Dataset MNIST\n",
       "    Number of datapoints: 60000\n",
       "    Root location: ../Data/\n",
       "    Split: Train\n",
       "    StandardTransform\n",
       "Transform: ToTensor()"
      ]
     },
     "execution_count": 6,
     "metadata": {},
     "output_type": "execute_result"
    }
   ],
   "source": [
    "# The training set contains 60000 records. The total number of parameters trained in ANN is over 100,000 parameters.\n",
    "\n",
    "train_data"
   ]
  },
  {
   "cell_type": "code",
   "execution_count": 7,
   "id": "c173d3c6-afee-40cc-86ba-53f63426545b",
   "metadata": {},
   "outputs": [
    {
     "data": {
      "text/plain": [
       "Dataset MNIST\n",
       "    Number of datapoints: 10000\n",
       "    Root location: ../Data/\n",
       "    Split: Test\n",
       "    StandardTransform\n",
       "Transform: ToTensor()"
      ]
     },
     "execution_count": 7,
     "metadata": {},
     "output_type": "execute_result"
    }
   ],
   "source": [
    "test_data"
   ]
  },
  {
   "cell_type": "code",
   "execution_count": 8,
   "id": "6a790165-f7e0-4429-98bd-1b257f132dc7",
   "metadata": {},
   "outputs": [],
   "source": [
    "# the batch_size is the number of records to be processed at a time. \n",
    "# If it is not evenly divisible into the dataset, then the final batch contains the remainder.\n",
    "# When working with images, we want relatively small batches; a batch sieze of 4 is very common.\n",
    "# setting shuffle to True means that the dataset will be shuffled after each epoch.\n",
    "\n",
    "train_loader = DataLoader(train_data, batch_size=10, shuffle=True)\n",
    "test_loader = DataLoader(test_data, batch_size=10, shuffle=False)"
   ]
  },
  {
   "cell_type": "markdown",
   "id": "c664389f-1226-4c40-8b83-8ec83067d08a",
   "metadata": {},
   "source": [
    "#### We plan to employ two convolutional layers and two pooling layers feeding data through fully connected hidden layers to the output. The model follows CONV/RELU/POOL/CONV/RELU/POOL/FC/RELU/FC."
   ]
  },
  {
   "cell_type": "code",
   "execution_count": 9,
   "id": "9ce2272a-ea93-49c3-868c-c6effb6f5b44",
   "metadata": {},
   "outputs": [],
   "source": [
    "# The first layer has one input channel (the grayscale color channel). Here assign 6 output channels for feature extraction.\n",
    "# 1 color channel, 6 filters (output channels), 3 by 3 kernal, stride (step size) = 1\n",
    "conv1 = nn.Conv2d(1, 6, 3, 1)  # 6 filters  --> pooling --> conv2\n",
    "\n",
    "# 6 input filters from conv1, 16 filters as output, 3 by 3, stride = 1\n",
    "conv2 = nn.Conv2d(6, 16, 3, 1)"
   ]
  },
  {
   "cell_type": "code",
   "execution_count": 10,
   "id": "2fde3788-2aba-4d01-b6c9-5e5ac4fe094d",
   "metadata": {},
   "outputs": [],
   "source": [
    "# Grab the first MNIST record\n",
    "\n",
    "for i, (X_train, y_train) in enumerate(train_data):\n",
    "    break"
   ]
  },
  {
   "cell_type": "code",
   "execution_count": 14,
   "id": "9fab6080-98b7-458a-a132-d1b02f7e566f",
   "metadata": {},
   "outputs": [],
   "source": [
    "# Create a rank-4 tensor to be passed into the model\n",
    "# 1 batch, 1 color channel, 28 pix, 28 pix\n",
    "\n",
    "x = X_train.view(1, 1, 28, 28)"
   ]
  },
  {
   "cell_type": "code",
   "execution_count": 16,
   "id": "8280cffc-b85e-4dda-9927-831c7c94f288",
   "metadata": {},
   "outputs": [],
   "source": [
    "# activations can be applied to the convolutions in one line using F.relu() and pooling is done using F.max_pool2d()\n",
    "# Perform the first convolution/activation\n",
    "\n",
    "x = F.relu(conv1(x))"
   ]
  },
  {
   "cell_type": "code",
   "execution_count": 17,
   "id": "06dafc84-cea5-4770-abdc-8eaf2c3a39e8",
   "metadata": {},
   "outputs": [
    {
     "data": {
      "text/plain": [
       "torch.Size([1, 6, 26, 26])"
      ]
     },
     "execution_count": 17,
     "metadata": {},
     "output_type": "execute_result"
    }
   ],
   "source": [
    "# since there was no zero-padding info, the image lost part border info.\n",
    "# But an MNIST iamge is mostly black at the edges, it is safe to ignore these pixels.\n",
    "# After apply pooling layers twice, the output will be (((28-2)/2)-2)/2 = 5.5 which rounds down to 5 pixels per side.\n",
    "\n",
    "x.shape"
   ]
  },
  {
   "cell_type": "code",
   "execution_count": 18,
   "id": "97ccad56-6bff-466d-832d-08ae8e2f3de3",
   "metadata": {},
   "outputs": [],
   "source": [
    "# here ran the first pooling layer, after this step, the pix info lost half.\n",
    "\n",
    "x = F.max_pool2d(x, 2, 2)"
   ]
  },
  {
   "cell_type": "code",
   "execution_count": 19,
   "id": "5180201b-cda7-44e7-bd01-f96208b3f90a",
   "metadata": {},
   "outputs": [
    {
     "data": {
      "text/plain": [
       "torch.Size([1, 6, 13, 13])"
      ]
     },
     "execution_count": 19,
     "metadata": {},
     "output_type": "execute_result"
    }
   ],
   "source": [
    "x.shape"
   ]
  },
  {
   "cell_type": "code",
   "execution_count": 20,
   "id": "92869b41-12e5-4e67-9dfe-b2de1bc96fed",
   "metadata": {},
   "outputs": [],
   "source": [
    "# Perform the second convolution/activation\n",
    "\n",
    "x = F.relu(conv2(x))"
   ]
  },
  {
   "cell_type": "code",
   "execution_count": 21,
   "id": "78ed0224-5f25-4182-a9a6-d8c5714f26c4",
   "metadata": {},
   "outputs": [
    {
     "data": {
      "text/plain": [
       "torch.Size([1, 16, 11, 11])"
      ]
     },
     "execution_count": 21,
     "metadata": {},
     "output_type": "execute_result"
    }
   ],
   "source": [
    "x.shape"
   ]
  },
  {
   "cell_type": "code",
   "execution_count": 22,
   "id": "0bc3e3bf-be2b-47ac-bdcd-b74222c8e062",
   "metadata": {},
   "outputs": [],
   "source": [
    "# Run the second pooling layer\n",
    "\n",
    "x = F.max_pool2d(x, 2, 2)"
   ]
  },
  {
   "cell_type": "code",
   "execution_count": 23,
   "id": "1a1b9406-ed32-49a8-af63-55e0e937650f",
   "metadata": {},
   "outputs": [
    {
     "data": {
      "text/plain": [
       "torch.Size([1, 16, 5, 5])"
      ]
     },
     "execution_count": 23,
     "metadata": {},
     "output_type": "execute_result"
    }
   ],
   "source": [
    "x.shape"
   ]
  },
  {
   "cell_type": "code",
   "execution_count": 24,
   "id": "16dd4f11-d2af-41c0-9f25-f4b74040d376",
   "metadata": {},
   "outputs": [
    {
     "data": {
      "text/plain": [
       "torch.Size([1, 400])"
      ]
     },
     "execution_count": 24,
     "metadata": {},
     "output_type": "execute_result"
    }
   ],
   "source": [
    "# flatten the data for the fully connected layers.\n",
    "\n",
    "x.view(-1, 16*5*5).shape"
   ]
  },
  {
   "cell_type": "code",
   "execution_count": 25,
   "id": "11803f71-f4c5-4e60-bcc2-8c5c1d27d211",
   "metadata": {},
   "outputs": [],
   "source": [
    "class ConvolutionalNetwork(nn.Module):\n",
    "\n",
    "    def __init__(self):\n",
    "        super().__init__()\n",
    "        self.conv1 = nn.Conv2d(1, 6, 3, 1)\n",
    "        self.conv2 = nn.Conv2d(6, 16, 3, 1)\n",
    "        self.fc1 = nn.Linear(5*5*16, 120)\n",
    "        self.fc2 = nn.Linear(120, 84)\n",
    "        self.fc3 = nn.Linear(84, 10)\n",
    "\n",
    "    def forward(self, X):\n",
    "        X = F.relu(self.conv1(X))\n",
    "        X = F.max_pool2d(X, 2, 2)\n",
    "        X = F.relu(self.conv2(X))\n",
    "        X = F.max_pool2d(X, 2, 2)\n",
    "        X = X.view(-1, 16*5*5)\n",
    "        X = F.relu(self.fc1(X))\n",
    "        X = F.relu(self.fc2(X))\n",
    "        X = self.fc3(X)\n",
    "        return F.log_softmax(X, dim=1)"
   ]
  },
  {
   "cell_type": "code",
   "execution_count": 26,
   "id": "d1f68cf3-ec92-4607-843a-582f9a42c638",
   "metadata": {},
   "outputs": [
    {
     "data": {
      "text/plain": [
       "ConvolutionalNetwork(\n",
       "  (conv1): Conv2d(1, 6, kernel_size=(3, 3), stride=(1, 1))\n",
       "  (conv2): Conv2d(6, 16, kernel_size=(3, 3), stride=(1, 1))\n",
       "  (fc1): Linear(in_features=400, out_features=120, bias=True)\n",
       "  (fc2): Linear(in_features=120, out_features=84, bias=True)\n",
       "  (fc3): Linear(in_features=84, out_features=10, bias=True)\n",
       ")"
      ]
     },
     "execution_count": 26,
     "metadata": {},
     "output_type": "execute_result"
    }
   ],
   "source": [
    "torch.manual_seed(42)\n",
    "model = ConvolutionalNetwork()\n",
    "model"
   ]
  },
  {
   "cell_type": "code",
   "execution_count": 27,
   "id": "86d51555-7712-4283-b342-f4b0af94cbd1",
   "metadata": {},
   "outputs": [
    {
     "name": "stdout",
     "output_type": "stream",
     "text": [
      "54\n",
      "6\n",
      "864\n",
      "16\n",
      "48000\n",
      "120\n",
      "10080\n",
      "84\n",
      "840\n",
      "10\n"
     ]
    }
   ],
   "source": [
    "for param in model.parameters():\n",
    "    print(param.numel())"
   ]
  },
  {
   "cell_type": "code",
   "execution_count": 28,
   "id": "34505f91-f25f-43dc-a024-7ba4f9d936d5",
   "metadata": {},
   "outputs": [],
   "source": [
    "criterion = nn.CrossEntropyLoss()\n",
    "optimizer = torch.optim.Adam(model.parameters(), lr=0.001)"
   ]
  },
  {
   "cell_type": "code",
   "execution_count": 29,
   "id": "52fff727-1c02-414c-8e0a-b12d51883ee8",
   "metadata": {},
   "outputs": [
    {
     "name": "stdout",
     "output_type": "stream",
     "text": [
      "Epoch: 1 Batch: 600 Loss: 0.04255056381225586\n",
      "Epoch: 1 Batch: 1200 Loss: 0.0794181376695633\n",
      "Epoch: 1 Batch: 1800 Loss: 0.3165969252586365\n",
      "Epoch: 1 Batch: 2400 Loss: 0.017571639269590378\n",
      "Epoch: 1 Batch: 3000 Loss: 0.006613227538764477\n",
      "Epoch: 1 Batch: 3600 Loss: 0.0016816703137010336\n",
      "Epoch: 1 Batch: 4200 Loss: 0.48925676941871643\n",
      "Epoch: 1 Batch: 4800 Loss: 0.021427597850561142\n",
      "Epoch: 1 Batch: 5400 Loss: 0.008603979833424091\n",
      "Epoch: 1 Batch: 6000 Loss: 0.026711981743574142\n",
      "Epoch: 1 Batch: 600 Loss: 0.044457487761974335\n",
      "Epoch: 1 Batch: 1200 Loss: 0.03015129826962948\n",
      "Epoch: 1 Batch: 1800 Loss: 0.001719419495202601\n",
      "Epoch: 1 Batch: 2400 Loss: 0.06534458696842194\n",
      "Epoch: 1 Batch: 3000 Loss: 0.26260775327682495\n",
      "Epoch: 1 Batch: 3600 Loss: 0.0007888587424531579\n",
      "Epoch: 1 Batch: 4200 Loss: 0.0011536211241036654\n",
      "Epoch: 1 Batch: 4800 Loss: 0.0011205750051885843\n",
      "Epoch: 1 Batch: 5400 Loss: 0.0007562750251963735\n",
      "Epoch: 1 Batch: 6000 Loss: 0.012275089509785175\n",
      "Epoch: 1 Batch: 600 Loss: 0.001206874381750822\n",
      "Epoch: 1 Batch: 1200 Loss: 0.0029985965229570866\n",
      "Epoch: 1 Batch: 1800 Loss: 0.004635936580598354\n",
      "Epoch: 1 Batch: 2400 Loss: 0.004064029082655907\n",
      "Epoch: 1 Batch: 3000 Loss: 0.29111987352371216\n",
      "Epoch: 1 Batch: 3600 Loss: 0.0381595715880394\n",
      "Epoch: 1 Batch: 4200 Loss: 0.010457540862262249\n",
      "Epoch: 1 Batch: 4800 Loss: 0.01133883185684681\n",
      "Epoch: 1 Batch: 5400 Loss: 0.000622613588348031\n",
      "Epoch: 1 Batch: 6000 Loss: 3.998002648586407e-05\n",
      "Epoch: 1 Batch: 600 Loss: 0.0016217471566051245\n",
      "Epoch: 1 Batch: 1200 Loss: 0.0006642186199314892\n",
      "Epoch: 1 Batch: 1800 Loss: 0.00030786736169829965\n",
      "Epoch: 1 Batch: 2400 Loss: 0.0004445154336281121\n",
      "Epoch: 1 Batch: 3000 Loss: 0.000326675915857777\n",
      "Epoch: 1 Batch: 3600 Loss: 0.005568879656493664\n",
      "Epoch: 1 Batch: 4200 Loss: 0.00011772222205763683\n",
      "Epoch: 1 Batch: 4800 Loss: 0.08951801806688309\n",
      "Epoch: 1 Batch: 5400 Loss: 0.0044916230253875256\n",
      "Epoch: 1 Batch: 6000 Loss: 0.002820191439241171\n",
      "Epoch: 1 Batch: 600 Loss: 0.005685443989932537\n",
      "Epoch: 1 Batch: 1200 Loss: 0.013331962749361992\n",
      "Epoch: 1 Batch: 1800 Loss: 3.697513238876127e-05\n",
      "Epoch: 1 Batch: 2400 Loss: 0.0005379559588618577\n",
      "Epoch: 1 Batch: 3000 Loss: 0.008066956885159016\n",
      "Epoch: 1 Batch: 3600 Loss: 0.0007357859285548329\n",
      "Epoch: 1 Batch: 4200 Loss: 0.01753297448158264\n",
      "Epoch: 1 Batch: 4800 Loss: 0.003405984491109848\n",
      "Epoch: 1 Batch: 5400 Loss: 3.0849747417960316e-05\n",
      "Epoch: 1 Batch: 6000 Loss: 0.0013714783126488328\n",
      "Training took 6.8124529679616295 minutes\n"
     ]
    }
   ],
   "source": [
    "import time\n",
    "start_time = time.time()\n",
    "\n",
    "# variables(trackers)\n",
    "epochs = 5\n",
    "train_losses = []\n",
    "test_losses = []\n",
    "train_correct = []\n",
    "test_correct = []\n",
    "\n",
    "# for loop epochs\n",
    "for i in range(epochs):\n",
    "\n",
    "    train_corr = 0\n",
    "    test_corr = 0\n",
    "\n",
    "    # train\n",
    "    for b, (X_train, y_train) in enumerate(train_loader):\n",
    "        b += 1\n",
    "\n",
    "        y_pred = model(X_train)\n",
    "        loss = criterion(y_pred, y_train)\n",
    "\n",
    "        predicted = torch.max(y_pred.data, 1)[1]\n",
    "        batch_corr = (predicted == y_train).sum()\n",
    "        train_corr += batch_corr\n",
    "\n",
    "        optimizer.zero_grad()\n",
    "        loss.backward()\n",
    "        optimizer.step()\n",
    "\n",
    "        if b%600 == 0:\n",
    "            print(f'Epoch: {i} Batch: {b} Loss: {loss.item()}')\n",
    "\n",
    "    train_losses.append(loss)\n",
    "    train_correct.append(train_corr)\n",
    "\n",
    "    # Test\n",
    "    with torch.no_grad():\n",
    "        for b, (X_test, y_test) in enumerate(test_loader):\n",
    "\n",
    "            y_val = model(X_test)\n",
    "\n",
    "            predicted = torch.max(y_val.data, 1)[1]\n",
    "            test_corr += (predicted == y_test).sum()\n",
    "\n",
    "    loss = criterion(y_val, y_test)\n",
    "    test_losses.append(loss)\n",
    "    test_correct.append(test_corr)\n",
    "\n",
    "current_time = time.time()\n",
    "total = current_time - start_time\n",
    "print(f'Training took {total/60} minutes')"
   ]
  },
  {
   "cell_type": "code",
   "execution_count": 42,
   "id": "adf6bc9d-78f4-4bbf-8905-aca7684cc8fc",
   "metadata": {},
   "outputs": [
    {
     "data": {
      "text/plain": [
       "<matplotlib.legend.Legend at 0x2039ca62890>"
      ]
     },
     "execution_count": 42,
     "metadata": {},
     "output_type": "execute_result"
    },
    {
     "data": {
      "image/png": "[encoded data removed]",
      "text/plain": [
       "<Figure size 640x480 with 1 Axes>"
      ]
     },
     "metadata": {},
     "output_type": "display_data"
    }
   ],
   "source": [
    "# Convert list of tensors to a list of NumPy arrays\n",
    "train_losses = [loss.detach().cpu().numpy() if isinstance(loss, torch.Tensor) else loss for loss in train_losses]\n",
    "test_losses = [loss.detach().cpu().numpy() if isinstance(loss, torch.Tensor) else loss for loss in test_losses]\n",
    "plt.plot(train_losses, label='train loss')\n",
    "plt.plot(test_losses, label='validation loss')\n",
    "plt.title('LOSS AT EPOCH')\n",
    "plt.legend()"
   ]
  },
  {
   "cell_type": "code",
   "execution_count": 37,
   "id": "04c4bc2d-2192-43db-bb66-0a2c4022f2ba",
   "metadata": {},
   "outputs": [
    {
     "data": {
      "text/plain": [
       "<matplotlib.legend.Legend at 0x2039a014bd0>"
      ]
     },
     "execution_count": 37,
     "metadata": {},
     "output_type": "execute_result"
    },
    {
     "data": {
      "image/png": "[encoded data removed]",
      "text/plain": [
       "<Figure size 640x480 with 1 Axes>"
      ]
     },
     "metadata": {},
     "output_type": "display_data"
    }
   ],
   "source": [
    "plt.plot([t/600 for t in train_correct], label='training accuracy')\n",
    "plt.plot([t/100 for t in test_correct], label='validation accuracy')\n",
    "plt.title('Accuracy at the end of each epoch')\n",
    "plt.legend()"
   ]
  },
  {
   "cell_type": "code",
   "execution_count": 38,
   "id": "6e2464c7-a4c3-4633-a300-db0549d4fd3f",
   "metadata": {},
   "outputs": [],
   "source": [
    "test_load_all = DataLoader(test_data, batch_size=10000, shuffle=False)"
   ]
  },
  {
   "cell_type": "code",
   "execution_count": 39,
   "id": "27216217-28c6-40b6-97ba-4ce3e4236c60",
   "metadata": {},
   "outputs": [],
   "source": [
    "with torch.no_grad():\n",
    "    correct = 0\n",
    "    for X_test, y_test in test_load_all:\n",
    "        y_val = model(X_test)\n",
    "        predicted = torch.max(y_val, 1)[1]\n",
    "        correct += (predicted == y_test).sum()"
   ]
  },
  {
   "cell_type": "code",
   "execution_count": 40,
   "id": "84608436-b6e0-4bd2-8540-bc5a8d19d515",
   "metadata": {},
   "outputs": [
    {
     "data": {
      "text/plain": [
       "0.9863"
      ]
     },
     "execution_count": 40,
     "metadata": {},
     "output_type": "execute_result"
    }
   ],
   "source": [
    "correct.item()/len(test_data)"
   ]
  },
  {
   "cell_type": "code",
   "execution_count": null,
   "id": "057eaaa1-5cd6-48d4-acc0-97f145335449",
   "metadata": {},
   "outputs": [],
   "source": []
  }
 ],
 "metadata": {
  "kernelspec": {
   "display_name": "Python 3 (ipykernel)",
   "language": "python",
   "name": "python3"
  },
  "language_info": {
   "codemirror_mode": {
    "name": "ipython",
    "version": 3
   },
   "file_extension": ".py",
   "mimetype": "text/x-python",
   "name": "python",
   "nbconvert_exporter": "python",
   "pygments_lexer": "ipython3",
   "version": "3.11.5"
  }
 },
 "nbformat": 4,
 "nbformat_minor": 5
}
